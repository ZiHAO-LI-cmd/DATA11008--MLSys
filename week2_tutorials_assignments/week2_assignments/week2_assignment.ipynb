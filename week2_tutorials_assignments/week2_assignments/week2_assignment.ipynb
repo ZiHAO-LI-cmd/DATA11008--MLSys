{
 "cells": [
  {
   "cell_type": "markdown",
   "id": "6802fe72",
   "metadata": {},
   "source": [
    "# Week 2 assignments \n",
    "In this week's assignments, you will practice data cleaning and validation, feature extraction, and feature engineering. You will use Pandas to write scripts to automate the data wrangling parts and [Great Expectations](https://greatexpectations.io/) for data validation.\n",
    "\n",
    "**Guidelines for submitting assignments**:\n",
    "- For each assignment, a code skeleton is provided. Please put your solutions in between the `### START CODE HERE` and `### END CODE HERE` code comments. \n",
    "- Some assignments also require you to answer questions or capture screenshots in order to earn points. Please put all your answers and the required screenshots into a single PDF file. For each answer or screenshot, please clearly indicate which assignment it corresponds to in your PDF file. \n",
    "- When preparing your submission, be sure to include your assignment notebook with code cell outputs. It's important that these outputs are current and reflect the latest state of your code, as your grades may depend on them. Additionally, please include the PDF file that contains your answers and screenshots in your submission. In the last assignment, you will need to add some code to `etl.py`. Besides this assignment notebook and the PDF file, please also include `etl.py` in your submission. "
   ]
  },
  {
   "cell_type": "markdown",
   "id": "226046f6",
   "metadata": {},
   "source": [
    "Import all the packages needed in the assignments and set global variables."
   ]
  },
  {
   "cell_type": "code",
   "execution_count": 4,
   "id": "d8dfe776",
   "metadata": {},
   "outputs": [],
   "source": [
    "import pickle\n",
    "from pathlib import Path\n",
    "from typing import Tuple, List, Optional\n",
    "\n",
    "import pandas as pd\n",
    "import numpy as np\n",
    "import matplotlib.pyplot as plt\n",
    "import great_expectations as gx\n",
    "\n",
    "from IPython.display import display\n",
    "\n",
    "from sklearn.ensemble import RandomForestRegressor\n",
    "from sklearn.experimental import enable_iterative_imputer\n",
    "from sklearn.impute import IterativeImputer\n",
    "from sklearn.preprocessing import TargetEncoder\n",
    "\n",
    "from thefuzz import fuzz, process\n",
    "\n",
    "from great_expectations.data_context import EphemeralDataContext, FileDataContext\n",
    "from great_expectations.datasource.fluent import BatchRequest\n",
    "from great_expectations.exceptions import DataContextError\n",
    "from great_expectations.expectations.expectation import Expectation\n",
    "from great_expectations.checkpoint.types.checkpoint_result import CheckpointResult\n",
    "\n",
    "\n",
    "# Random seed for making the assignments reproducible\n",
    "RANDOM_SEED = 42\n",
    "\n",
    "# Path of current working directory\n",
    "WORKING_DIR = Path.cwd()\n"
   ]
  },
  {
   "cell_type": "markdown",
   "id": "3c55b4eb",
   "metadata": {},
   "source": [
    "## Assignment 1: Data extraction (2 points)\n",
    "We will be working with a synthetic housing price dataset (based on [this](https://www.kaggle.com/datasets/htagholdings/property-sales) and [this](https://www.kaggle.com/datasets/harlfoxem/housesalesprediction) dataset), which lists house prices at the Canberra area in Australia from 2009 to 2016. The data description is provided in the file [Data_description.csv](./Data_description.csv). We will use this dataset to train a regression model to predict prices of houses given some info about the houses. \n",
    "\n",
    "### 1a) Load the data\n",
    "Let's first load the training dataset, which consists of two files. The file `deals.csv` holds the price information for the sold houses along with some minor information about the houses. The file `house_info.json` has more detailed information about the houses. Complete the function `file_reader` that loads both files into Pandas DataFrames. \n",
    "\n",
    "Hints:\n",
    "1. The `.json` file is saved in a \"list-like\" format, use parameter \"`orient='records'`\".\n"
   ]
  },
  {
   "cell_type": "code",
<<<<<<< HEAD
   "execution_count": 5,
=======
   "execution_count": 2,
>>>>>>> 2dc71ae (update)
   "id": "30cf832a",
   "metadata": {},
   "outputs": [],
   "source": [
    "def file_reader(path: Path) -> Tuple[pd.DataFrame, pd.DataFrame]:\n",
    "    \"\"\"\n",
    "    Read files of deals and house information into DataFrames\n",
    "    Args:\n",
    "        path (Path): Path to the folder where the files exist.\n",
    "    Returns:\n",
    "        a tuple consisting of a Pandas DataFrame of deals and a Pandas DataFrame of house information\n",
    "    \"\"\"\n",
    "    \n",
    "    price_file_path = path / \"deals.csv\"\n",
    "    house_file_path = path / \"house_info.json\" \n",
    "\n",
    "    ### START CODE HERE\n",
    "    return (pd.read_csv(price_file_path), pd.read_json(house_file_path))\n",
    "    ### END CODE HERE\n",
    "\n"
   ]
  },
  {
   "cell_type": "markdown",
   "id": "31d020c5",
   "metadata": {},
   "source": [
    "Now, run the cell below to call the function you just created. Let's take a quick look at the DataFrames."
   ]
  },
  {
   "cell_type": "code",
<<<<<<< HEAD
   "execution_count": 6,
=======
   "execution_count": 3,
>>>>>>> 2dc71ae (update)
   "id": "772e7e2d",
   "metadata": {},
   "outputs": [
    {
     "name": "stdout",
     "output_type": "stream",
     "text": [
      "DataFrame 'price' (11046 rows):\n"
     ]
    },
    {
     "data": {
      "text/html": [
       "<div>\n",
       "<style scoped>\n",
       "    .dataframe tbody tr th:only-of-type {\n",
       "        vertical-align: middle;\n",
       "    }\n",
       "\n",
       "    .dataframe tbody tr th {\n",
       "        vertical-align: top;\n",
       "    }\n",
       "\n",
       "    .dataframe thead th {\n",
       "        text-align: right;\n",
       "    }\n",
       "</style>\n",
       "<table border=\"1\" class=\"dataframe\">\n",
       "  <thead>\n",
       "    <tr style=\"text-align: right;\">\n",
       "      <th></th>\n",
       "      <th>datesold</th>\n",
       "      <th>price</th>\n",
       "      <th>building_year</th>\n",
       "      <th>bedrooms</th>\n",
       "      <th>postcode</th>\n",
       "      <th>area</th>\n",
       "    </tr>\n",
       "  </thead>\n",
       "  <tbody>\n",
       "    <tr>\n",
       "      <th>0</th>\n",
       "      <td>01-April-2009</td>\n",
       "      <td>437100</td>\n",
       "      <td>1977</td>\n",
       "      <td>4</td>\n",
       "      <td>2906</td>\n",
       "      <td>Conder</td>\n",
       "    </tr>\n",
       "    <tr>\n",
       "      <th>1</th>\n",
       "      <td>01-April-2009</td>\n",
       "      <td>461300</td>\n",
       "      <td>1969</td>\n",
       "      <td>4</td>\n",
       "      <td>2615</td>\n",
       "      <td>Kippax Centre</td>\n",
       "    </tr>\n",
       "    <tr>\n",
       "      <th>2</th>\n",
       "      <td>01-April-2009</td>\n",
       "      <td>280900</td>\n",
       "      <td>1966</td>\n",
       "      <td>3</td>\n",
       "      <td>2615</td>\n",
       "      <td>Higgins</td>\n",
       "    </tr>\n",
       "    <tr>\n",
       "      <th>3</th>\n",
       "      <td>01-April-2009</td>\n",
       "      <td>351600</td>\n",
       "      <td>1978</td>\n",
       "      <td>3</td>\n",
       "      <td>2620</td>\n",
       "      <td>Tinderry</td>\n",
       "    </tr>\n",
       "    <tr>\n",
       "      <th>4</th>\n",
       "      <td>01-April-2009</td>\n",
       "      <td>431300</td>\n",
       "      <td>2005</td>\n",
       "      <td>3</td>\n",
       "      <td>2914</td>\n",
       "      <td>Bonner</td>\n",
       "    </tr>\n",
       "  </tbody>\n",
       "</table>\n",
       "</div>"
      ],
      "text/plain": [
       "        datesold   price  building_year  bedrooms  postcode           area\n",
       "0  01-April-2009  437100           1977         4      2906         Conder\n",
       "1  01-April-2009  461300           1969         4      2615  Kippax Centre\n",
       "2  01-April-2009  280900           1966         3      2615        Higgins\n",
       "3  01-April-2009  351600           1978         3      2620       Tinderry\n",
       "4  01-April-2009  431300           2005         3      2914         Bonner"
      ]
     },
     "metadata": {},
     "output_type": "display_data"
    },
    {
     "name": "stdout",
     "output_type": "stream",
     "text": [
      "\n",
      "DataFrame 'house_data' (11046 rows):\n"
     ]
    },
    {
     "data": {
      "text/html": [
       "<div>\n",
       "<style scoped>\n",
       "    .dataframe tbody tr th:only-of-type {\n",
       "        vertical-align: middle;\n",
       "    }\n",
       "\n",
       "    .dataframe tbody tr th {\n",
       "        vertical-align: top;\n",
       "    }\n",
       "\n",
       "    .dataframe thead th {\n",
       "        text-align: right;\n",
       "    }\n",
       "</style>\n",
       "<table border=\"1\" class=\"dataframe\">\n",
       "  <thead>\n",
       "    <tr style=\"text-align: right;\">\n",
       "      <th></th>\n",
       "      <th>date</th>\n",
       "      <th>postcode</th>\n",
       "      <th>area</th>\n",
       "      <th>bedrooms</th>\n",
       "      <th>bathrooms</th>\n",
       "      <th>yr_built</th>\n",
       "      <th>yr_renovated</th>\n",
       "      <th>condition</th>\n",
       "      <th>grade</th>\n",
       "      <th>floors</th>\n",
       "      <th>sqft_living</th>\n",
       "      <th>sqft_lot</th>\n",
       "      <th>sqft_above</th>\n",
       "      <th>sqft_basement</th>\n",
       "      <th>sqft_living15</th>\n",
       "      <th>sqft_lot15</th>\n",
       "      <th>waterfront</th>\n",
       "      <th>view</th>\n",
       "      <th>distance</th>\n",
       "      <th>prev_owner</th>\n",
       "    </tr>\n",
       "  </thead>\n",
       "  <tbody>\n",
       "    <tr>\n",
       "      <th>0</th>\n",
       "      <td>2011-10-24</td>\n",
       "      <td>2906</td>\n",
       "      <td>Gordon</td>\n",
       "      <td>4</td>\n",
       "      <td>3.00</td>\n",
       "      <td>1997</td>\n",
       "      <td>NaN</td>\n",
       "      <td>Satisfactory</td>\n",
       "      <td>9</td>\n",
       "      <td>2.0</td>\n",
       "      <td>2875</td>\n",
       "      <td>13413</td>\n",
       "      <td>2875</td>\n",
       "      <td>0</td>\n",
       "      <td>2765.0</td>\n",
       "      <td>13500.0</td>\n",
       "      <td>0</td>\n",
       "      <td>0</td>\n",
       "      <td>20.10</td>\n",
       "      <td>Gregory</td>\n",
       "    </tr>\n",
       "    <tr>\n",
       "      <th>1</th>\n",
       "      <td>2010-10-02</td>\n",
       "      <td>2605</td>\n",
       "      <td>Curtin</td>\n",
       "      <td>4</td>\n",
       "      <td>2.00</td>\n",
       "      <td>1927</td>\n",
       "      <td>NaN</td>\n",
       "      <td>Good</td>\n",
       "      <td>8</td>\n",
       "      <td>2.0</td>\n",
       "      <td>2450</td>\n",
       "      <td>5346</td>\n",
       "      <td>1940</td>\n",
       "      <td>510</td>\n",
       "      <td>2200.0</td>\n",
       "      <td>5535.0</td>\n",
       "      <td>0</td>\n",
       "      <td>0</td>\n",
       "      <td>7.62</td>\n",
       "      <td>Barrett</td>\n",
       "    </tr>\n",
       "    <tr>\n",
       "      <th>2</th>\n",
       "      <td>2015-09-25</td>\n",
       "      <td>2615</td>\n",
       "      <td>Macgregor</td>\n",
       "      <td>3</td>\n",
       "      <td>1.75</td>\n",
       "      <td>1976</td>\n",
       "      <td>NaN</td>\n",
       "      <td>Satisfactory</td>\n",
       "      <td>7</td>\n",
       "      <td>1.0</td>\n",
       "      <td>1735</td>\n",
       "      <td>8048</td>\n",
       "      <td>1235</td>\n",
       "      <td>500</td>\n",
       "      <td>1734.0</td>\n",
       "      <td>7649.0</td>\n",
       "      <td>0</td>\n",
       "      <td>0</td>\n",
       "      <td>13.04</td>\n",
       "      <td>Bowman</td>\n",
       "    </tr>\n",
       "    <tr>\n",
       "      <th>3</th>\n",
       "      <td>2011-11-03</td>\n",
       "      <td>2906</td>\n",
       "      <td>Banks</td>\n",
       "      <td>4</td>\n",
       "      <td>2.00</td>\n",
       "      <td>1977</td>\n",
       "      <td>NaN</td>\n",
       "      <td>Satisfactory</td>\n",
       "      <td>8</td>\n",
       "      <td>1.0</td>\n",
       "      <td>2555</td>\n",
       "      <td>12448</td>\n",
       "      <td>1585</td>\n",
       "      <td>970</td>\n",
       "      <td>2341.0</td>\n",
       "      <td>10026.0</td>\n",
       "      <td>0</td>\n",
       "      <td>0</td>\n",
       "      <td>21.40</td>\n",
       "      <td>Wilson</td>\n",
       "    </tr>\n",
       "    <tr>\n",
       "      <th>4</th>\n",
       "      <td>2014-12-16</td>\n",
       "      <td>2914</td>\n",
       "      <td>Bonner</td>\n",
       "      <td>3</td>\n",
       "      <td>2.50</td>\n",
       "      <td>2004</td>\n",
       "      <td>NaN</td>\n",
       "      <td>Satisfactory</td>\n",
       "      <td>8</td>\n",
       "      <td>2.5</td>\n",
       "      <td>1590</td>\n",
       "      <td>1750</td>\n",
       "      <td>1410</td>\n",
       "      <td>180</td>\n",
       "      <td>1588.0</td>\n",
       "      <td>2120.0</td>\n",
       "      <td>0</td>\n",
       "      <td>0</td>\n",
       "      <td>14.01</td>\n",
       "      <td>Allen</td>\n",
       "    </tr>\n",
       "  </tbody>\n",
       "</table>\n",
       "</div>"
      ],
      "text/plain": [
       "        date  postcode       area  bedrooms  bathrooms  yr_built  \\\n",
       "0 2011-10-24      2906     Gordon         4       3.00      1997   \n",
       "1 2010-10-02      2605     Curtin         4       2.00      1927   \n",
       "2 2015-09-25      2615  Macgregor         3       1.75      1976   \n",
       "3 2011-11-03      2906      Banks         4       2.00      1977   \n",
       "4 2014-12-16      2914     Bonner         3       2.50      2004   \n",
       "\n",
       "   yr_renovated     condition  grade  floors  sqft_living  sqft_lot  \\\n",
       "0           NaN  Satisfactory      9     2.0         2875     13413   \n",
       "1           NaN          Good      8     2.0         2450      5346   \n",
       "2           NaN  Satisfactory      7     1.0         1735      8048   \n",
       "3           NaN  Satisfactory      8     1.0         2555     12448   \n",
       "4           NaN  Satisfactory      8     2.5         1590      1750   \n",
       "\n",
       "   sqft_above  sqft_basement  sqft_living15  sqft_lot15  waterfront  view  \\\n",
       "0        2875              0         2765.0     13500.0           0     0   \n",
       "1        1940            510         2200.0      5535.0           0     0   \n",
       "2        1235            500         1734.0      7649.0           0     0   \n",
       "3        1585            970         2341.0     10026.0           0     0   \n",
       "4        1410            180         1588.0      2120.0           0     0   \n",
       "\n",
       "   distance prev_owner  \n",
       "0     20.10    Gregory  \n",
       "1      7.62    Barrett  \n",
       "2     13.04     Bowman  \n",
       "3     21.40     Wilson  \n",
       "4     14.01      Allen  "
      ]
     },
     "metadata": {},
     "output_type": "display_data"
    }
   ],
   "source": [
    "train_path = WORKING_DIR / \"data\" / \"reference\" / \"train\"\n",
    "prices, house_data = file_reader(train_path)\n",
    "\n",
    "print(f\"DataFrame 'price' ({prices.shape[0]} rows):\") \n",
    "display(prices.head())\n",
    "print(f\"\\nDataFrame 'house_data' ({house_data.shape[0]} rows):\") \n",
    "display(house_data.head())"
   ]
  },
  {
   "cell_type": "markdown",
   "id": "592fd040",
   "metadata": {},
   "source": [
    "Expected outputs:\n",
    "\n",
    "<img src=\"./images/ex1-outputs.png\" width=1200/>"
   ]
  },
  {
   "cell_type": "markdown",
   "id": "3932e443",
   "metadata": {},
   "source": [
    "It seems that both DataFrames share a date column as well as four other columns (building year, number of bedrooms, postcode and area), so we can use these columns to merge the datasets into one. To be able to do so, we need to make sure the column names and types are same in both DataFrames.\n",
    "\n",
    "### 1b) Check column types\n",
    "Let's first check the data type of the shared columns. Complete the `show_col_dtype` function to print the dtype of a given column of a given DataFrame."
   ]
  },
  {
   "cell_type": "code",
<<<<<<< HEAD
   "execution_count": 7,
=======
   "execution_count": 4,
>>>>>>> 2dc71ae (update)
   "id": "bc30a19e",
   "metadata": {},
   "outputs": [],
   "source": [
    "def show_col_dtype(df: pd.DataFrame, col_name: str) -> None:\n",
    "    \"\"\"\n",
    "    Print the dtype of a column of a DataFrame\n",
    "    Args:\n",
    "        df (DataFrame): The DataFrame whose column needs to be checked\n",
    "        col_name(str): the name of the column to be checked\n",
    "    \"\"\"\n",
    "    ### START CODE HERE\n",
    "    col_type = df[col_name].dtype\n",
    "    ### END CODE HERE\n",
    "\n",
    "    print(f\"The dtype of column {col_name} is: {col_type} \")\n",
    "\n"
   ]
  },
  {
   "cell_type": "code",
<<<<<<< HEAD
   "execution_count": 8,
=======
   "execution_count": 5,
>>>>>>> 2dc71ae (update)
   "id": "c97fa2f1",
   "metadata": {},
   "outputs": [
    {
     "name": "stdout",
     "output_type": "stream",
     "text": [
      "The dtype of column datesold is: object \n",
      "The dtype of column date is: datetime64[ns] \n",
      "The dtype of column building_year is: int64 \n",
      "The dtype of column yr_built is: int64 \n",
      "The dtype of column bedrooms is: int64 \n",
      "The dtype of column bedrooms is: int64 \n",
      "The dtype of column postcode is: int64 \n",
      "The dtype of column postcode is: int64 \n",
      "The dtype of column area is: object \n",
      "The dtype of column area is: object \n"
     ]
    }
   ],
   "source": [
    "# date column\n",
    "show_col_dtype(prices, \"datesold\")\n",
    "show_col_dtype(house_data, \"date\")\n",
    "\n",
    "# building year column\n",
    "show_col_dtype(prices, \"building_year\")\n",
    "show_col_dtype(house_data, \"yr_built\")\n",
    "\n",
    "# bedroom number column\n",
    "show_col_dtype(prices, \"bedrooms\")\n",
    "show_col_dtype(house_data, \"bedrooms\")\n",
    "\n",
    "# postcode column\n",
    "show_col_dtype(prices, \"postcode\")\n",
    "show_col_dtype(house_data, \"postcode\")\n",
    "\n",
    "# area column\n",
    "show_col_dtype(prices, \"area\")\n",
    "show_col_dtype(house_data, \"area\")\n"
   ]
  },
  {
   "cell_type": "markdown",
   "id": "830f2081",
   "metadata": {},
   "source": [
    "From the output, you should see that only the date columns have different dtypes:\n",
    "\n",
    "The dtype of column datesold is: object \n",
    "\n",
    "The dtype of column date is: datetime64[ns] "
   ]
  },
  {
   "cell_type": "markdown",
   "id": "330080d0",
   "metadata": {},
   "source": [
    "### 1c) Merge price and house_data DataFrames\n",
    "Now, it seems that only the column `datesold` needs to be converted to datetime format. Additionally, one of the building year columns needs to be renamed to the same as the other one. Do the following in the `dataframe_merge` function:\n",
    "1. Convert the `datesold` column in the price DataFrame into `panda.datetime` format and store it in a new column named 'date' in the same DataFrame. (Do not delete the `datesold` column for now.)\n",
    "1. Rename the column `building_year` to `yr_built` in the price DataFrame.\n",
    "1. Merge the DataFrames using columns `date`, `postcode`, `bedrooms`, `area` and `yr_built` as keys.\n",
    "\n",
    "The following functions may be helpful:\n",
    "- [pandas.to_datetime](https://pandas.pydata.org/pandas-docs/version/1.4/reference/api/pandas.to_datetime.html)\n",
    "- [pandas.DataFrame.rename](https://pandas.pydata.org/pandas-docs/version/1.4/reference/api/pandas.DataFrame.rename.html)\n",
    "- [pandas.merge](https://pandas.pydata.org/pandas-docs/version/1.4/reference/api/pandas.DataFrame.merge.html)\n",
    "\n",
    "NOTE: _In reality, we could not rely on these 5 columns to form a unique indicator for the merge to succeed. However, in the scope of this exercise we know a priori that this property holds for our data._  "
   ]
  },
  {
   "cell_type": "code",
<<<<<<< HEAD
   "execution_count": 9,
=======
   "execution_count": 6,
>>>>>>> 2dc71ae (update)
   "id": "dc10b52d",
   "metadata": {},
   "outputs": [],
   "source": [
    "def dataframe_merger(prices: pd.DataFrame, house_data: pd.DataFrame) -> pd.DataFrame:\n",
    "    \"\"\"\n",
    "    Merge the two DataFrames given as inputs\n",
    "    Args:\n",
    "        prices (DataFrame): A pandas DataFrame holding the price information\n",
    "        house_data (DataFrame): A pandas DataFrame holding the detailed information about the sold houses\n",
    "    Returns:\n",
    "        df: The merged pandas DataFrame\n",
    "    \"\"\"\n",
    "\n",
    "    ### START CODE HERE\n",
    "    prices['date'] = pd.to_datetime(prices['datesold'])\n",
    "    prices.rename(columns={'building_year': 'yr_built'}, inplace=True)\n",
    "    merged_df = pd.merge(prices, house_data, on=['date', 'postcode', 'bedrooms', 'area', 'yr_built'], how='inner')\n",
    "    return merged_df\n",
    "    ### END CODE HERE\n"
   ]
  },
  {
   "cell_type": "code",
<<<<<<< HEAD
   "execution_count": 10,
=======
   "execution_count": 7,
>>>>>>> 2dc71ae (update)
   "id": "567aa088",
   "metadata": {},
   "outputs": [
    {
     "name": "stdout",
     "output_type": "stream",
     "text": [
      "DataFrame 'train_df' (11046 rows):\n"
     ]
    },
    {
     "data": {
      "text/html": [
       "<div>\n",
       "<style scoped>\n",
       "    .dataframe tbody tr th:only-of-type {\n",
       "        vertical-align: middle;\n",
       "    }\n",
       "\n",
       "    .dataframe tbody tr th {\n",
       "        vertical-align: top;\n",
       "    }\n",
       "\n",
       "    .dataframe thead th {\n",
       "        text-align: right;\n",
       "    }\n",
       "</style>\n",
       "<table border=\"1\" class=\"dataframe\">\n",
       "  <thead>\n",
       "    <tr style=\"text-align: right;\">\n",
       "      <th></th>\n",
       "      <th>datesold</th>\n",
       "      <th>price</th>\n",
       "      <th>yr_built</th>\n",
       "      <th>bedrooms</th>\n",
       "      <th>postcode</th>\n",
       "      <th>area</th>\n",
       "      <th>date</th>\n",
       "      <th>bathrooms</th>\n",
       "      <th>yr_renovated</th>\n",
       "      <th>condition</th>\n",
       "      <th>...</th>\n",
       "      <th>sqft_living</th>\n",
       "      <th>sqft_lot</th>\n",
       "      <th>sqft_above</th>\n",
       "      <th>sqft_basement</th>\n",
       "      <th>sqft_living15</th>\n",
       "      <th>sqft_lot15</th>\n",
       "      <th>waterfront</th>\n",
       "      <th>view</th>\n",
       "      <th>distance</th>\n",
       "      <th>prev_owner</th>\n",
       "    </tr>\n",
       "  </thead>\n",
       "  <tbody>\n",
       "    <tr>\n",
       "      <th>0</th>\n",
       "      <td>01-April-2009</td>\n",
       "      <td>437100</td>\n",
       "      <td>1977</td>\n",
       "      <td>4</td>\n",
       "      <td>2906</td>\n",
       "      <td>Conder</td>\n",
       "      <td>2009-04-01</td>\n",
       "      <td>2.50</td>\n",
       "      <td>NaN</td>\n",
       "      <td>satisfactory</td>\n",
       "      <td>...</td>\n",
       "      <td>2280</td>\n",
       "      <td>8694</td>\n",
       "      <td>1380</td>\n",
       "      <td>900</td>\n",
       "      <td>1877.0</td>\n",
       "      <td>8052.0</td>\n",
       "      <td>0</td>\n",
       "      <td>0</td>\n",
       "      <td>20.14</td>\n",
       "      <td>Bailey</td>\n",
       "    </tr>\n",
       "    <tr>\n",
       "      <th>1</th>\n",
       "      <td>01-April-2009</td>\n",
       "      <td>461300</td>\n",
       "      <td>1969</td>\n",
       "      <td>4</td>\n",
       "      <td>2615</td>\n",
       "      <td>Kippax Centre</td>\n",
       "      <td>2009-04-01</td>\n",
       "      <td>2.25</td>\n",
       "      <td>NaN</td>\n",
       "      <td>Satisfactory</td>\n",
       "      <td>...</td>\n",
       "      <td>2220</td>\n",
       "      <td>14833</td>\n",
       "      <td>1610</td>\n",
       "      <td>610</td>\n",
       "      <td>2202.0</td>\n",
       "      <td>12620.0</td>\n",
       "      <td>0</td>\n",
       "      <td>0</td>\n",
       "      <td>11.74</td>\n",
       "      <td>Buckley</td>\n",
       "    </tr>\n",
       "    <tr>\n",
       "      <th>2</th>\n",
       "      <td>01-April-2009</td>\n",
       "      <td>280900</td>\n",
       "      <td>1966</td>\n",
       "      <td>3</td>\n",
       "      <td>2615</td>\n",
       "      <td>Higgins</td>\n",
       "      <td>2009-04-01</td>\n",
       "      <td>1.25</td>\n",
       "      <td>NaN</td>\n",
       "      <td>Satisfactory</td>\n",
       "      <td>...</td>\n",
       "      <td>1130</td>\n",
       "      <td>8867</td>\n",
       "      <td>1130</td>\n",
       "      <td>0</td>\n",
       "      <td>1466.0</td>\n",
       "      <td>8594.0</td>\n",
       "      <td>0</td>\n",
       "      <td>0</td>\n",
       "      <td>10.90</td>\n",
       "      <td>Morgan</td>\n",
       "    </tr>\n",
       "    <tr>\n",
       "      <th>3</th>\n",
       "      <td>01-April-2009</td>\n",
       "      <td>351600</td>\n",
       "      <td>1978</td>\n",
       "      <td>3</td>\n",
       "      <td>2620</td>\n",
       "      <td>Tinderry</td>\n",
       "      <td>2009-04-01</td>\n",
       "      <td>2.00</td>\n",
       "      <td>NaN</td>\n",
       "      <td>Satisfactory</td>\n",
       "      <td>...</td>\n",
       "      <td>1800</td>\n",
       "      <td>11431</td>\n",
       "      <td>1420</td>\n",
       "      <td>380</td>\n",
       "      <td>2032.0</td>\n",
       "      <td>11044.0</td>\n",
       "      <td>0</td>\n",
       "      <td>0</td>\n",
       "      <td>9.48</td>\n",
       "      <td>Cumming</td>\n",
       "    </tr>\n",
       "    <tr>\n",
       "      <th>4</th>\n",
       "      <td>01-April-2009</td>\n",
       "      <td>431300</td>\n",
       "      <td>2005</td>\n",
       "      <td>3</td>\n",
       "      <td>2914</td>\n",
       "      <td>Bonner</td>\n",
       "      <td>2009-04-01</td>\n",
       "      <td>2.00</td>\n",
       "      <td>NaN</td>\n",
       "      <td>Satisfactory</td>\n",
       "      <td>...</td>\n",
       "      <td>1795</td>\n",
       "      <td>2248</td>\n",
       "      <td>1635</td>\n",
       "      <td>160</td>\n",
       "      <td>1784.0</td>\n",
       "      <td>2714.0</td>\n",
       "      <td>0</td>\n",
       "      <td>0</td>\n",
       "      <td>13.02</td>\n",
       "      <td>Roberts</td>\n",
       "    </tr>\n",
       "  </tbody>\n",
       "</table>\n",
       "<p>5 rows × 22 columns</p>\n",
       "</div>"
      ],
      "text/plain": [
       "        datesold   price  yr_built  bedrooms  postcode           area  \\\n",
       "0  01-April-2009  437100      1977         4      2906         Conder   \n",
       "1  01-April-2009  461300      1969         4      2615  Kippax Centre   \n",
       "2  01-April-2009  280900      1966         3      2615        Higgins   \n",
       "3  01-April-2009  351600      1978         3      2620       Tinderry   \n",
       "4  01-April-2009  431300      2005         3      2914         Bonner   \n",
       "\n",
       "        date  bathrooms  yr_renovated     condition  ...  sqft_living  \\\n",
       "0 2009-04-01       2.50           NaN  satisfactory  ...         2280   \n",
       "1 2009-04-01       2.25           NaN  Satisfactory  ...         2220   \n",
       "2 2009-04-01       1.25           NaN  Satisfactory  ...         1130   \n",
       "3 2009-04-01       2.00           NaN  Satisfactory  ...         1800   \n",
       "4 2009-04-01       2.00           NaN  Satisfactory  ...         1795   \n",
       "\n",
       "   sqft_lot  sqft_above  sqft_basement  sqft_living15  sqft_lot15  waterfront  \\\n",
       "0      8694        1380            900         1877.0      8052.0           0   \n",
       "1     14833        1610            610         2202.0     12620.0           0   \n",
       "2      8867        1130              0         1466.0      8594.0           0   \n",
       "3     11431        1420            380         2032.0     11044.0           0   \n",
       "4      2248        1635            160         1784.0      2714.0           0   \n",
       "\n",
       "   view  distance  prev_owner  \n",
       "0     0     20.14      Bailey  \n",
       "1     0     11.74     Buckley  \n",
       "2     0     10.90      Morgan  \n",
       "3     0      9.48     Cumming  \n",
       "4     0     13.02     Roberts  \n",
       "\n",
       "[5 rows x 22 columns]"
      ]
     },
     "metadata": {},
     "output_type": "display_data"
    },
    {
     "name": "stdout",
     "output_type": "stream",
     "text": [
      "The merged DataFrame should have 22 columns: Index(['datesold', 'price', 'yr_built', 'bedrooms', 'postcode', 'area', 'date',\n",
      "       'bathrooms', 'yr_renovated', 'condition', 'grade', 'floors',\n",
      "       'sqft_living', 'sqft_lot', 'sqft_above', 'sqft_basement',\n",
      "       'sqft_living15', 'sqft_lot15', 'waterfront', 'view', 'distance',\n",
      "       'prev_owner'],\n",
      "      dtype='object')\n"
     ]
    }
   ],
   "source": [
    "train_df = dataframe_merger(prices, house_data)\n",
    "print(f\"DataFrame 'train_df' ({train_df.shape[0]} rows):\") \n",
    "display(train_df.head())\n",
    "print(f\"The merged DataFrame should have {len(train_df.columns)} columns: {train_df.columns}\")"
   ]
  },
  {
   "cell_type": "markdown",
   "id": "916c3282",
   "metadata": {},
   "source": [
    "Expected output:\n",
    "\n",
    "DataFrame 'train_df' (11046 rows):\n",
    "| | datesold | price | yr_built | bedrooms | postcode | area | date | bathrooms | yr_renovated | condition | ... | \n",
    "| :-: | :-: | :-: | :-: | :-: | :-: | :-: | :-: | :-: | :-: | :-: | :-: |\n",
    "| 0 | 01-April-2009 | 437100 | 1977 | 4 | 2906 | Conder | 2009-04-01 | 2.50 | NaN | satisfactory | ... | \n",
    "| 1 | 01-April-2009 | 461300 | 1969 | 4\t| 2615 | Kippax Centre | 2009-04-01 | 2.25 | NaN | Satisfactory\t| ... |\t\n",
    "| 2 | 01-April-2009 | 280900 | 1966 | 3\t| 2615 | Higgins | 2009-04-01 |\t1.25 | NaN | Satisfactory | ... |\t\n",
    "| 3 | 01-April-2009 | 351600 | 1978 | 3 | 2620 | Tinderry | 2009-04-01 | 2.00 |\tNaN | Satisfactory | ... |\t\n",
    "| 4 | 01-April-2009 | 431300 | 2005 | 3 | 2914 | Bonner | 2009-04-01 | 2.00\t| NaN | Satisfactory | ... |\t\n",
    "\n",
    "The merged DataFrame should have 22 columns: Index(['datesold', 'price', 'yr_built', 'bedrooms', 'postcode', 'area', 'date',\n",
    "       'bathrooms', 'yr_renovated', 'condition', 'grade', 'floors',\n",
    "       'sqft_living', 'sqft_lot', 'sqft_above', 'sqft_basement',\n",
    "       'sqft_living15', 'sqft_lot15', 'waterfront', 'view', 'distance',\n",
    "       'prev_owner'],\n",
    "      dtype='object')"
   ]
  },
  {
   "cell_type": "markdown",
   "id": "c1805063",
   "metadata": {},
   "source": [
    "## Assignment 2: Data cleaning (2 points)\n",
    "### 2a) Missing values\n",
    "We have successfully extracted our data, we need to do some cleaning. By now we've noticed there are missing values in some columns. Let's start by checking which columns contain missing values."
   ]
  },
  {
   "cell_type": "code",
<<<<<<< HEAD
   "execution_count": 11,
=======
   "execution_count": 8,
>>>>>>> 2dc71ae (update)
   "id": "f39b96c3",
   "metadata": {
    "nbgrader": {
     "grade": true,
     "grade_id": "cell-15d27f8fdf5190ad",
     "locked": false,
     "points": 1,
     "schema_version": 3,
     "solution": true,
     "task": false
    }
   },
   "outputs": [
    {
     "name": "stdout",
     "output_type": "stream",
     "text": [
      "datesold             0\n",
      "price                0\n",
      "yr_built             0\n",
      "bedrooms             0\n",
      "postcode             0\n",
      "area                 0\n",
      "date                 0\n",
      "bathrooms            0\n",
      "yr_renovated     11045\n",
      "condition            0\n",
      "grade                0\n",
      "floors               0\n",
      "sqft_living          0\n",
      "sqft_lot             0\n",
      "sqft_above           0\n",
      "sqft_basement        0\n",
      "sqft_living15      135\n",
      "sqft_lot15        1079\n",
      "waterfront           0\n",
      "view                 0\n",
      "distance             0\n",
      "prev_owner           0\n",
      "dtype: int64\n"
     ]
    }
   ],
   "source": [
    "print(train_df.isnull().sum())"
   ]
  },
  {
   "cell_type": "markdown",
   "id": "e25f4e31",
   "metadata": {},
   "source": [
    "The column `yr_renovated` contains $\\frac{11045}{11046}$ missing values. With such a high fraction, it is not likely that any imputation scheme would result in a usable feature. So let's just drop that column as useless. While we're at it, we might also drop some other columns as well: \n",
    "- The name of the previous owner will not help in our prediction task, so the column `prev_owner` can be dropped as well. \n",
    "- The column `datesold` contains redundant duplicate information (the same info is included in the column `date`), so we won't need that either. \n",
    "- The values in the `sqft_living` column represent the summation of the values in the `sqft_above` and `sqft_basement` columns, so any one of the `sqft_above` and `sqft_basement` columns is individually redundant.\n",
    "\n",
    "The columns `sqft_living15` and `sqft_lot15` have roughly only 1.5% and 10% of values missing respectively so we'll be able to use them. We will deal with the missing values in these columns later in the feature engineering part.\n",
    "\n",
    "Remove the three columns `yr_renovated`, `prev_owner`, `datesold`, and `sqft_above` from our DataFrame."
   ]
  },
  {
   "cell_type": "code",
<<<<<<< HEAD
   "execution_count": 12,
=======
   "execution_count": 9,
>>>>>>> 2dc71ae (update)
   "id": "671d684f",
   "metadata": {},
   "outputs": [],
   "source": [
    "def drop_futile_columns(df: pd.DataFrame) -> None:\n",
    "    \"\"\"\n",
    "    Removes unneeded columns from the argument DataFrame\n",
    "    Args:\n",
    "        df (DataFrame): A pandas DataFrame holding all of the housing data\n",
    "    \"\"\"\n",
    "\n",
    "    ### START CODE HERE\n",
    "    df.drop(columns=['yr_renovated','prev_owner','datesold','sqft_above'], inplace=True)\n",
    "    ### END CODE HERE\n"
   ]
  },
  {
   "cell_type": "markdown",
   "id": "03176b26",
   "metadata": {},
   "source": [
    "Run the cell below to see if our function works and the columns are indeed dropped. At this point, we should have 18 columns remaining."
   ]
  },
  {
   "cell_type": "code",
<<<<<<< HEAD
   "execution_count": 13,
=======
   "execution_count": 10,
>>>>>>> 2dc71ae (update)
   "id": "d1090449",
   "metadata": {},
   "outputs": [
    {
     "name": "stdout",
     "output_type": "stream",
     "text": [
      "The remaining columns are: Index(['price', 'yr_built', 'bedrooms', 'postcode', 'area', 'date',\n",
      "       'bathrooms', 'condition', 'grade', 'floors', 'sqft_living', 'sqft_lot',\n",
      "       'sqft_basement', 'sqft_living15', 'sqft_lot15', 'waterfront', 'view',\n",
      "       'distance'],\n",
      "      dtype='object')\n",
      "The total number of columns is 18\n"
     ]
    }
   ],
   "source": [
    "drop_futile_columns(train_df)\n",
    "print(\"The remaining columns are:\", train_df.columns)\n",
    "\n",
    "print(\"The total number of columns is\", len(train_df.columns))"
   ]
  },
  {
   "cell_type": "markdown",
   "id": "aad648af",
   "metadata": {},
   "source": [
    "Expected output:\n",
    "\n",
    "```text\n",
    "The remaining columns are: Index(['price', 'yr_built', 'bedrooms', 'postcode', 'area', 'date',\n",
    "       'bathrooms', 'condition', 'grade', 'floors', 'sqft_living', 'sqft_lot',\n",
    "       'sqft_basement', 'sqft_living15', 'sqft_lot15', 'waterfront', 'view',\n",
    "       'distance'],\n",
    "      dtype='object')\n",
    "The total number of columns is 18\n",
    "```"
   ]
  },
  {
   "cell_type": "markdown",
   "id": "11fa28c2",
   "metadata": {},
   "source": [
    "### 2b) Inconsistent entries\n",
    "\n",
    "It's very common for the extracted data to contain inconsistencies. Let's take a closer look at our columns to see if we can spot some."
   ]
  },
  {
   "cell_type": "code",
<<<<<<< HEAD
   "execution_count": 14,
=======
   "execution_count": 11,
>>>>>>> 2dc71ae (update)
   "id": "86c10d84",
   "metadata": {},
   "outputs": [
    {
     "data": {
      "text/html": [
       "<div>\n",
       "<style scoped>\n",
       "    .dataframe tbody tr th:only-of-type {\n",
       "        vertical-align: middle;\n",
       "    }\n",
       "\n",
       "    .dataframe tbody tr th {\n",
       "        vertical-align: top;\n",
       "    }\n",
       "\n",
       "    .dataframe thead th {\n",
       "        text-align: right;\n",
       "    }\n",
       "</style>\n",
       "<table border=\"1\" class=\"dataframe\">\n",
       "  <thead>\n",
       "    <tr style=\"text-align: right;\">\n",
       "      <th></th>\n",
       "      <th>price</th>\n",
       "      <th>yr_built</th>\n",
       "      <th>bedrooms</th>\n",
       "      <th>postcode</th>\n",
       "      <th>bathrooms</th>\n",
       "      <th>grade</th>\n",
       "      <th>floors</th>\n",
       "      <th>sqft_living</th>\n",
       "      <th>sqft_lot</th>\n",
       "      <th>sqft_basement</th>\n",
       "      <th>sqft_living15</th>\n",
       "      <th>sqft_lot15</th>\n",
       "      <th>waterfront</th>\n",
       "      <th>view</th>\n",
       "      <th>distance</th>\n",
       "    </tr>\n",
       "  </thead>\n",
       "  <tbody>\n",
       "    <tr>\n",
       "      <th>count</th>\n",
       "      <td>1.104600e+04</td>\n",
       "      <td>11046.000000</td>\n",
       "      <td>11046.000000</td>\n",
       "      <td>11046.000000</td>\n",
       "      <td>11046.000000</td>\n",
       "      <td>11046.000000</td>\n",
       "      <td>11046.000000</td>\n",
       "      <td>11046.000000</td>\n",
       "      <td>11046.000000</td>\n",
       "      <td>11046.000000</td>\n",
       "      <td>10911.000000</td>\n",
       "      <td>9967.000000</td>\n",
       "      <td>11046.000000</td>\n",
       "      <td>11046.000000</td>\n",
       "      <td>11046.000000</td>\n",
       "    </tr>\n",
       "    <tr>\n",
       "      <th>mean</th>\n",
       "      <td>5.925457e+05</td>\n",
       "      <td>1972.844197</td>\n",
       "      <td>3.526073</td>\n",
       "      <td>2747.149285</td>\n",
       "      <td>2.213064</td>\n",
       "      <td>8.171103</td>\n",
       "      <td>1.553639</td>\n",
       "      <td>2348.855694</td>\n",
       "      <td>12675.191744</td>\n",
       "      <td>270.469853</td>\n",
       "      <td>2299.625516</td>\n",
       "      <td>11184.507776</td>\n",
       "      <td>0.000272</td>\n",
       "      <td>0.014938</td>\n",
       "      <td>147.499479</td>\n",
       "    </tr>\n",
       "    <tr>\n",
       "      <th>std</th>\n",
       "      <td>2.554195e+05</td>\n",
       "      <td>27.100996</td>\n",
       "      <td>0.695975</td>\n",
       "      <td>148.665660</td>\n",
       "      <td>0.489251</td>\n",
       "      <td>1.066406</td>\n",
       "      <td>0.450539</td>\n",
       "      <td>706.753347</td>\n",
       "      <td>15545.277547</td>\n",
       "      <td>306.938218</td>\n",
       "      <td>593.615570</td>\n",
       "      <td>10507.371020</td>\n",
       "      <td>0.016479</td>\n",
       "      <td>0.211600</td>\n",
       "      <td>1340.088375</td>\n",
       "    </tr>\n",
       "    <tr>\n",
       "      <th>min</th>\n",
       "      <td>5.090000e+04</td>\n",
       "      <td>1900.000000</td>\n",
       "      <td>0.000000</td>\n",
       "      <td>2600.000000</td>\n",
       "      <td>1.000000</td>\n",
       "      <td>6.000000</td>\n",
       "      <td>1.000000</td>\n",
       "      <td>720.000000</td>\n",
       "      <td>1167.000000</td>\n",
       "      <td>0.000000</td>\n",
       "      <td>1208.000000</td>\n",
       "      <td>1404.000000</td>\n",
       "      <td>0.000000</td>\n",
       "      <td>0.000000</td>\n",
       "      <td>0.000000</td>\n",
       "    </tr>\n",
       "    <tr>\n",
       "      <th>25%</th>\n",
       "      <td>4.458000e+05</td>\n",
       "      <td>1961.000000</td>\n",
       "      <td>3.000000</td>\n",
       "      <td>2611.000000</td>\n",
       "      <td>2.000000</td>\n",
       "      <td>7.000000</td>\n",
       "      <td>1.000000</td>\n",
       "      <td>1795.000000</td>\n",
       "      <td>5837.250000</td>\n",
       "      <td>10.000000</td>\n",
       "      <td>1828.000000</td>\n",
       "      <td>5656.500000</td>\n",
       "      <td>0.000000</td>\n",
       "      <td>0.000000</td>\n",
       "      <td>8.080000</td>\n",
       "    </tr>\n",
       "    <tr>\n",
       "      <th>50%</th>\n",
       "      <td>5.366000e+05</td>\n",
       "      <td>1977.000000</td>\n",
       "      <td>3.000000</td>\n",
       "      <td>2617.000000</td>\n",
       "      <td>2.000000</td>\n",
       "      <td>8.000000</td>\n",
       "      <td>1.500000</td>\n",
       "      <td>2220.000000</td>\n",
       "      <td>9357.000000</td>\n",
       "      <td>130.000000</td>\n",
       "      <td>2176.000000</td>\n",
       "      <td>8905.000000</td>\n",
       "      <td>0.000000</td>\n",
       "      <td>0.000000</td>\n",
       "      <td>11.225000</td>\n",
       "    </tr>\n",
       "    <tr>\n",
       "      <th>75%</th>\n",
       "      <td>6.613000e+05</td>\n",
       "      <td>1992.000000</td>\n",
       "      <td>4.000000</td>\n",
       "      <td>2905.000000</td>\n",
       "      <td>2.500000</td>\n",
       "      <td>9.000000</td>\n",
       "      <td>2.000000</td>\n",
       "      <td>2780.000000</td>\n",
       "      <td>14005.750000</td>\n",
       "      <td>470.000000</td>\n",
       "      <td>2683.000000</td>\n",
       "      <td>12701.000000</td>\n",
       "      <td>0.000000</td>\n",
       "      <td>0.000000</td>\n",
       "      <td>13.990000</td>\n",
       "    </tr>\n",
       "    <tr>\n",
       "      <th>max</th>\n",
       "      <td>7.989300e+06</td>\n",
       "      <td>2015.000000</td>\n",
       "      <td>5.000000</td>\n",
       "      <td>2914.000000</td>\n",
       "      <td>5.000000</td>\n",
       "      <td>12.000000</td>\n",
       "      <td>3.000000</td>\n",
       "      <td>8640.000000</td>\n",
       "      <td>482350.000000</td>\n",
       "      <td>2280.000000</td>\n",
       "      <td>4612.000000</td>\n",
       "      <td>182404.000000</td>\n",
       "      <td>1.000000</td>\n",
       "      <td>4.000000</td>\n",
       "      <td>22210.000000</td>\n",
       "    </tr>\n",
       "  </tbody>\n",
       "</table>\n",
       "</div>"
      ],
      "text/plain": [
       "              price      yr_built      bedrooms      postcode     bathrooms  \\\n",
       "count  1.104600e+04  11046.000000  11046.000000  11046.000000  11046.000000   \n",
       "mean   5.925457e+05   1972.844197      3.526073   2747.149285      2.213064   \n",
       "std    2.554195e+05     27.100996      0.695975    148.665660      0.489251   \n",
       "min    5.090000e+04   1900.000000      0.000000   2600.000000      1.000000   \n",
       "25%    4.458000e+05   1961.000000      3.000000   2611.000000      2.000000   \n",
       "50%    5.366000e+05   1977.000000      3.000000   2617.000000      2.000000   \n",
       "75%    6.613000e+05   1992.000000      4.000000   2905.000000      2.500000   \n",
       "max    7.989300e+06   2015.000000      5.000000   2914.000000      5.000000   \n",
       "\n",
       "              grade        floors   sqft_living       sqft_lot  sqft_basement  \\\n",
       "count  11046.000000  11046.000000  11046.000000   11046.000000   11046.000000   \n",
       "mean       8.171103      1.553639   2348.855694   12675.191744     270.469853   \n",
       "std        1.066406      0.450539    706.753347   15545.277547     306.938218   \n",
       "min        6.000000      1.000000    720.000000    1167.000000       0.000000   \n",
       "25%        7.000000      1.000000   1795.000000    5837.250000      10.000000   \n",
       "50%        8.000000      1.500000   2220.000000    9357.000000     130.000000   \n",
       "75%        9.000000      2.000000   2780.000000   14005.750000     470.000000   \n",
       "max       12.000000      3.000000   8640.000000  482350.000000    2280.000000   \n",
       "\n",
       "       sqft_living15     sqft_lot15    waterfront          view      distance  \n",
       "count   10911.000000    9967.000000  11046.000000  11046.000000  11046.000000  \n",
       "mean     2299.625516   11184.507776      0.000272      0.014938    147.499479  \n",
       "std       593.615570   10507.371020      0.016479      0.211600   1340.088375  \n",
       "min      1208.000000    1404.000000      0.000000      0.000000      0.000000  \n",
       "25%      1828.000000    5656.500000      0.000000      0.000000      8.080000  \n",
       "50%      2176.000000    8905.000000      0.000000      0.000000     11.225000  \n",
       "75%      2683.000000   12701.000000      0.000000      0.000000     13.990000  \n",
       "max      4612.000000  182404.000000      1.000000      4.000000  22210.000000  "
      ]
     },
     "metadata": {},
     "output_type": "display_data"
    }
   ],
   "source": [
    "display(train_df.describe())"
   ]
  },
  {
   "cell_type": "markdown",
   "id": "ed572116",
   "metadata": {},
   "source": [
    "This gives us an overview of all numerical data in the form of some statistics. In general, everything else seems to be in order, but the column `distance` seems to have some extremely high values. The data description says that this column tells the distance from the city center in km, so the max value of 22210.0 is clearly wrong. Let's take a further look at this column. Run the cell below:"
   ]
  },
  {
   "cell_type": "code",
<<<<<<< HEAD
   "execution_count": 15,
=======
   "execution_count": 12,
>>>>>>> 2dc71ae (update)
   "id": "ed0b439e",
   "metadata": {},
   "outputs": [
    {
     "name": "stdout",
     "output_type": "stream",
     "text": [
      "df_low (10912 rows):count    10912.000000\n",
      "mean        11.088641\n",
      "std          4.907516\n",
      "min          0.000000\n",
      "25%          7.967500\n",
      "50%         11.160000\n",
      "75%         13.880000\n",
      "max         45.680000\n",
      "Name: distance, dtype: float64\n",
      "\n",
      "df_high (134 rows):count      134.000000\n",
      "mean     11255.820896\n",
      "std       4825.372992\n",
      "min        860.000000\n",
      "25%       8377.500000\n",
      "50%      10970.000000\n",
      "75%      13757.500000\n",
      "max      22210.000000\n",
      "Name: distance, dtype: float64\n"
     ]
    }
   ],
   "source": [
    "df_low = train_df[train_df['distance']<100]\n",
    "df_high = train_df[train_df['distance']>=100]\n",
    "print(f\"df_low ({len(df_low.index)} rows):{df_low['distance'].describe()}\")\n",
    "print(f\"\\ndf_high ({len(df_high.index)} rows):{df_high['distance'].describe()}\")"
   ]
  },
  {
   "cell_type": "markdown",
   "id": "0ebecb14",
   "metadata": {},
   "source": [
    "It seems there are 134 rows where the distance has been stated in metres instead of kilometres. Complete the `correct_distance_unit` function that changes those values into kilometers. "
   ]
  },
  {
   "cell_type": "code",
<<<<<<< HEAD
   "execution_count": 16,
=======
   "execution_count": 13,
>>>>>>> 2dc71ae (update)
   "id": "b3a57b93",
   "metadata": {},
   "outputs": [],
   "source": [
    "def correct_distance_unit(df: pd.DataFrame) -> None:\n",
    "    \"\"\"\n",
    "    Correct the falsely input values in column 'distance'\n",
    "    Args:\n",
    "        df (DataFrame): A Pandas DataFrame holding all of the housing data\n",
    "    \"\"\"\n",
    "\n",
    "    ### START CODE HERE\n",
    "    df.loc[df['distance'] > 100, 'distance'] /= 1000\n",
    "\n",
    "    ### END CODE HERE\n",
    "\n"
   ]
  },
  {
   "cell_type": "markdown",
   "id": "50bd89b5",
   "metadata": {},
   "source": [
    "Let's run the cell below to see if our function works. The maximum distance should now be 45.68 km."
   ]
  },
  {
   "cell_type": "code",
<<<<<<< HEAD
   "execution_count": 17,
=======
   "execution_count": 14,
>>>>>>> 2dc71ae (update)
   "id": "95b6dff5",
   "metadata": {},
   "outputs": [
    {
     "name": "stdout",
     "output_type": "stream",
     "text": [
      "count    11046.000000\n",
      "mean        11.090669\n",
      "std          4.906347\n",
      "min          0.000000\n",
      "25%          7.990000\n",
      "50%         11.160000\n",
      "75%         13.877500\n",
      "max         45.680000\n",
      "Name: distance, dtype: float64\n"
     ]
    }
   ],
   "source": [
    "correct_distance_unit(train_df)\n",
    "print(train_df['distance'].describe())"
   ]
  },
  {
   "cell_type": "markdown",
   "id": "0ea2b2bb",
   "metadata": {},
   "source": [
    "Expected output:\n",
    "\n",
    "```text\n",
    "count    11046.000000\n",
    "mean        11.090669\n",
    "std          4.906347\n",
    "min          0.000000\n",
    "25%          7.990000\n",
    "50%         11.160000\n",
    "75%         13.877500\n",
    "max         45.680000\n",
    "Name: distance, dtype: float64\n",
    "```"
   ]
  },
  {
   "cell_type": "markdown",
   "id": "1365a5c7",
   "metadata": {},
   "source": [
    "### 2c) Fixing typos\n",
    "\n",
    "Now we should have our numerical columns in order. Let's next take a look at the string columns."
   ]
  },
  {
   "cell_type": "code",
<<<<<<< HEAD
   "execution_count": 18,
=======
   "execution_count": 15,
>>>>>>> 2dc71ae (update)
   "id": "dbfc9589",
   "metadata": {},
   "outputs": [
    {
     "name": "stdout",
     "output_type": "stream",
     "text": [
      "Column 'condition' has 16 unique values:\n",
      "['satisfactory' 'Satisfactory' 'Good' 'Excellent' 'good' 'Satisfactoryy'\n",
      " 'Goood' 'Satisfactry' 'satisfatory' 'Satisfattory' 'God' 'Good '\n",
      " 'excellent' 'Satisfatory' 'god' 'satisfattory']\n",
      "\n",
      "Column 'area' has 131 unique values:\n",
      "['Conder' 'Kippax Centre' 'Higgins' 'Tinderry' 'Bonner' 'Fraser' 'Kambah'\n",
      " 'Duffy' 'Page' 'Kaleen' 'Kingston' 'Gowrie' 'Administrative' 'Gordon'\n",
      " 'Kippax' 'Ginninderra Village' 'Bonython' 'Curtin' 'Uriarra' 'Forde'\n",
      " 'Monash' 'Waramanga' 'Scullin' 'Pearce' 'Fairbairn Raaf' 'Amaroo'\n",
      " 'Nicholls' 'Macarthur' 'Dickson' 'Theodore' 'Lyneham' \"O'connor\"\n",
      " 'Hackett' 'Downer' 'Ainslie' 'Acton' 'Stirling' 'Belconnen Dc' 'Watson'\n",
      " 'Belconnen' 'Melba' 'Causeway' 'Isabella Plains' 'Holder' 'Russell'\n",
      " 'Spence' 'Red Hill' 'Holt' 'Wanniassa' 'Hughes' 'Lawson' 'Cook' 'Torrens'\n",
      " 'Chapman' 'Harman' 'Dunlop' 'Farrer' 'Jamison Centre' 'Hawker'\n",
      " 'Charnwood' 'Weston Creek' 'Mawson' 'Turner' 'Latham' 'Oxley' 'Ngunnawal'\n",
      " 'Palmerston' 'Florey' 'Pierces Creek' 'Isaacs' 'Yarralumla' 'Calwell'\n",
      " 'Gilmore' 'Harrison' 'Giralang' 'Bruce' 'Franklin' 'Macquarie'\n",
      " 'Narrabundah' 'Banks' 'Erindale Centre' 'Richardson' 'Hmas Harman'\n",
      " 'Fadden' 'Chisholm' 'Evatt' 'Garran' 'Crace' 'Flynn' 'Brindabella'\n",
      " 'Mckellar' 'Capital Hill' 'Griffith' 'Canberra' 'Woden' 'Phillip'\n",
      " 'Tuggeranong' 'Macgregor' 'Reid' 'Manuka' 'Duntroon' 'Forrest' 'Aranda'\n",
      " 'Mitchell' 'Fisher' 'Swinger Hill' 'Braddon' 'Chifley' 'Russell Hill'\n",
      " 'Weetangera' 'Mount Stromlo' 'Uriarra Forest' 'Deakin' 'Weston'\n",
      " \"O'malley\" 'Rivett' 'Hall' 'Campbell' 'Parliament House' 'Lyons'\n",
      " 'Greenway' 'Clear Range' 'Black Mountain' 'Parkes' 'Fyshwick' 'Barton'\n",
      " 'Yarrow' 'Pialligo' 'Wallaroo' 'City' 'Gundaroo']\n"
     ]
    }
   ],
   "source": [
    "condition_unique = train_df['condition'].unique()\n",
    "print(f\"Column 'condition' has {len(condition_unique)} unique values:\\n{condition_unique}\")\n",
    "area_unique = train_df['area'].unique()\n",
    "print(f\"\\nColumn 'area' has {len(area_unique)} unique values:\\n{area_unique}\")"
   ]
  },
  {
   "cell_type": "markdown",
   "id": "20938f6d",
   "metadata": {},
   "source": [
    "The column `area` seems to be ok, but the column `condition` contains several typos. \n",
    "\n",
    "Start by lowercasing the conditions and removing any unnecessary trailing white space."
   ]
  },
  {
   "cell_type": "code",
<<<<<<< HEAD
   "execution_count": 19,
=======
   "execution_count": 16,
>>>>>>> 2dc71ae (update)
   "id": "a3219193",
   "metadata": {},
   "outputs": [],
   "source": [
    "def string_transformer(df: pd.DataFrame) -> None:\n",
    "    \"\"\"\n",
    "    Lowercases all values in the column 'condition' and removes trailing white space.\n",
    "    Args:\n",
    "        df (DataFrame): A pandas DataFrame holding all of the housing data\n",
    "    \"\"\"\n",
    "\n",
    "    ### START CODE HERE\n",
    "    df['condition'] = df['condition'].str.lower()\n",
    "    df['condition'] = df['condition'].str.rstrip()\n",
    "    ### END CODE HERE\n",
    "\n"
   ]
  },
  {
   "cell_type": "markdown",
   "id": "62c9856d",
   "metadata": {},
   "source": [
    "Let's apply this function to our training data to see what changed. Run the cell below:"
   ]
  },
  {
   "cell_type": "code",
<<<<<<< HEAD
   "execution_count": 20,
=======
   "execution_count": 17,
>>>>>>> 2dc71ae (update)
   "id": "4dc1313a",
   "metadata": {},
   "outputs": [
    {
     "name": "stdout",
     "output_type": "stream",
     "text": [
      "The column 'condition' contains following unique values:\n",
      " ['satisfactory' 'good' 'excellent' 'satisfactoryy' 'goood' 'satisfactry'\n",
      " 'satisfatory' 'satisfattory' 'god']\n"
     ]
    }
   ],
   "source": [
    "string_transformer(train_df)\n",
    "print(\"The column 'condition' contains following unique values:\\n\", train_df['condition'].unique())"
   ]
  },
  {
   "cell_type": "markdown",
   "id": "906865b2",
   "metadata": {},
   "source": [
    "Expected output:\n",
    "```text\n",
    "The column 'condition' contains following unique values:\n",
    " ['satisfactory' 'good' 'excellent' 'satisfactoryy' 'goood' 'satisfactry'\n",
    " 'satisfatory' 'satisfattory' 'god']\n",
    "```"
   ]
  },
  {
   "cell_type": "markdown",
   "id": "c13fd78d",
   "metadata": {},
   "source": [
    "We see that the data contains three conditions, namely: 'excellent', 'good' and 'satisfactory'. Other values are clearly typos. Let's use [TheFuzz](https://github.com/seatgeek/thefuzz) library (already imported above) to automate the process of correcting typos. \n",
    "\n",
    "Implement the following to complete the `typo_fixer` function:\n",
    "1. Loop over the condition column and find the best approximate match from a list of correct conditions for each entry in the condition column. You can use [process.extractOne](https://github.com/seatgeek/thefuzz#process) to find the single best match for an entry and use `fuzz.ratio` as the scorer inside the `extractOne` function.\n",
    "2. Update the column `condition` by replacing each entry with its best approximate match if the similarity score is greater than the specified threshold. Otherwise, keep the entry unchanged. In this way, we fix only those strings that feel confident enough to be typos of the correct conditions. Using a threshold is a good practice so that we are not too aggressive in correcting the typos. \n",
    "3. Create a new column `similarity_scores`, where you store the similarity score of each (original entry)-(approximate match) pair."
   ]
  },
  {
   "cell_type": "code",
<<<<<<< HEAD
   "execution_count": 21,
=======
   "execution_count": 18,
>>>>>>> 2dc71ae (update)
   "id": "0da1ebb1",
   "metadata": {},
   "outputs": [],
   "source": [
    "def typo_fixer(df: pd.DataFrame, threshold: float, correct_condition_values: List[str]) -> None:\n",
    "    \"\"\"\n",
    "    Uses fuzzy string matching to fix typos in the column 'condition'. It loops through each entry in the column and \n",
    "    replaces them with suggested corrections if the similarity score is high enough. \n",
    "    Args:\n",
    "        df (DataFrame): A pandas DataFrame holding all of the housing data\n",
    "        threshold (int): A number between 0-100. Only the entries with score above this number are replaced.\n",
    "        correct_condition_values (List): A list of correct strings that we hope the condition column to include. For example, correct_ones=['excellent', 'good', 'satisfactory'] in the case of the training dataset.\n",
    "    \"\"\"\n",
    "\n",
    "    ### START CODE HERE\n",
    "    matches = []\n",
    "    similarity_scores = []\n",
    "    for entry in df['condition']:\n",
    "        best_match, score = process.extractOne(entry, correct_condition_values, scorer=fuzz.ratio)\n",
    "        similarity_scores.append(score)\n",
    "        if score > threshold:\n",
    "            matches.append(best_match)\n",
    "        else:\n",
    "            matches.append(entry)\n",
    "        # print(f\"The similarity score between {best_match} and {entry} is {score}\")\n",
    "\n",
    "    df['condition'] = matches\n",
    "    df['similarity_scores'] = similarity_scores\n",
    "    ### END CODE HERE\n"
   ]
  },
  {
   "cell_type": "code",
<<<<<<< HEAD
   "execution_count": 22,
=======
   "execution_count": 19,
>>>>>>> 2dc71ae (update)
   "id": "c6528114",
   "metadata": {},
   "outputs": [
    {
     "name": "stdout",
     "output_type": "stream",
     "text": [
      "The column 'condition' contains following unique values:\n",
      " ['satisfactory' 'good' 'excellent']\n",
      "The lowest similarity score is 86\n"
     ]
    }
   ],
   "source": [
    "threshold = 80\n",
    "typo_fixer(train_df, threshold, ['excellent', 'good', 'satisfactory'])\n",
    "print(\"The column 'condition' contains following unique values:\\n\", train_df['condition'].unique())\n",
    "print(f\"The lowest similarity score is {train_df['similarity_scores'].min()}\")"
   ]
  },
  {
   "cell_type": "markdown",
   "id": "388ca52b",
   "metadata": {},
   "source": [
    "You're expected to see all typos are corrected. Expected output:\n",
    "```text\n",
    "The column 'condition' contains following unique values:\n",
    " ['satisfactory' 'good' 'excellent']\n",
    "The lowest similarity score is 86\n",
    "```"
   ]
  },
  {
   "cell_type": "markdown",
   "id": "6e1e5cdd",
   "metadata": {},
   "source": [
    "Now that we have our data extraction and cleaning operations in place, let's conclude the first two assignments by wrapping everything up to this point inside a single function `data_extraction`. It loads the price and house info datasets, merges them into a single DataFrame and polishes the DataFrame.\n",
    "\n",
    "Run the cell below to define the data extraction function."
   ]
  },
  {
   "cell_type": "code",
<<<<<<< HEAD
   "execution_count": 23,
=======
   "execution_count": 20,
>>>>>>> 2dc71ae (update)
   "id": "8eda8aae",
   "metadata": {},
   "outputs": [],
   "source": [
    "def data_extraction(path: Path, correct_condition_values: List[str]) -> pd.DataFrame:\n",
    "    \"\"\"\n",
    "    The entire data extraction/cleaning pipeline wrapped inside a single function.\n",
    "    Args:\n",
    "        path (Path): Path to the folder where the files exist.\n",
    "        correct_condition_values (List): A list of correct strings that we hope the condition column to include.\n",
    "    Returns:\n",
    "        df (DataFrame): A pandas DataFrame holding all of the (cleaned) housing data.\n",
    "    \"\"\"\n",
    "    threshold = 80\n",
    "    prices, house_data = file_reader(path)\n",
    "    df = dataframe_merger(prices, house_data)\n",
    "    drop_futile_columns(df)\n",
    "    correct_distance_unit(df)\n",
    "    string_transformer(df)\n",
    "    typo_fixer(df, threshold, correct_condition_values)\n",
    "    return df\n",
    "\n"
   ]
  },
  {
   "cell_type": "code",
<<<<<<< HEAD
   "execution_count": 24,
=======
   "execution_count": 21,
>>>>>>> 2dc71ae (update)
   "id": "ab736373",
   "metadata": {},
   "outputs": [
    {
     "data": {
      "text/html": [
       "<div>\n",
       "<style scoped>\n",
       "    .dataframe tbody tr th:only-of-type {\n",
       "        vertical-align: middle;\n",
       "    }\n",
       "\n",
       "    .dataframe tbody tr th {\n",
       "        vertical-align: top;\n",
       "    }\n",
       "\n",
       "    .dataframe thead th {\n",
       "        text-align: right;\n",
       "    }\n",
       "</style>\n",
       "<table border=\"1\" class=\"dataframe\">\n",
       "  <thead>\n",
       "    <tr style=\"text-align: right;\">\n",
       "      <th></th>\n",
       "      <th>price</th>\n",
       "      <th>yr_built</th>\n",
       "      <th>bedrooms</th>\n",
       "      <th>postcode</th>\n",
       "      <th>area</th>\n",
       "      <th>date</th>\n",
       "      <th>bathrooms</th>\n",
       "      <th>condition</th>\n",
       "      <th>grade</th>\n",
       "      <th>floors</th>\n",
       "      <th>sqft_living</th>\n",
       "      <th>sqft_lot</th>\n",
       "      <th>sqft_basement</th>\n",
       "      <th>sqft_living15</th>\n",
       "      <th>sqft_lot15</th>\n",
       "      <th>waterfront</th>\n",
       "      <th>view</th>\n",
       "      <th>distance</th>\n",
       "      <th>similarity_scores</th>\n",
       "    </tr>\n",
       "  </thead>\n",
       "  <tbody>\n",
       "    <tr>\n",
       "      <th>0</th>\n",
       "      <td>437100</td>\n",
       "      <td>1977</td>\n",
       "      <td>4</td>\n",
       "      <td>2906</td>\n",
       "      <td>Conder</td>\n",
       "      <td>2009-04-01</td>\n",
       "      <td>2.50</td>\n",
       "      <td>satisfactory</td>\n",
       "      <td>7</td>\n",
       "      <td>1.0</td>\n",
       "      <td>2280</td>\n",
       "      <td>8694</td>\n",
       "      <td>900</td>\n",
       "      <td>1877.0</td>\n",
       "      <td>8052.0</td>\n",
       "      <td>0</td>\n",
       "      <td>0</td>\n",
       "      <td>20.14</td>\n",
       "      <td>100</td>\n",
       "    </tr>\n",
       "    <tr>\n",
       "      <th>1</th>\n",
       "      <td>461300</td>\n",
       "      <td>1969</td>\n",
       "      <td>4</td>\n",
       "      <td>2615</td>\n",
       "      <td>Kippax Centre</td>\n",
       "      <td>2009-04-01</td>\n",
       "      <td>2.25</td>\n",
       "      <td>satisfactory</td>\n",
       "      <td>8</td>\n",
       "      <td>1.0</td>\n",
       "      <td>2220</td>\n",
       "      <td>14833</td>\n",
       "      <td>610</td>\n",
       "      <td>2202.0</td>\n",
       "      <td>12620.0</td>\n",
       "      <td>0</td>\n",
       "      <td>0</td>\n",
       "      <td>11.74</td>\n",
       "      <td>100</td>\n",
       "    </tr>\n",
       "    <tr>\n",
       "      <th>2</th>\n",
       "      <td>280900</td>\n",
       "      <td>1966</td>\n",
       "      <td>3</td>\n",
       "      <td>2615</td>\n",
       "      <td>Higgins</td>\n",
       "      <td>2009-04-01</td>\n",
       "      <td>1.25</td>\n",
       "      <td>satisfactory</td>\n",
       "      <td>7</td>\n",
       "      <td>1.0</td>\n",
       "      <td>1130</td>\n",
       "      <td>8867</td>\n",
       "      <td>0</td>\n",
       "      <td>1466.0</td>\n",
       "      <td>8594.0</td>\n",
       "      <td>0</td>\n",
       "      <td>0</td>\n",
       "      <td>10.90</td>\n",
       "      <td>100</td>\n",
       "    </tr>\n",
       "    <tr>\n",
       "      <th>3</th>\n",
       "      <td>351600</td>\n",
       "      <td>1978</td>\n",
       "      <td>3</td>\n",
       "      <td>2620</td>\n",
       "      <td>Tinderry</td>\n",
       "      <td>2009-04-01</td>\n",
       "      <td>2.00</td>\n",
       "      <td>satisfactory</td>\n",
       "      <td>8</td>\n",
       "      <td>1.0</td>\n",
       "      <td>1800</td>\n",
       "      <td>11431</td>\n",
       "      <td>380</td>\n",
       "      <td>2032.0</td>\n",
       "      <td>11044.0</td>\n",
       "      <td>0</td>\n",
       "      <td>0</td>\n",
       "      <td>9.48</td>\n",
       "      <td>100</td>\n",
       "    </tr>\n",
       "    <tr>\n",
       "      <th>4</th>\n",
       "      <td>431300</td>\n",
       "      <td>2005</td>\n",
       "      <td>3</td>\n",
       "      <td>2914</td>\n",
       "      <td>Bonner</td>\n",
       "      <td>2009-04-01</td>\n",
       "      <td>2.00</td>\n",
       "      <td>satisfactory</td>\n",
       "      <td>8</td>\n",
       "      <td>2.0</td>\n",
       "      <td>1795</td>\n",
       "      <td>2248</td>\n",
       "      <td>160</td>\n",
       "      <td>1784.0</td>\n",
       "      <td>2714.0</td>\n",
       "      <td>0</td>\n",
       "      <td>0</td>\n",
       "      <td>13.02</td>\n",
       "      <td>100</td>\n",
       "    </tr>\n",
       "  </tbody>\n",
       "</table>\n",
       "</div>"
      ],
      "text/plain": [
       "    price  yr_built  bedrooms  postcode           area       date  bathrooms  \\\n",
       "0  437100      1977         4      2906         Conder 2009-04-01       2.50   \n",
       "1  461300      1969         4      2615  Kippax Centre 2009-04-01       2.25   \n",
       "2  280900      1966         3      2615        Higgins 2009-04-01       1.25   \n",
       "3  351600      1978         3      2620       Tinderry 2009-04-01       2.00   \n",
       "4  431300      2005         3      2914         Bonner 2009-04-01       2.00   \n",
       "\n",
       "      condition  grade  floors  sqft_living  sqft_lot  sqft_basement  \\\n",
       "0  satisfactory      7     1.0         2280      8694            900   \n",
       "1  satisfactory      8     1.0         2220     14833            610   \n",
       "2  satisfactory      7     1.0         1130      8867              0   \n",
       "3  satisfactory      8     1.0         1800     11431            380   \n",
       "4  satisfactory      8     2.0         1795      2248            160   \n",
       "\n",
       "   sqft_living15  sqft_lot15  waterfront  view  distance  similarity_scores  \n",
       "0         1877.0      8052.0           0     0     20.14                100  \n",
       "1         2202.0     12620.0           0     0     11.74                100  \n",
       "2         1466.0      8594.0           0     0     10.90                100  \n",
       "3         2032.0     11044.0           0     0      9.48                100  \n",
       "4         1784.0      2714.0           0     0     13.02                100  "
      ]
     },
<<<<<<< HEAD
     "execution_count": 24,
=======
     "execution_count": 21,
>>>>>>> 2dc71ae (update)
     "metadata": {},
     "output_type": "execute_result"
    }
   ],
   "source": [
    "# Create a training DataFrame that goes through the data extraction and cleaning processes. This DataFrame will be used in the following assignments\n",
    "train_path = WORKING_DIR / \"data\" / \"reference\" / \"train\"\n",
    "train_df = data_extraction(train_path, ['excellent', 'good', 'satisfactory'])\n",
    "train_df.head(5)"
   ]
  },
  {
   "cell_type": "markdown",
   "id": "2de9f947",
   "metadata": {},
   "source": [
    "Expected output:\n",
    "\n",
    "<img src=\"./images/extracted_train_df.png\" width=1300/>"
   ]
  },
  {
   "cell_type": "markdown",
   "id": "10a0ad46",
   "metadata": {},
   "source": [
    "## Assignment 3: Data validation with Great Expectations (2 points)\n",
    "\n",
    "In this assignment, we practice the use of Great Expectations as a tool for data validation. We provide you with some code to help you instantiate and get started with Great Expectations. Running the code cell below creates a folder `gx` in your working directory with all things related to working with Great Expectations. "
   ]
  },
  {
   "cell_type": "code",
<<<<<<< HEAD
   "execution_count": 25,
=======
   "execution_count": 22,
>>>>>>> 2dc71ae (update)
   "id": "8877ca4b",
   "metadata": {},
   "outputs": [
    {
     "data": {
      "application/vnd.jupyter.widget-view+json": {
<<<<<<< HEAD
       "model_id": "5dc37be76dec4d75aef0e6d919f506dc",
=======
       "model_id": "94edb15e0eef490c8cb7b759b3ac85c6",
>>>>>>> 2dc71ae (update)
       "version_major": 2,
       "version_minor": 0
      },
      "text/plain": [
       "Calculating Metrics:   0%|          | 0/1 [00:00<?, ?it/s]"
      ]
     },
     "metadata": {},
     "output_type": "display_data"
    },
    {
     "data": {
      "text/html": [
       "<div>\n",
       "<style scoped>\n",
       "    .dataframe tbody tr th:only-of-type {\n",
       "        vertical-align: middle;\n",
       "    }\n",
       "\n",
       "    .dataframe tbody tr th {\n",
       "        vertical-align: top;\n",
       "    }\n",
       "\n",
       "    .dataframe thead th {\n",
       "        text-align: right;\n",
       "    }\n",
       "</style>\n",
       "<table border=\"1\" class=\"dataframe\">\n",
       "  <thead>\n",
       "    <tr style=\"text-align: right;\">\n",
       "      <th></th>\n",
       "      <th>price</th>\n",
       "      <th>yr_built</th>\n",
       "      <th>bedrooms</th>\n",
       "      <th>postcode</th>\n",
       "      <th>area</th>\n",
       "      <th>date</th>\n",
       "      <th>bathrooms</th>\n",
       "      <th>condition</th>\n",
       "      <th>grade</th>\n",
       "      <th>floors</th>\n",
       "      <th>sqft_living</th>\n",
       "      <th>sqft_lot</th>\n",
       "      <th>sqft_basement</th>\n",
       "      <th>sqft_living15</th>\n",
       "      <th>sqft_lot15</th>\n",
       "      <th>waterfront</th>\n",
       "      <th>view</th>\n",
       "      <th>distance</th>\n",
       "      <th>similarity_scores</th>\n",
       "    </tr>\n",
       "  </thead>\n",
       "  <tbody>\n",
       "    <tr>\n",
       "      <th>0</th>\n",
       "      <td>437100</td>\n",
       "      <td>1977</td>\n",
       "      <td>4</td>\n",
       "      <td>2906</td>\n",
       "      <td>Conder</td>\n",
       "      <td>2009-04-01</td>\n",
       "      <td>2.50</td>\n",
       "      <td>satisfactory</td>\n",
       "      <td>7</td>\n",
       "      <td>1.0</td>\n",
       "      <td>2280</td>\n",
       "      <td>8694</td>\n",
       "      <td>900</td>\n",
       "      <td>1877.0</td>\n",
       "      <td>8052.0</td>\n",
       "      <td>0</td>\n",
       "      <td>0</td>\n",
       "      <td>20.14</td>\n",
       "      <td>100</td>\n",
       "    </tr>\n",
       "    <tr>\n",
       "      <th>1</th>\n",
       "      <td>461300</td>\n",
       "      <td>1969</td>\n",
       "      <td>4</td>\n",
       "      <td>2615</td>\n",
       "      <td>Kippax Centre</td>\n",
       "      <td>2009-04-01</td>\n",
       "      <td>2.25</td>\n",
       "      <td>satisfactory</td>\n",
       "      <td>8</td>\n",
       "      <td>1.0</td>\n",
       "      <td>2220</td>\n",
       "      <td>14833</td>\n",
       "      <td>610</td>\n",
       "      <td>2202.0</td>\n",
       "      <td>12620.0</td>\n",
       "      <td>0</td>\n",
       "      <td>0</td>\n",
       "      <td>11.74</td>\n",
       "      <td>100</td>\n",
       "    </tr>\n",
       "    <tr>\n",
       "      <th>2</th>\n",
       "      <td>280900</td>\n",
       "      <td>1966</td>\n",
       "      <td>3</td>\n",
       "      <td>2615</td>\n",
       "      <td>Higgins</td>\n",
       "      <td>2009-04-01</td>\n",
       "      <td>1.25</td>\n",
       "      <td>satisfactory</td>\n",
       "      <td>7</td>\n",
       "      <td>1.0</td>\n",
       "      <td>1130</td>\n",
       "      <td>8867</td>\n",
       "      <td>0</td>\n",
       "      <td>1466.0</td>\n",
       "      <td>8594.0</td>\n",
       "      <td>0</td>\n",
       "      <td>0</td>\n",
       "      <td>10.90</td>\n",
       "      <td>100</td>\n",
       "    </tr>\n",
       "    <tr>\n",
       "      <th>3</th>\n",
       "      <td>351600</td>\n",
       "      <td>1978</td>\n",
       "      <td>3</td>\n",
       "      <td>2620</td>\n",
       "      <td>Tinderry</td>\n",
       "      <td>2009-04-01</td>\n",
       "      <td>2.00</td>\n",
       "      <td>satisfactory</td>\n",
       "      <td>8</td>\n",
       "      <td>1.0</td>\n",
       "      <td>1800</td>\n",
       "      <td>11431</td>\n",
       "      <td>380</td>\n",
       "      <td>2032.0</td>\n",
       "      <td>11044.0</td>\n",
       "      <td>0</td>\n",
       "      <td>0</td>\n",
       "      <td>9.48</td>\n",
       "      <td>100</td>\n",
       "    </tr>\n",
       "    <tr>\n",
       "      <th>4</th>\n",
       "      <td>431300</td>\n",
       "      <td>2005</td>\n",
       "      <td>3</td>\n",
       "      <td>2914</td>\n",
       "      <td>Bonner</td>\n",
       "      <td>2009-04-01</td>\n",
       "      <td>2.00</td>\n",
       "      <td>satisfactory</td>\n",
       "      <td>8</td>\n",
       "      <td>2.0</td>\n",
       "      <td>1795</td>\n",
       "      <td>2248</td>\n",
       "      <td>160</td>\n",
       "      <td>1784.0</td>\n",
       "      <td>2714.0</td>\n",
       "      <td>0</td>\n",
       "      <td>0</td>\n",
       "      <td>13.02</td>\n",
       "      <td>100</td>\n",
       "    </tr>\n",
       "  </tbody>\n",
       "</table>\n",
       "</div>"
      ],
      "text/plain": [
       "    price  yr_built  bedrooms  postcode           area       date  bathrooms  \\\n",
       "0  437100      1977         4      2906         Conder 2009-04-01       2.50   \n",
       "1  461300      1969         4      2615  Kippax Centre 2009-04-01       2.25   \n",
       "2  280900      1966         3      2615        Higgins 2009-04-01       1.25   \n",
       "3  351600      1978         3      2620       Tinderry 2009-04-01       2.00   \n",
       "4  431300      2005         3      2914         Bonner 2009-04-01       2.00   \n",
       "\n",
       "      condition  grade  floors  sqft_living  sqft_lot  sqft_basement  \\\n",
       "0  satisfactory      7     1.0         2280      8694            900   \n",
       "1  satisfactory      8     1.0         2220     14833            610   \n",
       "2  satisfactory      7     1.0         1130      8867              0   \n",
       "3  satisfactory      8     1.0         1800     11431            380   \n",
       "4  satisfactory      8     2.0         1795      2248            160   \n",
       "\n",
       "   sqft_living15  sqft_lot15  waterfront  view  distance  similarity_scores  \n",
       "0         1877.0      8052.0           0     0     20.14                100  \n",
       "1         2202.0     12620.0           0     0     11.74                100  \n",
       "2         1466.0      8594.0           0     0     10.90                100  \n",
       "3         2032.0     11044.0           0     0      9.48                100  \n",
       "4         1784.0      2714.0           0     0     13.02                100  "
      ]
     },
     "metadata": {},
     "output_type": "display_data"
    }
   ],
   "source": [
    "housing_datasource_name = \"housing_datasource\"\n",
    "housing_expectation_suite_name = \"housing_expectation_suite\"\n",
    "\n",
    "# Instantiate a Data Context and save it in filesystem.\n",
    "context = gx.get_context(project_root_dir=str(WORKING_DIR))\n",
    "\n",
    "# Connect to data in our housing DataFrame.\n",
    "try:\n",
    "    # Create a new Data Source in the Data Context\n",
    "    datasource = context.sources.add_pandas(name=housing_datasource_name)\n",
    "except DataContextError:\n",
    "    # The Data Source already exists in the Data Context\n",
    "    datasource = context.get_datasource(housing_datasource_name)\n",
    "\n",
    "try:\n",
    "    # Create a new DataFrame Data Asset\n",
    "    training_data_asset = datasource.add_dataframe_asset(name=\"training_data\")\n",
    "except ValueError:\n",
    "    # The Data Asset already exists\n",
    "    training_data_asset = datasource.get_asset(\"training_data\")\n",
    "\n",
    "# Request all data in the DataFrame as a single batch\n",
    "training_batch_request = training_data_asset.build_batch_request(dataframe=train_df)\n",
    "\n",
    "# Create an Expectation Suite \n",
    "context.add_or_update_expectation_suite(housing_expectation_suite_name)\n",
    "\n",
    "# Create a Validator\n",
    "housing_validator = context.get_validator(\n",
    "    batch_request=training_batch_request,\n",
    "    expectation_suite_name=housing_expectation_suite_name\n",
    ")\n",
    "display(housing_validator.head())"
   ]
  },
  {
   "cell_type": "markdown",
   "id": "5a447615",
   "metadata": {},
   "source": [
    "### 3a) Create Expectations\n",
    "Your task is to create the following Expectations using the `expect_*` methods provided by the Validator (`housing_validator`). Additionally, recall that the `expect_*` methods will also validate the data loaded into the Validator, so please also store the validation results in a list.\n",
    "1. DataFrame `df` should contain all the columns in the same order as `train_df` (the training DataFrame produced by the `data_extraction` function).\n",
    "1. Column `price` can not contain NaN values.\n",
    "1. Column `yr_built` shouldn't have values smaller than 1917.\n",
    "1. Column `bedrooms` should be an integer.\n",
    "1. Column `condition` should contain only values from the set {'satisfactory', 'good', 'excellent'}.\n",
    "\n",
    "Hints: The following validation functions may be helpful. You can find more information of their usage [here](https://greatexpectations.io/expectations/). \n",
    "- expect_table_columns_to_match_ordered_list\n",
    "- expect_column_values_to_not_be_null\n",
    "- expect_column_values_to_be_between\n",
    "- expect_column_values_to_be_of_type\n",
    "- expect_column_values_to_be_in_set"
   ]
  },
  {
   "cell_type": "code",
<<<<<<< HEAD
   "execution_count": 26,
=======
   "execution_count": 23,
>>>>>>> 2dc71ae (update)
   "id": "4da1db23",
   "metadata": {},
   "outputs": [
    {
     "data": {
      "application/vnd.jupyter.widget-view+json": {
<<<<<<< HEAD
       "model_id": "11defe4b20f940838c9e4ef280a577a7",
=======
       "model_id": "a23c89be188b4dd080bab2ee618ae7f5",
>>>>>>> 2dc71ae (update)
       "version_major": 2,
       "version_minor": 0
      },
      "text/plain": [
       "Calculating Metrics:   0%|          | 0/2 [00:00<?, ?it/s]"
      ]
     },
     "metadata": {},
     "output_type": "display_data"
    },
    {
     "data": {
      "application/vnd.jupyter.widget-view+json": {
<<<<<<< HEAD
       "model_id": "0205a9a1cccf4e41a74706f324286f3f",
=======
       "model_id": "4050ee1220a04e83a2a5a41067183ec7",
>>>>>>> 2dc71ae (update)
       "version_major": 2,
       "version_minor": 0
      },
      "text/plain": [
       "Calculating Metrics:   0%|          | 0/6 [00:00<?, ?it/s]"
      ]
     },
     "metadata": {},
     "output_type": "display_data"
    },
    {
     "data": {
      "application/vnd.jupyter.widget-view+json": {
<<<<<<< HEAD
       "model_id": "0e0108e19b0f4dfb93365ed20ce8bb3d",
=======
       "model_id": "e0778f2ab956479fbc1162fb48e20351",
>>>>>>> 2dc71ae (update)
       "version_major": 2,
       "version_minor": 0
      },
      "text/plain": [
       "Calculating Metrics:   0%|          | 0/8 [00:00<?, ?it/s]"
      ]
     },
     "metadata": {},
     "output_type": "display_data"
    },
    {
     "data": {
      "application/vnd.jupyter.widget-view+json": {
<<<<<<< HEAD
       "model_id": "abc52936f9e14bb7a4688fb9f2524a6f",
=======
       "model_id": "9a5e82be55f84ba9930322764de6cd26",
>>>>>>> 2dc71ae (update)
       "version_major": 2,
       "version_minor": 0
      },
      "text/plain": [
       "Calculating Metrics:   0%|          | 0/1 [00:00<?, ?it/s]"
      ]
     },
     "metadata": {},
     "output_type": "display_data"
    },
    {
     "data": {
      "application/vnd.jupyter.widget-view+json": {
<<<<<<< HEAD
       "model_id": "991534a6c3244192be0f6c7ea4b8ce91",
=======
       "model_id": "2cab15ea5c384d0c8b9c73e79e79fa7e",
>>>>>>> 2dc71ae (update)
       "version_major": 2,
       "version_minor": 0
      },
      "text/plain": [
       "Calculating Metrics:   0%|          | 0/8 [00:00<?, ?it/s]"
      ]
     },
     "metadata": {},
     "output_type": "display_data"
    },
    {
     "name": "stdout",
     "output_type": "stream",
     "text": [
      "Test 0 succeeded (expect_table_columns_to_match_ordered_list)\n",
      "Test 1 succeeded (expect_column_values_to_not_be_null)\n",
      "Test 2 failed (expect_column_values_to_be_between)\n",
      "\t ('element_count', 11046)\n",
      "\t ('unexpected_count', 437)\n",
      "\t ('unexpected_percent', 3.9561832337497735)\n",
      "\t ('partial_unexpected_list', [1900, 1910, 1913, 1910, 1906, 1915, 1906, 1910, 1906, 1912, 1905, 1909, 1909, 1906, 1909, 1910, 1903, 1906, 1910, 1916])\n",
      "\t ('missing_count', 0)\n",
      "\t ('missing_percent', 0.0)\n",
      "\t ('unexpected_percent_total', 3.9561832337497735)\n",
      "\t ('unexpected_percent_nonmissing', 3.9561832337497735)\n",
      "Test 3 succeeded (expect_column_values_to_be_of_type)\n",
      "Test 4 succeeded (expect_column_values_to_be_in_set)\n"
     ]
    }
   ],
   "source": [
    "test_results = []\n",
    "\n",
    "### START CODE HERE\n",
    "# e.g., test_results.append(...)\n",
    "test_results.append(housing_validator.expect_table_columns_to_match_ordered_list(list(train_df.columns)))\n",
    "test_results.append(housing_validator.expect_column_values_to_not_be_null(\"price\"))\n",
    "test_results.append(housing_validator.expect_column_values_to_be_between(column=\"yr_built\", min_value=1917))\n",
    "test_results.append(housing_validator.expect_column_values_to_be_of_type(column=\"bedrooms\", type_=\"int64\"))\n",
    "test_results.append(housing_validator.expect_column_values_to_be_in_set(\"condition\", {'satisfactory', 'good', 'excellent'}))\n",
    "### END CODE HERE\n",
    "\n",
    "# Print the validation results of the batch loaded into the Validator\n",
    "for i, result in enumerate(test_results):\n",
    "    if result['success'] is True:      \n",
    "        print(f\"Test {i} succeeded ({result['expectation_config']['expectation_type']})\")\n",
    "    else:\n",
    "        print(f\"Test {i} failed ({result['expectation_config']['expectation_type']})\")\n",
    "        for item in result['result'].items():\n",
    "            print(\"\\t\", item)"
   ]
  },
  {
   "cell_type": "markdown",
   "id": "1a2f71a2",
   "metadata": {},
   "source": [
    "Expected output:\n",
    "```text\n",
    "Test 0 succeeded (expect_table_columns_to_match_ordered_list)\n",
    "Test 1 succeeded (expect_column_values_to_not_be_null)\n",
    "Test 2 failed (expect_column_values_to_be_between)\n",
    "\t ('element_count', 11046)\n",
    "\t ('unexpected_count', 437)\n",
    "\t ('unexpected_percent', 3.9561832337497735)\n",
    "\t ('partial_unexpected_list', [1900, 1910, 1913, 1910, 1906, 1915, 1906, 1910, 1906, 1912, 1905, 1909, 1909, 1906, 1909, 1910, 1903, 1906, 1910, 1916])\n",
    "\t ('missing_count', 0)\n",
    "\t ('missing_percent', 0.0)\n",
    "\t ('unexpected_percent_total', 3.9561832337497735)\n",
    "\t ('unexpected_percent_nonmissing', 3.9561832337497735)\n",
    "Test 3 succeeded (expect_column_values_to_be_of_type)\n",
    "Test 4 succeeded (expect_column_values_to_be_in_set)\n",
    "```"
   ]
  },
  {
   "cell_type": "markdown",
   "id": "6e3c8c89",
   "metadata": {},
   "source": [
    "We see that the Expectation regarding the building year is not met. There are $\\frac{437}{11046}=3.96\\%$ of entries not conforming to our Expectation. There are (at least) three ways in which we can deal with this: \n",
    "1. We can manually check the min value of the column `yr_built` (in fact, we already have the info in Assignment 2b) and use that as the lower bound. \n",
    "1. We can use the keyword argument `mostly` to specify a fraction of the data that must conform with our expectations. This allows for some values to be outside of the defined interval. \n",
    "1. We can try to define the boundaries automatically (see below). \n",
    "\n",
    "Which ever approach we take, we can just redefine the Expectation and that will overwrite the old one.\n",
    "\n",
    "Some (but not all) Expectations allow for automatic inferring of boundaries for values using the batch loaded into the Validator. This is called auto-initializing. You can check if an Expectation can be auto-initialized as follows."
   ]
  },
  {
   "cell_type": "code",
<<<<<<< HEAD
   "execution_count": 27,
=======
   "execution_count": 24,
>>>>>>> 2dc71ae (update)
   "id": "c0bf2859",
   "metadata": {},
   "outputs": [
    {
     "name": "stdout",
     "output_type": "stream",
     "text": [
      "The Expectation expect_table_columns_to_match_ordered_list is not able to be auto-initialized.\n",
      "The Expectation expect_column_values_to_be_between is able to be auto-initialized. Please run by using the auto=True parameter.\n",
      "\n",
      "boolean_1 = False and boolean_2 = True\n"
     ]
    }
   ],
   "source": [
    "boolean_1 = Expectation.is_expectation_auto_initializing(name=\"expect_table_columns_to_match_ordered_list\")\n",
    "boolean_2 = Expectation.is_expectation_auto_initializing(name=\"expect_column_values_to_be_between\")\n",
    "print(f\"\\nboolean_1 = {boolean_1} and boolean_2 = {boolean_2}\")"
   ]
  },
  {
   "cell_type": "markdown",
   "id": "406124c7",
   "metadata": {},
   "source": [
    "Using auto-initializing is convenient especially when working with a large number of covariates. However, it requires that we have access to some data, which has already been validated (luckily, we do). Also, auto-initialization might produce some rules that are too strict or too loose, so always be careful when using them and check the results.\n",
    "\n",
    "Update our `housing_validator` with the following Expectations: \n",
    "- The values of columns `yr_built`, `bedrooms`, and `date` should be between a minimum value and a maximum value. These values are automatically inferred by Great Expectations.\n",
    "- The values of columns `area` should be in a set. The set is also automatically inferred by Great Expectations.\n",
    "\n",
    "Similar to what you did previously, also append the resulted ExpectationValidationResults into a list. \n",
    "\n",
    "Hint: Check [here](https://docs.greatexpectations.io/docs/guides/expectations/how_to_use_auto_initializing_expectations/) on how to enable auto-initialization of an Expectation. "
   ]
  },
  {
   "cell_type": "code",
<<<<<<< HEAD
   "execution_count": 28,
=======
   "execution_count": 25,
>>>>>>> 2dc71ae (update)
   "id": "b6cce19d",
   "metadata": {},
   "outputs": [
    {
     "name": "stdout",
     "output_type": "stream",
     "text": [
      "\n"
     ]
    },
    {
     "data": {
      "application/vnd.jupyter.widget-view+json": {
<<<<<<< HEAD
       "model_id": "894a5958877c4c5292f523ae7b347264",
=======
       "model_id": "facae595a7524790a4fb519654c398af",
>>>>>>> 2dc71ae (update)
       "version_major": 2,
       "version_minor": 0
      },
      "text/plain": [
       "Generating Expectations:   0%|          | 0/1 [00:00<?, ?it/s]"
      ]
     },
     "metadata": {},
     "output_type": "display_data"
    },
    {
     "data": {
      "application/vnd.jupyter.widget-view+json": {
<<<<<<< HEAD
       "model_id": "79bdcf40e0734d64af2ab13371b8091b",
=======
       "model_id": "ff35ab6b6f1a47659504320433252aad",
>>>>>>> 2dc71ae (update)
       "version_major": 2,
       "version_minor": 0
      },
      "text/plain": [
       "Calculating Metrics:   0%|          | 0/2 [00:00<?, ?it/s]"
      ]
     },
     "metadata": {},
     "output_type": "display_data"
    },
    {
     "data": {
      "application/vnd.jupyter.widget-view+json": {
<<<<<<< HEAD
       "model_id": "9230602fa91142d09cdb1a69bd3bef56",
=======
       "model_id": "308336ecdcad4c7396720ac96ad6b5d3",
>>>>>>> 2dc71ae (update)
       "version_major": 2,
       "version_minor": 0
      },
      "text/plain": [
       "Calculating Metrics:   0%|          | 0/1 [00:00<?, ?it/s]"
      ]
     },
     "metadata": {},
     "output_type": "display_data"
    },
    {
     "data": {
      "application/vnd.jupyter.widget-view+json": {
<<<<<<< HEAD
       "model_id": "3729757e467a46ff91f63ddf7529e83f",
=======
       "model_id": "99f45c347dee4605a98534353eef5d5a",
>>>>>>> 2dc71ae (update)
       "version_major": 2,
       "version_minor": 0
      },
      "text/plain": [
       "Profiling Dataset:         0%|          | 0/1 [00:00<?, ?it/s]"
      ]
     },
     "metadata": {},
     "output_type": "display_data"
    },
    {
     "data": {
      "application/vnd.jupyter.widget-view+json": {
<<<<<<< HEAD
       "model_id": "4a546f1137ea49b29dfd0671c40148a1",
=======
       "model_id": "86d2625613264511bd2f8de12a188e32",
>>>>>>> 2dc71ae (update)
       "version_major": 2,
       "version_minor": 0
      },
      "text/plain": [
       "Calculating Metrics:   0%|          | 0/4 [00:00<?, ?it/s]"
      ]
     },
     "metadata": {},
     "output_type": "display_data"
    },
    {
     "data": {
      "application/vnd.jupyter.widget-view+json": {
<<<<<<< HEAD
       "model_id": "d706fb9f12ae47d58d4a4b11d033b261",
=======
       "model_id": "5c9d779856c548d18e31195ca3d8c170",
>>>>>>> 2dc71ae (update)
       "version_major": 2,
       "version_minor": 0
      },
      "text/plain": [
       "Calculating Metrics:   0%|          | 0/4 [00:00<?, ?it/s]"
      ]
     },
     "metadata": {},
     "output_type": "display_data"
    },
    {
     "data": {
      "application/vnd.jupyter.widget-view+json": {
<<<<<<< HEAD
       "model_id": "4712ecc2b5b64909846d2b46a1f57058",
=======
       "model_id": "7fe6e3e93b66468b97f9004cf45d82e9",
>>>>>>> 2dc71ae (update)
       "version_major": 2,
       "version_minor": 0
      },
      "text/plain": [
       "Calculating Metrics:   0%|          | 0/8 [00:00<?, ?it/s]"
      ]
     },
     "metadata": {},
     "output_type": "display_data"
    },
    {
     "name": "stdout",
     "output_type": "stream",
     "text": [
      "\n"
     ]
    },
    {
     "data": {
      "application/vnd.jupyter.widget-view+json": {
<<<<<<< HEAD
       "model_id": "8b7dd709254f4a8493004ff224542e39",
=======
       "model_id": "003d8e97bcd94a3e94caa4709893ed13",
>>>>>>> 2dc71ae (update)
       "version_major": 2,
       "version_minor": 0
      },
      "text/plain": [
       "Generating Expectations:   0%|          | 0/1 [00:00<?, ?it/s]"
      ]
     },
     "metadata": {},
     "output_type": "display_data"
    },
    {
     "data": {
      "application/vnd.jupyter.widget-view+json": {
<<<<<<< HEAD
       "model_id": "8e6280e8eef140268aabd51b3c269911",
=======
       "model_id": "820d14e47ff54d629ef75a508b26bbe1",
>>>>>>> 2dc71ae (update)
       "version_major": 2,
       "version_minor": 0
      },
      "text/plain": [
       "Calculating Metrics:   0%|          | 0/2 [00:00<?, ?it/s]"
      ]
     },
     "metadata": {},
     "output_type": "display_data"
    },
    {
     "data": {
      "application/vnd.jupyter.widget-view+json": {
<<<<<<< HEAD
       "model_id": "4cda6dafa8b244539fb198e44e5fb566",
=======
       "model_id": "dd3080330d0e49d2befb99a92d890d47",
>>>>>>> 2dc71ae (update)
       "version_major": 2,
       "version_minor": 0
      },
      "text/plain": [
       "Calculating Metrics:   0%|          | 0/1 [00:00<?, ?it/s]"
      ]
     },
     "metadata": {},
     "output_type": "display_data"
    },
    {
     "data": {
      "application/vnd.jupyter.widget-view+json": {
<<<<<<< HEAD
       "model_id": "faf2a84d4a354f48acc01981900c6cbe",
=======
       "model_id": "624ecef2bd68473982b80759d33606c4",
>>>>>>> 2dc71ae (update)
       "version_major": 2,
       "version_minor": 0
      },
      "text/plain": [
       "Profiling Dataset:         0%|          | 0/1 [00:00<?, ?it/s]"
      ]
     },
     "metadata": {},
     "output_type": "display_data"
    },
    {
     "data": {
      "application/vnd.jupyter.widget-view+json": {
<<<<<<< HEAD
       "model_id": "5b20a26e7a5a403d8800cb38a45b3b69",
=======
       "model_id": "6e446c81fa544e6c8ec6d34a2da4997d",
>>>>>>> 2dc71ae (update)
       "version_major": 2,
       "version_minor": 0
      },
      "text/plain": [
       "Calculating Metrics:   0%|          | 0/4 [00:00<?, ?it/s]"
      ]
     },
     "metadata": {},
     "output_type": "display_data"
    },
    {
     "data": {
      "application/vnd.jupyter.widget-view+json": {
<<<<<<< HEAD
       "model_id": "dc6603a3a02d4ced81b9e0c28f4f972e",
=======
       "model_id": "cf97dfe29c3f49e0b1a1f593788a33b8",
>>>>>>> 2dc71ae (update)
       "version_major": 2,
       "version_minor": 0
      },
      "text/plain": [
       "Calculating Metrics:   0%|          | 0/4 [00:00<?, ?it/s]"
      ]
     },
     "metadata": {},
     "output_type": "display_data"
    },
    {
     "data": {
      "application/vnd.jupyter.widget-view+json": {
<<<<<<< HEAD
       "model_id": "9f590b24eef04dda8e779b5381e3b420",
=======
       "model_id": "1f6d1a8c0bc84596abad5eb799aa3237",
>>>>>>> 2dc71ae (update)
       "version_major": 2,
       "version_minor": 0
      },
      "text/plain": [
       "Calculating Metrics:   0%|          | 0/8 [00:00<?, ?it/s]"
      ]
     },
     "metadata": {},
     "output_type": "display_data"
    },
    {
     "name": "stdout",
     "output_type": "stream",
     "text": [
      "\n"
     ]
    },
    {
     "data": {
      "application/vnd.jupyter.widget-view+json": {
<<<<<<< HEAD
       "model_id": "9a94ad3bdcb741d7b75307a766c8d59d",
=======
       "model_id": "ded9a5b4abf7493cbd496963a482fd95",
>>>>>>> 2dc71ae (update)
       "version_major": 2,
       "version_minor": 0
      },
      "text/plain": [
       "Generating Expectations:   0%|          | 0/1 [00:00<?, ?it/s]"
      ]
     },
     "metadata": {},
     "output_type": "display_data"
    },
    {
     "data": {
      "application/vnd.jupyter.widget-view+json": {
<<<<<<< HEAD
       "model_id": "179d3cd84f09419bb4f248db581238ac",
=======
       "model_id": "c0d285ec97074d08bf2d8ecde7b3360e",
>>>>>>> 2dc71ae (update)
       "version_major": 2,
       "version_minor": 0
      },
      "text/plain": [
       "Calculating Metrics:   0%|          | 0/2 [00:00<?, ?it/s]"
      ]
     },
     "metadata": {},
     "output_type": "display_data"
    },
    {
     "data": {
      "application/vnd.jupyter.widget-view+json": {
<<<<<<< HEAD
       "model_id": "36ea9f4730344573b3f3787f26a8f849",
=======
       "model_id": "292c0715c2d64cbbb7e79a47a564b555",
>>>>>>> 2dc71ae (update)
       "version_major": 2,
       "version_minor": 0
      },
      "text/plain": [
       "Calculating Metrics:   0%|          | 0/1 [00:00<?, ?it/s]"
      ]
     },
     "metadata": {},
     "output_type": "display_data"
    },
    {
     "data": {
      "application/vnd.jupyter.widget-view+json": {
<<<<<<< HEAD
       "model_id": "31a23734d4b84ae5ad588673bbe36969",
=======
       "model_id": "46aab77575fb4e57b28137e6b97b3bab",
>>>>>>> 2dc71ae (update)
       "version_major": 2,
       "version_minor": 0
      },
      "text/plain": [
       "Profiling Dataset:         0%|          | 0/1 [00:00<?, ?it/s]"
      ]
     },
     "metadata": {},
     "output_type": "display_data"
    },
    {
     "data": {
      "application/vnd.jupyter.widget-view+json": {
<<<<<<< HEAD
       "model_id": "a39315bd12c048719e3508fe79703969",
=======
       "model_id": "315ea04af87b4bce8c96de752b32e8a6",
>>>>>>> 2dc71ae (update)
       "version_major": 2,
       "version_minor": 0
      },
      "text/plain": [
       "Calculating Metrics:   0%|          | 0/4 [00:00<?, ?it/s]"
      ]
     },
     "metadata": {},
     "output_type": "display_data"
    },
    {
     "data": {
      "application/vnd.jupyter.widget-view+json": {
<<<<<<< HEAD
       "model_id": "320c43afc43f445eb9c26eabc5fe2c0d",
=======
       "model_id": "71fd178ae7074c63918c876c41e61b20",
>>>>>>> 2dc71ae (update)
       "version_major": 2,
       "version_minor": 0
      },
      "text/plain": [
       "Calculating Metrics:   0%|          | 0/4 [00:00<?, ?it/s]"
      ]
     },
     "metadata": {},
     "output_type": "display_data"
    },
    {
     "data": {
      "application/vnd.jupyter.widget-view+json": {
<<<<<<< HEAD
       "model_id": "cfdf5beaac1f4f69b048271f60fd9480",
=======
       "model_id": "d38fa183262f4df392dbec14fcbbad1e",
>>>>>>> 2dc71ae (update)
       "version_major": 2,
       "version_minor": 0
      },
      "text/plain": [
       "Calculating Metrics:   0%|          | 0/8 [00:00<?, ?it/s]"
      ]
     },
     "metadata": {},
     "output_type": "display_data"
    },
    {
     "name": "stdout",
     "output_type": "stream",
     "text": [
      "\n"
     ]
    },
    {
     "data": {
      "application/vnd.jupyter.widget-view+json": {
<<<<<<< HEAD
       "model_id": "fd001f54ae6e470c91cdcecbeb23a510",
=======
       "model_id": "ceab35b59c6340d8a68a6782d580038b",
>>>>>>> 2dc71ae (update)
       "version_major": 2,
       "version_minor": 0
      },
      "text/plain": [
       "Generating Expectations:   0%|          | 0/1 [00:00<?, ?it/s]"
      ]
     },
     "metadata": {},
     "output_type": "display_data"
    },
    {
     "data": {
      "application/vnd.jupyter.widget-view+json": {
<<<<<<< HEAD
       "model_id": "6f3fa0e1ce8a407a98feed087e8bc489",
=======
       "model_id": "13f11eb94f9242eb859330f1c4fe9ec1",
>>>>>>> 2dc71ae (update)
       "version_major": 2,
       "version_minor": 0
      },
      "text/plain": [
       "Calculating Metrics:   0%|          | 0/2 [00:00<?, ?it/s]"
      ]
     },
     "metadata": {},
     "output_type": "display_data"
    },
    {
     "data": {
      "application/vnd.jupyter.widget-view+json": {
<<<<<<< HEAD
       "model_id": "7eef710ce4dd4d73867700c7335937cb",
=======
       "model_id": "974237ef91e74e50b9702f17558ca087",
>>>>>>> 2dc71ae (update)
       "version_major": 2,
       "version_minor": 0
      },
      "text/plain": [
       "Calculating Metrics:   0%|          | 0/1 [00:00<?, ?it/s]"
      ]
     },
     "metadata": {},
     "output_type": "display_data"
    },
    {
     "data": {
      "application/vnd.jupyter.widget-view+json": {
<<<<<<< HEAD
       "model_id": "b33477d582ea4e65b3b8402cbae7ad6e",
=======
       "model_id": "79315fb4ab114e88ac91cbb3e7874e62",
>>>>>>> 2dc71ae (update)
       "version_major": 2,
       "version_minor": 0
      },
      "text/plain": [
       "Profiling Dataset:         0%|          | 0/1 [00:00<?, ?it/s]"
      ]
     },
     "metadata": {},
     "output_type": "display_data"
    },
    {
     "data": {
      "application/vnd.jupyter.widget-view+json": {
<<<<<<< HEAD
       "model_id": "82c6596dbdf1472fa3c9338a5206a4a1",
=======
       "model_id": "d5d15546ce9b412e9666bdc659324324",
>>>>>>> 2dc71ae (update)
       "version_major": 2,
       "version_minor": 0
      },
      "text/plain": [
       "Calculating Metrics:   0%|          | 0/4 [00:00<?, ?it/s]"
      ]
     },
     "metadata": {},
     "output_type": "display_data"
    },
    {
     "data": {
      "application/vnd.jupyter.widget-view+json": {
<<<<<<< HEAD
       "model_id": "fee13e5cbc804e95a2cbf8ffdef1504c",
=======
       "model_id": "1f532ff945bc49b98040d9398bada061",
>>>>>>> 2dc71ae (update)
       "version_major": 2,
       "version_minor": 0
      },
      "text/plain": [
       "Calculating Metrics:   0%|          | 0/8 [00:00<?, ?it/s]"
      ]
     },
     "metadata": {},
     "output_type": "display_data"
    },
    {
     "name": "stdout",
     "output_type": "stream",
     "text": [
      "Test 0 (expect_column_values_to_be_between) resulted in config:\n",
      "\t ('column', 'yr_built')\n",
      "\t ('min_value', 1900)\n",
      "\t ('max_value', 2015)\n",
      "\t ('mostly', 1.0)\n",
      "\t ('strict_min', False)\n",
      "\t ('strict_max', False)\n",
      "\t ('auto', True)\n",
      "\t ('batch_id', 'housing_datasource-training_data')\n",
      "Test 1 (expect_column_values_to_be_between) resulted in config:\n",
<<<<<<< HEAD
      "\t ('column', 'bedrooms')\n",
      "\t ('mostly', 1.0)\n",
      "\t ('strict_max', False)\n",
      "\t ('max_value', 5)\n",
      "\t ('strict_min', False)\n",
      "\t ('min_value', 0)\n",
      "\t ('auto', True)\n",
      "\t ('batch_id', 'housing_datasource-training_data')\n",
      "Test 2 (expect_column_values_to_be_between) resulted in config:\n",
      "\t ('column', 'date')\n",
      "\t ('mostly', 1.0)\n",
      "\t ('strict_max', False)\n",
      "\t ('max_value', '2015-12-24T00:00:00')\n",
      "\t ('strict_min', False)\n",
      "\t ('min_value', '2007-07-02T00:00:00')\n",
=======
      "\t ('strict_min', False)\n",
      "\t ('min_value', 0)\n",
      "\t ('column', 'bedrooms')\n",
      "\t ('strict_max', False)\n",
      "\t ('mostly', 1.0)\n",
      "\t ('max_value', 5)\n",
      "\t ('auto', True)\n",
      "\t ('batch_id', 'housing_datasource-training_data')\n",
      "Test 2 (expect_column_values_to_be_between) resulted in config:\n",
      "\t ('strict_min', False)\n",
      "\t ('min_value', '2007-07-02T00:00:00')\n",
      "\t ('column', 'date')\n",
      "\t ('strict_max', False)\n",
      "\t ('mostly', 1.0)\n",
      "\t ('max_value', '2015-12-24T00:00:00')\n",
>>>>>>> 2dc71ae (update)
      "\t ('auto', True)\n",
      "\t ('batch_id', 'housing_datasource-training_data')\n",
      "Test 3 (expect_column_values_to_be_in_set) resulted in config:\n",
      "\t ('column', 'area')\n",
<<<<<<< HEAD
      "\t ('value_set', ['Weston', 'Gundaroo', 'Campbell', 'Fisher', 'Gilmore', 'Cook', 'Uriarra Forest', 'Nicholls', 'Chapman', 'Tuggeranong', 'Monash', 'Reid', 'Griffith', 'Kambah', 'Greenway', 'Bonner', 'Waramanga', 'Latham', 'Kingston', 'Mckellar', 'Russell Hill', 'Garran', 'Palmerston', 'Red Hill', 'Torrens', 'Holt', 'Mitchell', 'Holder', 'Lyneham', 'Fairbairn Raaf', 'Fadden', 'Ngunnawal', 'Kippax Centre', 'Florey', 'Calwell', 'Banks', 'Charnwood', 'Melba', 'Yarrow', 'Stirling', 'Conder', 'Ainslie', 'Harman', 'Duntroon', 'Isaacs', 'Hackett', 'Scullin', 'Forde', 'Pialligo', 'Capital Hill', 'Higgins', 'Bruce', 'City', 'Administrative', 'Tinderry', 'Chisholm', 'Kaleen', 'Belconnen Dc', 'Fraser', 'Turner', 'Wallaroo', 'Ginninderra Village', 'Narrabundah', 'Mount Stromlo', 'Phillip', 'Chifley', 'Erindale Centre', 'Clear Range', 'Belconnen', 'Parliament House', \"O'connor\", 'Bonython', 'Kippax', 'Duffy', 'Page', 'Crace', 'Hawker', 'Watson', 'Weston Creek', 'Gowrie', 'Forrest', 'Parkes', 'Barton', 'Dunlop', 'Evatt', 'Woden', 'Oxley', 'Lyons', 'Isabella Plains', 'Lawson', 'Aranda', 'Harrison', 'Giralang', 'Macquarie', 'Hmas Harman', 'Pierces Creek', 'Hall', 'Weetangera', 'Franklin', 'Amaroo', 'Hughes', 'Yarralumla', 'Macgregor', 'Farrer', 'Russell', 'Fyshwick', 'Macarthur', 'Swinger Hill', 'Black Mountain', 'Dickson', 'Gordon', 'Rivett', 'Braddon', 'Uriarra', 'Richardson', 'Theodore', 'Wanniassa', 'Downer', 'Canberra', 'Causeway', 'Jamison Centre', 'Curtin', 'Brindabella', 'Manuka', 'Spence', \"O'malley\", 'Pearce', 'Deakin', 'Mawson', 'Flynn', 'Acton'])\n",
=======
      "\t ('value_set', ['Campbell', 'Pialligo', 'Fairbairn Raaf', 'Hughes', 'Greenway', 'Forde', 'Bruce', 'Aranda', 'Gordon', 'Russell Hill', 'Franklin', 'Duffy', 'Dunlop', 'Evatt', 'Stirling', 'Higgins', 'Curtin', 'Cook', 'Ngunnawal', 'Oxley', 'Bonython', 'Nicholls', 'Theodore', 'Mckellar', \"O'connor\", 'Gilmore', 'Forrest', 'Melba', 'Narrabundah', 'Richardson', 'Manuka', 'Page', 'Conder', 'Uriarra', 'Macgregor', 'Parkes', 'Garran', 'Clear Range', 'Chapman', 'Hmas Harman', 'Crace', 'Kaleen', 'Isaacs', 'Tinderry', 'Barton', 'Harman', 'Yarrow', 'Griffith', 'Mawson', 'Weetangera', 'Canberra', 'Chisholm', \"O'malley\", 'Kippax', 'Turner', 'City', 'Pierces Creek', 'Russell', 'Waramanga', 'Mitchell', 'Erindale Centre', 'Latham', 'Ginninderra Village', 'Administrative', 'Charnwood', 'Yarralumla', 'Chifley', 'Kippax Centre', 'Red Hill', 'Wallaroo', 'Black Mountain', 'Florey', 'Braddon', 'Hall', 'Parliament House', 'Holt', 'Causeway', 'Giralang', 'Macquarie', 'Lyons', 'Dickson', 'Weston Creek', 'Capital Hill', 'Deakin', 'Fisher', 'Kingston', 'Farrer', 'Scullin', 'Downer', 'Brindabella', 'Hawker', 'Calwell', 'Duntroon', 'Bonner', 'Acton', 'Harrison', 'Belconnen Dc', 'Gowrie', 'Mount Stromlo', 'Rivett', 'Fadden', 'Lawson', 'Banks', 'Spence', 'Isabella Plains', 'Kambah', 'Reid', 'Torrens', 'Tuggeranong', 'Fraser', 'Lyneham', 'Swinger Hill', 'Phillip', 'Wanniassa', 'Uriarra Forest', 'Macarthur', 'Gundaroo', 'Ainslie', 'Monash', 'Fyshwick', 'Weston', 'Pearce', 'Woden', 'Amaroo', 'Holder', 'Watson', 'Flynn', 'Palmerston', 'Jamison Centre', 'Belconnen', 'Hackett'])\n",
>>>>>>> 2dc71ae (update)
      "\t ('mostly', 1.0)\n",
      "\t ('auto', True)\n",
      "\t ('batch_id', 'housing_datasource-training_data')\n"
     ]
    }
   ],
   "source": [
    "test_results = []\n",
    "\n",
    "### START CODE HERE\n",
    "test_results.append(housing_validator.expect_column_values_to_be_between(column=\"yr_built\", auto=True))\n",
    "test_results.append(housing_validator.expect_column_values_to_be_between(column=\"bedrooms\", auto=True))\n",
    "test_results.append(housing_validator.expect_column_values_to_be_between(column=\"date\", auto=True))\n",
    "test_results.append(housing_validator.expect_column_values_to_be_in_set(column=\"area\", auto=True))\n",
    "### END CODE HERE\n",
    "\n",
    "# Print the Expectation configuration that Great Expectations automatically inferred\n",
    "for i, result in enumerate(test_results):\n",
    "    print(f\"Test {i} ({result['expectation_config']['expectation_type']}) resulted in config:\")\n",
    "    for item in result['expectation_config']['kwargs'].items():\n",
    "        print(\"\\t\", item)"
   ]
  },
  {
   "cell_type": "markdown",
   "id": "81de3885",
   "metadata": {},
   "source": [
    "Expected output:\n",
    "\n",
    "```text\n",
    "Test 0 (expect_column_values_to_be_between) resulted in config:\n",
    "\t ('column', 'yr_built')\n",
    "\t ('min_value', 1900)\n",
    "\t ('max_value', 2015)\n",
    "\t ('mostly', 1.0)\n",
    "\t ('strict_min', False)\n",
    "\t ('strict_max', False)\n",
    "\t ('auto', True)\n",
    "\t ('batch_id', 'housing_datasource-training_data')\n",
    "Test 1 (expect_column_values_to_be_between) resulted in config:\n",
    "\t ('max_value', 5)\n",
    "\t ('column', 'bedrooms')\n",
    "\t ('min_value', 0)\n",
    "\t ('strict_max', False)\n",
    "\t ('mostly', 1.0)\n",
    "\t ('strict_min', False)\n",
    "\t ('auto', True)\n",
    "\t ('batch_id', 'housing_datasource-training_data')\n",
    "Test 2 (expect_column_values_to_be_between) resulted in config:\n",
    "\t ('max_value', '2015-12-24T00:00:00')\n",
    "\t ('column', 'date')\n",
    "\t ('min_value', '2007-07-02T00:00:00')\n",
    "\t ('strict_max', False)\n",
    "\t ('mostly', 1.0)\n",
    "\t ('strict_min', False)\n",
    "\t ('auto', True)\n",
    "\t ('batch_id', 'housing_datasource-training_data')\n",
    "Test 3 (expect_column_values_to_be_in_set) resulted in config:\n",
    "\t ('column', 'area')\n",
    "\t ('value_set', ['Jamison Centre', 'Gundaroo', 'Wanniassa', 'Kaleen', ...])\n",
    "\t ('mostly', 1.0)\n",
    "\t ('auto', True)\n",
    "\t ('batch_id', 'housing_datasource-training_data')\n",
    "```"
   ]
  },
  {
   "cell_type": "markdown",
   "id": "ab0296a2",
   "metadata": {},
   "source": [
    "We could specify more Expectations, but the Expectations we've defined suffice for now. Recall that the Expectation Suite we have configured this far exists only in memory and has to be persisted for future use. Let's save the Expectation Suite into our Data Context.\n",
    " "
   ]
  },
  {
   "cell_type": "code",
<<<<<<< HEAD
   "execution_count": 29,
=======
   "execution_count": 26,
>>>>>>> 2dc71ae (update)
   "id": "54f8e861",
   "metadata": {},
   "outputs": [],
   "source": [
    "# Persist the Expectation Suite\n",
    "housing_validator.save_expectation_suite()"
   ]
  },
  {
   "cell_type": "markdown",
   "id": "d89a3ee8",
   "metadata": {},
   "source": [
    "### 3b) Validate new data against the defined Expectations\n",
    "\n",
    "Let's run our newly defined Expectation Suite against some test data. This is done by creating and configuring a [Checkpoint](https://docs.greatexpectations.io/docs/terms/checkpoint). Before we do that, we'll have to create a Batch Request for the new data. We have some unprocessed test data residing in a test data folder. \n",
    "\n",
    "Create the following functions:\n",
    "1. `batch_creator`, which \n",
    "    1. creates a new DataFrame DataAsset named \"test_data\" to a Data Source or gets the asset from the Data Source if it's already existing, then \n",
    "    1. creates a new Batch Request for the given DataFrame and returns the new Batch Request.\n",
    "1. `create_checkpoint`, which \n",
    "    1. creates a new Checkpoint with the following configurations:\n",
    "        - The name of the Checkpoint should be the given `checkpoint_name`,\n",
    "        - It should validate the data of the given `batch_request` using an Expectation Suite whose name is the given `expectation_suite_name`\n",
    "    1. uses the created Checkpoint to run a validation, the validation running name should be the given `run_name`,\n",
    "    1. finally, returns the validation results. \n",
    "\n",
    "Hints: \n",
    "- The following functions may be useful for implementing the `batch_creator` function: \n",
    "    - [add_dataframe_asset and build_batch_request](https://docs.greatexpectations.io/docs/guides/connecting_to_your_data/fluent/in_memory/connect_in_memory_data/#add-a-data-asset-to-the-data-source)\n",
    "    - [get_asset](https://docs.greatexpectations.io/docs/guides/connecting_to_your_data/fluent/batch_requests/how_to_request_data_from_a_data_asset#retrieve-your-data-asset)\n",
    "\n",
    "- The following functions may be useful for implementing the `create_checkpoint` function: \n",
    "    - [add_or_update_checkpoint](https://docs.greatexpectations.io/docs/reference/api/data_context/AbstractDataContext_class#great_expectations.data_context.AbstractDataContext.add_or_update_checkpoint)\n",
    "    - [(Checkpoint).run](https://docs.greatexpectations.io/docs/reference/api/checkpoint/Checkpoint_class#great_expectations.checkpoint.Checkpoint.run)"
   ]
  },
  {
   "cell_type": "code",
<<<<<<< HEAD
   "execution_count": 30,
=======
   "execution_count": 27,
>>>>>>> 2dc71ae (update)
   "id": "ba25b77d",
   "metadata": {},
   "outputs": [],
   "source": [
    "def batch_creator(df: pd.DataFrame, context: FileDataContext, data_source_name: str) -> BatchRequest:\n",
    "    \"\"\"\n",
    "    Creates a new Batch Request using the given DataFrame\n",
    "    Args:\n",
    "        df (DataFrame): A pandas DataFrame holding the cleaned housing data. \n",
    "        context (GX FileDataContext): The current active GX Data Context \n",
    "        data_source_name (str): Name of the GX Data Source, to which the DataFrame is added\n",
    "    Returns:\n",
    "        new_batch_request (GX BatchRequest): The GX batch request created using df\n",
    "    \"\"\"\n",
    "    datasource = context.get_datasource(data_source_name)\n",
    "    test_asset_name = \"test_data\"\n",
    "    \n",
    "    ### START CODE HERE\n",
    "    try:\n",
    "        test_data_asset = datasource.add_dataframe_asset(name=test_asset_name)\n",
    "    except:\n",
    "        test_data_asset = datasource.get_asset(test_asset_name)\n",
    "\n",
    "    test_batch_request = test_data_asset.build_batch_request(dataframe=df)\n",
    "\n",
    "    return test_batch_request\n",
    "\n",
    "    ### END CODE HERE\n",
    "\n",
    "\n",
    "def create_checkpoint(context: FileDataContext, batch_request: BatchRequest, checkpoint_name: str, expectation_suite_name: str, run_name: str) -> CheckpointResult:\n",
    "    \"\"\"\n",
    "    Creates a new GX Checkpoint from the argument batch_request\n",
    "    Args:\n",
    "        context (GX FileDataContext): The current active context \n",
    "        new_batch_request (GX BatchRequest): A GX batch request used to create the Checkpoint\n",
    "        checkpoint_name (str): Name of the Checkpoint\n",
    "        expectation_suite_name (str): Name of the Expectation Suite used to validate the data\n",
    "        run_name (str): Name of the validation running\n",
    "    Returns:\n",
    "        checkpoint_result (GX CheckpointResult): \n",
    "    \"\"\"\n",
    "    \n",
    "    ### START CODE HERE\n",
    "    checkpoint = context.add_or_update_checkpoint(\n",
    "        name=checkpoint_name,\n",
    "        batch_request=batch_request,\n",
    "        expectation_suite_name=expectation_suite_name\n",
    "    )\n",
    "    checkpoint_result = checkpoint.run(run_name=run_name)\n",
    "\n",
    "    return checkpoint_result\n",
    "\n",
    "    ### END CODE HERE\n",
    "\n"
   ]
  },
  {
   "cell_type": "markdown",
   "id": "7412ee29",
   "metadata": {},
   "source": [
    "Run the cell below to call both functions. This should create the Checkpoint and returns a Checkpoint result."
   ]
  },
  {
   "cell_type": "code",
<<<<<<< HEAD
   "execution_count": 31,
=======
   "execution_count": 28,
>>>>>>> 2dc71ae (update)
   "id": "49ad14e3",
   "metadata": {},
   "outputs": [
    {
     "data": {
      "application/vnd.jupyter.widget-view+json": {
<<<<<<< HEAD
       "model_id": "2ed4fb7aaa3c4817aec6348b56646be6",
=======
       "model_id": "cb405b2d39c84e0e9d03304deb08e2a5",
>>>>>>> 2dc71ae (update)
       "version_major": 2,
       "version_minor": 0
      },
      "text/plain": [
       "Calculating Metrics:   0%|          | 0/43 [00:00<?, ?it/s]"
      ]
     },
     "metadata": {},
     "output_type": "display_data"
    }
   ],
   "source": [
    "# Test data location\n",
    "test_path = WORKING_DIR / \"data\" / \"reference\" / \"test\"\n",
    "\n",
    "# Create the batch request and checkpoint\n",
    "context = gx.get_context()\n",
    "test_df = data_extraction(test_path, ['satisfactory', 'good', 'excellent'])\n",
    "test_batch_request = batch_creator(\n",
    "    df=test_df,\n",
    "    context=context,\n",
    "    data_source_name=housing_datasource_name)\n",
    "\n",
    "test_data_checkpoint_result = create_checkpoint(context=context,\n",
    "                                                batch_request=test_batch_request,\n",
    "                                                checkpoint_name=\"test_data_checkpoint\",\n",
    "                                                expectation_suite_name=housing_expectation_suite_name,\n",
    "                                                run_name=\"test_run\")"
   ]
  },
  {
   "cell_type": "code",
<<<<<<< HEAD
   "execution_count": 32,
=======
   "execution_count": 29,
>>>>>>> 2dc71ae (update)
   "id": "dea17531",
   "metadata": {},
   "outputs": [],
   "source": [
    "context.view_validation_result(test_data_checkpoint_result)"
   ]
  },
  {
   "cell_type": "markdown",
   "id": "e910ef15",
   "metadata": {},
   "source": [
    "If everything went smoothly, a page showing the result should be opened in your browser. We see that one out of eight expectations has failed. By scrolling down, we see that the failed expectation is the one which specifies that the values of column `cond_typos_fixed` has to be one of {'satisfactory', 'good', 'excellent'}. The test data seems to have new values 'tolerable' and 'poor'. You can find the result in `gx/uncommitted/data_docs/local_site/index.html`\n",
    "\n",
    "NOTE: _If we hadn't specified a threshold when we did fuzzy string matching, the algorithm would have changed the values 'tolerable' and 'poor' to their nearest matches from {'satisfactory', 'good', 'excellent'}, which would have been very undesirable._\n",
    "\n",
    "Do the following:\n",
    "1. Update the Expectation for column `condition` to include values 'tolerable' and 'poor' as well.\n",
    "1. Save the updated Expectation Suite into our Data Context.\n",
    "1. Use the `create_checkpoint` function you just made to create a new Checkpoint with arguments (`test_batch_request`, `\"second_test_checkpoint\"`, `\"housing_expectation_suite\"`, `\"second_test_run\"`). Store the results into a variable named `second_test_checkpoint_result`."
   ]
  },
  {
   "cell_type": "code",
<<<<<<< HEAD
   "execution_count": 33,
=======
   "execution_count": 30,
>>>>>>> 2dc71ae (update)
   "metadata": {},
   "outputs": [
    {
     "data": {
      "application/vnd.jupyter.widget-view+json": {
<<<<<<< HEAD
       "model_id": "50cfc9e6d6c944a6908f08c91d2d7419",
=======
       "model_id": "31c6089ce0bd4ecc95abfb79cc82cdf7",
>>>>>>> 2dc71ae (update)
       "version_major": 2,
       "version_minor": 0
      },
      "text/plain": [
       "Calculating Metrics:   0%|          | 0/8 [00:00<?, ?it/s]"
      ]
     },
     "metadata": {},
     "output_type": "display_data"
    },
    {
     "data": {
      "text/plain": [
       "{\n",
       "  \"success\": true,\n",
       "  \"result\": {\n",
       "    \"element_count\": 11046,\n",
       "    \"unexpected_count\": 0,\n",
       "    \"unexpected_percent\": 0.0,\n",
       "    \"partial_unexpected_list\": [],\n",
       "    \"missing_count\": 0,\n",
       "    \"missing_percent\": 0.0,\n",
       "    \"unexpected_percent_total\": 0.0,\n",
       "    \"unexpected_percent_nonmissing\": 0.0\n",
       "  },\n",
       "  \"meta\": {},\n",
       "  \"exception_info\": {\n",
       "    \"raised_exception\": false,\n",
       "    \"exception_traceback\": null,\n",
       "    \"exception_message\": null\n",
       "  }\n",
       "}"
      ]
     },
<<<<<<< HEAD
     "execution_count": 33,
=======
     "execution_count": 30,
>>>>>>> 2dc71ae (update)
     "metadata": {},
     "output_type": "execute_result"
    }
   ],
   "source": [
    "housing_validator.expect_column_values_to_be_in_set(\"condition\", {'satisfactory', 'good', 'excellent'})"
   ]
  },
  {
   "cell_type": "code",
<<<<<<< HEAD
   "execution_count": 34,
=======
   "execution_count": 31,
>>>>>>> 2dc71ae (update)
   "id": "bb417abd",
   "metadata": {},
   "outputs": [
    {
     "data": {
      "application/vnd.jupyter.widget-view+json": {
<<<<<<< HEAD
       "model_id": "7a53a9ad9d82424db8e4d7cef0372261",
=======
       "model_id": "321abdd8213a4d689747868f19b325b3",
>>>>>>> 2dc71ae (update)
       "version_major": 2,
       "version_minor": 0
      },
      "text/plain": [
       "Calculating Metrics:   0%|          | 0/8 [00:00<?, ?it/s]"
      ]
     },
     "metadata": {},
     "output_type": "display_data"
    },
    {
     "data": {
      "application/vnd.jupyter.widget-view+json": {
<<<<<<< HEAD
       "model_id": "ce115959bd4b467a9a451d9161f9f632",
=======
       "model_id": "e0054d333a464fab8dbc5187cfef5e8a",
>>>>>>> 2dc71ae (update)
       "version_major": 2,
       "version_minor": 0
      },
      "text/plain": [
       "Calculating Metrics:   0%|          | 0/43 [00:00<?, ?it/s]"
      ]
     },
     "metadata": {},
     "output_type": "display_data"
    }
   ],
   "source": [
    "### START CODE HERE\n",
    "housing_validator.expect_column_values_to_be_in_set(\"condition\", {'satisfactory', 'good', 'excellent', 'tolerable', 'poor'})\n",
    "housing_validator.save_expectation_suite()\n",
    "\n",
    "second_test_data_checkpoint_result = create_checkpoint(context=context,\n",
    "                                                       batch_request=test_batch_request,\n",
    "                                                       checkpoint_name=\"second_test_checkpoint\",\n",
    "                                                       expectation_suite_name=\"housing_expectation_suite\",\n",
    "                                                       run_name=\"second_test_run\")\n",
    "### END CODE HERE\n"
   ]
  },
  {
   "cell_type": "code",
<<<<<<< HEAD
   "execution_count": 35,
=======
   "execution_count": 32,
>>>>>>> 2dc71ae (update)
   "id": "949d5004",
   "metadata": {},
   "outputs": [],
   "source": [
    "context.view_validation_result(second_test_data_checkpoint_result)"
   ]
  },
  {
   "cell_type": "markdown",
   "id": "c1f110da",
   "metadata": {},
   "source": [
    "Now we should see that all Expectations have been met.\n",
    "\n",
    "NOTE: _Creating Checkpoints and validating data against a set of Expectations doesn't do anything in itself (other than create the Data Docs). We can of course manually check the Data Docs after validating each new batch of data, but it would be nice if could automate at least some part of this process. This is what the [Great Expectations Actions](https://docs.greatexpectations.io/docs/guides/validation/validation_actions/actions_lp) are for. However, we won't utilize this functionality in this exercise._"
   ]
  },
  {
   "cell_type": "markdown",
   "id": "0c992956",
   "metadata": {},
   "source": [
    "### Screenshots to be submitted for Assignment 3\n",
    "1. A screenshot of the failed Checkpoint result (i.e., the Checkpoint run named \"test-run\").\n",
    "1. A screenshot of the succeeded Checkpoint result (i.e., the Checkpoint run named \"second-test-run\"). \n",
    "\n",
    "**Note**: It's enough to show the overview and the failed/corrected Validation. \n",
    "\n",
    "<details>\n",
    "    <summary>Example</summary>\n",
    "    <figure>\n",
    "        <img src=\"./images/test-run-overview.png\" width=600/>\n",
    "        <img src=\"./images/test-run-condition.png\" width=800/>\n",
    "        <figcaption>test-run</figcaption>\n",
    "    </figure>\n",
    "    <br />\n",
    "    <figure>\n",
    "        <img src=\"./images/second-test-run-overview.png\" width=700/>\n",
    "        <img src=\"./images/second-test-run-condition.png\" width=800/>\n",
    "        <figcaption>second-test-run</figcaption>\n",
    "    </figure>\n",
    "</details>"
   ]
  },
  {
   "cell_type": "markdown",
   "id": "488a6efe",
   "metadata": {},
   "source": [
    "## Assignment 4: Feature engineering (2 points)\n",
    "\n",
    "In this part we will touch on the subject of feature engineering. Since this subject is dealt with in more detail in the course '[Introduction to Machine Learning](https://studies.helsinki.fi/courses/course-unit/hy-CU-118207827-2021-08-01)', we try to keep it light whilst also (perhaps) covering some corners not talked about on that course. Some of the methods presented in this exercise require us to divide our data into features and targets, so let's begin by building a function to achieve that (the function is ready so you don't need to implement anything). Run the cell below:"
   ]
  },
  {
   "cell_type": "code",
<<<<<<< HEAD
   "execution_count": 36,
=======
   "execution_count": 33,
>>>>>>> 2dc71ae (update)
   "id": "1e2a0f05",
   "metadata": {},
   "outputs": [],
   "source": [
    "def separate_X_and_y(df: pd.DataFrame, target: str) -> Tuple[pd.DataFrame, pd.Series]:\n",
    "    \"\"\"\n",
    "    Separates the features and targets.\n",
    "    Args:\n",
    "        df (DataFrame): A pandas DataFrame holding the cleaned housing data\n",
    "        target (str): Name of the target column\n",
    "    Returns:\n",
    "        X (DataFrame): A Pandas DataFrame holding the cleaned housing data without the target column\n",
    "        y (Series): A pandas Series with the target values\n",
    "    \"\"\"\n",
    "    df = df.copy()  # By copying the DataFrame we protect the original DataFrame in case we make errors in the following assignments. This way, we can always restart from this step.\n",
    "    y = df[target].astype('float64')\n",
    "    X = df.loc[:, df.columns != target]    \n",
    "    return (X, y)\n",
    "\n"
   ]
  },
  {
   "cell_type": "markdown",
   "id": "3f5382b0",
   "metadata": {},
   "source": [
    "Then, we'll use this function to separate the target column from the rest for both the training and testing datasets. Let's create the entire datasets from the beginning. Again, run the cell below:"
   ]
  },
  {
   "cell_type": "code",
<<<<<<< HEAD
   "execution_count": 37,
=======
   "execution_count": 34,
>>>>>>> 2dc71ae (update)
   "id": "43abd85c",
   "metadata": {},
   "outputs": [
    {
     "name": "stdout",
     "output_type": "stream",
     "text": [
      "X_train shape: (11046, 18)\n",
      "y_train shape: (11046,)\n",
      "X_test shape: (2762, 18)\n",
      "y_test shape: (2762,)\n"
     ]
    },
    {
     "data": {
      "text/html": [
       "<div>\n",
       "<style scoped>\n",
       "    .dataframe tbody tr th:only-of-type {\n",
       "        vertical-align: middle;\n",
       "    }\n",
       "\n",
       "    .dataframe tbody tr th {\n",
       "        vertical-align: top;\n",
       "    }\n",
       "\n",
       "    .dataframe thead th {\n",
       "        text-align: right;\n",
       "    }\n",
       "</style>\n",
       "<table border=\"1\" class=\"dataframe\">\n",
       "  <thead>\n",
       "    <tr style=\"text-align: right;\">\n",
       "      <th></th>\n",
       "      <th>yr_built</th>\n",
       "      <th>bedrooms</th>\n",
       "      <th>postcode</th>\n",
       "      <th>area</th>\n",
       "      <th>date</th>\n",
       "      <th>bathrooms</th>\n",
       "      <th>condition</th>\n",
       "      <th>grade</th>\n",
       "      <th>floors</th>\n",
       "      <th>sqft_living</th>\n",
       "      <th>sqft_lot</th>\n",
       "      <th>sqft_basement</th>\n",
       "      <th>sqft_living15</th>\n",
       "      <th>sqft_lot15</th>\n",
       "      <th>waterfront</th>\n",
       "      <th>view</th>\n",
       "      <th>distance</th>\n",
       "      <th>similarity_scores</th>\n",
       "    </tr>\n",
       "  </thead>\n",
       "  <tbody>\n",
       "    <tr>\n",
       "      <th>0</th>\n",
       "      <td>1977</td>\n",
       "      <td>4</td>\n",
       "      <td>2906</td>\n",
       "      <td>Conder</td>\n",
       "      <td>2009-04-01</td>\n",
       "      <td>2.50</td>\n",
       "      <td>satisfactory</td>\n",
       "      <td>7</td>\n",
       "      <td>1.0</td>\n",
       "      <td>2280</td>\n",
       "      <td>8694</td>\n",
       "      <td>900</td>\n",
       "      <td>1877.0</td>\n",
       "      <td>8052.0</td>\n",
       "      <td>0</td>\n",
       "      <td>0</td>\n",
       "      <td>20.14</td>\n",
       "      <td>100</td>\n",
       "    </tr>\n",
       "    <tr>\n",
       "      <th>1</th>\n",
       "      <td>1969</td>\n",
       "      <td>4</td>\n",
       "      <td>2615</td>\n",
       "      <td>Kippax Centre</td>\n",
       "      <td>2009-04-01</td>\n",
       "      <td>2.25</td>\n",
       "      <td>satisfactory</td>\n",
       "      <td>8</td>\n",
       "      <td>1.0</td>\n",
       "      <td>2220</td>\n",
       "      <td>14833</td>\n",
       "      <td>610</td>\n",
       "      <td>2202.0</td>\n",
       "      <td>12620.0</td>\n",
       "      <td>0</td>\n",
       "      <td>0</td>\n",
       "      <td>11.74</td>\n",
       "      <td>100</td>\n",
       "    </tr>\n",
       "    <tr>\n",
       "      <th>2</th>\n",
       "      <td>1966</td>\n",
       "      <td>3</td>\n",
       "      <td>2615</td>\n",
       "      <td>Higgins</td>\n",
       "      <td>2009-04-01</td>\n",
       "      <td>1.25</td>\n",
       "      <td>satisfactory</td>\n",
       "      <td>7</td>\n",
       "      <td>1.0</td>\n",
       "      <td>1130</td>\n",
       "      <td>8867</td>\n",
       "      <td>0</td>\n",
       "      <td>1466.0</td>\n",
       "      <td>8594.0</td>\n",
       "      <td>0</td>\n",
       "      <td>0</td>\n",
       "      <td>10.90</td>\n",
       "      <td>100</td>\n",
       "    </tr>\n",
       "    <tr>\n",
       "      <th>3</th>\n",
       "      <td>1978</td>\n",
       "      <td>3</td>\n",
       "      <td>2620</td>\n",
       "      <td>Tinderry</td>\n",
       "      <td>2009-04-01</td>\n",
       "      <td>2.00</td>\n",
       "      <td>satisfactory</td>\n",
       "      <td>8</td>\n",
       "      <td>1.0</td>\n",
       "      <td>1800</td>\n",
       "      <td>11431</td>\n",
       "      <td>380</td>\n",
       "      <td>2032.0</td>\n",
       "      <td>11044.0</td>\n",
       "      <td>0</td>\n",
       "      <td>0</td>\n",
       "      <td>9.48</td>\n",
       "      <td>100</td>\n",
       "    </tr>\n",
       "    <tr>\n",
       "      <th>4</th>\n",
       "      <td>2005</td>\n",
       "      <td>3</td>\n",
       "      <td>2914</td>\n",
       "      <td>Bonner</td>\n",
       "      <td>2009-04-01</td>\n",
       "      <td>2.00</td>\n",
       "      <td>satisfactory</td>\n",
       "      <td>8</td>\n",
       "      <td>2.0</td>\n",
       "      <td>1795</td>\n",
       "      <td>2248</td>\n",
       "      <td>160</td>\n",
       "      <td>1784.0</td>\n",
       "      <td>2714.0</td>\n",
       "      <td>0</td>\n",
       "      <td>0</td>\n",
       "      <td>13.02</td>\n",
       "      <td>100</td>\n",
       "    </tr>\n",
       "  </tbody>\n",
       "</table>\n",
       "</div>"
      ],
      "text/plain": [
       "   yr_built  bedrooms  postcode           area       date  bathrooms  \\\n",
       "0      1977         4      2906         Conder 2009-04-01       2.50   \n",
       "1      1969         4      2615  Kippax Centre 2009-04-01       2.25   \n",
       "2      1966         3      2615        Higgins 2009-04-01       1.25   \n",
       "3      1978         3      2620       Tinderry 2009-04-01       2.00   \n",
       "4      2005         3      2914         Bonner 2009-04-01       2.00   \n",
       "\n",
       "      condition  grade  floors  sqft_living  sqft_lot  sqft_basement  \\\n",
       "0  satisfactory      7     1.0         2280      8694            900   \n",
       "1  satisfactory      8     1.0         2220     14833            610   \n",
       "2  satisfactory      7     1.0         1130      8867              0   \n",
       "3  satisfactory      8     1.0         1800     11431            380   \n",
       "4  satisfactory      8     2.0         1795      2248            160   \n",
       "\n",
       "   sqft_living15  sqft_lot15  waterfront  view  distance  similarity_scores  \n",
       "0         1877.0      8052.0           0     0     20.14                100  \n",
       "1         2202.0     12620.0           0     0     11.74                100  \n",
       "2         1466.0      8594.0           0     0     10.90                100  \n",
       "3         2032.0     11044.0           0     0      9.48                100  \n",
       "4         1784.0      2714.0           0     0     13.02                100  "
      ]
     },
     "metadata": {},
     "output_type": "display_data"
    },
    {
     "data": {
      "text/plain": [
       "0    437100.0\n",
       "1    461300.0\n",
       "2    280900.0\n",
       "3    351600.0\n",
       "4    431300.0\n",
       "Name: price, dtype: float64"
      ]
     },
     "metadata": {},
     "output_type": "display_data"
    }
   ],
   "source": [
    "train_path = WORKING_DIR / \"data\" / \"reference\" / \"train\"\n",
    "test_path = WORKING_DIR / \"data\" / \"reference\" / \"test\"\n",
    "\n",
    "train_df = data_extraction(train_path, ['satisfactory', 'good', 'excellent'])\n",
    "test_df = data_extraction(test_path, ['poor', 'tolerable', 'satisfactory', 'good', 'excellent'])\n",
    "\n",
    "X_train, y_train = separate_X_and_y(train_df, target='price')\n",
    "X_test, y_test = separate_X_and_y(test_df, target='price')\n",
    "\n",
    "print(f\"X_train shape: {X_train.shape}\")\n",
    "print(f\"y_train shape: {y_train.shape}\")\n",
    "print(f\"X_test shape: {X_test.shape}\")\n",
    "print(f\"y_test shape: {y_test.shape}\")\n",
    "display(X_train.head())\n",
    "display(y_train.head())"
   ]
  },
  {
   "cell_type": "markdown",
   "id": "dcfcc50a",
   "metadata": {},
   "source": [
    "Expected output:\n",
    "```text\n",
    "X_train shape: (11046, 18)\n",
    "y_train shape: (11046,)\n",
    "X_test shape: (2762, 18)\n",
    "y_test shape: (2762,)\n",
    "```\n",
    "<img src=\"./images/data-split-output.png\" />"
   ]
  },
  {
   "cell_type": "markdown",
   "id": "7ff82507",
   "metadata": {},
   "source": [
    "### 4a) Imputing missing values\n",
    "\n",
    "As we saw in Assignment 2a), the columns `sqft_living15` and `sqft_lot15` have roughly 1.5% and 10% of values missing respectively in the training data so we could try to impute something in place of the missing values. We could use a simple imputation scheme, such as imputing either zero, mean, median or mode to both columns in place of missing values. However, we could also use a more sophisticated scheme, such as [MICE](https://www.machinelearningplus.com/machine-learning/mice-imputation/), where we use a regressor model to infer the missing values by comparing other features iteratively. We will use the [scikit-learn implementation](https://scikit-learn.org/stable/modules/generated/sklearn.impute.IterativeImputer.html) in this exercise. \n",
    "\n",
    "Your task is to complete the `impute_missing` function that uses `IterativeImputer` to impute missing values of Dataframes `X_train` and `X_test`. We use parameter `add_indicator=True` to include two new columns that indicate which values were imputed. These indicator variables will have a value of 1 where the original data was missing and 0 where it was not. This information might be valuable in model training (and inference). \n",
    "\n",
    "You can use the `fit_transform` method to fit the imputer on a DataFrame X and return the transformed X. Note that the fit_transform method will return a Numpy array instead of a DataFrame, and the shape of the returned Numpy array will not match the shape of the DataFrame given as an argument, so you'll have to figure a way around this.\n",
    "\n",
    "Hint: You can use the method [get_feature_names_out](https://scikit-learn.org/stable/modules/generated/sklearn.impute.IterativeImputer.html#sklearn.impute.IterativeImputer.get_feature_names_out) to list the column names of the `IterativeImputer` object once it has been fitted.\n",
    "\n",
    "NOTE: _The computational complexity increases very rapidly with regards to the number of features in the dataset._"
   ]
  },
  {
   "cell_type": "code",
<<<<<<< HEAD
   "execution_count": 38,
=======
   "execution_count": 35,
>>>>>>> 2dc71ae (update)
   "id": "0cd34fc8",
   "metadata": {},
   "outputs": [],
   "source": [
    "def impute_missing(df: pd.DataFrame) -> None:\n",
    "    \"\"\"\n",
    "    Imputes missing numerical values using MICE.\n",
    "    Args:\n",
    "        df (DataFrame): A pandas DataFrame holding the features\n",
    "    \"\"\"\n",
    "    imp = IterativeImputer(random_state=RANDOM_SEED, add_indicator=True) \n",
    "\n",
    "    # A list of column names where missing values need to be imputed.\n",
    "    # We'll not include categorical or datetime variables in the calculations\n",
    "    included_columns = [True if x not in ['postcode', 'area', 'date', 'condition'] else False for x in df.columns]\n",
    "\n",
    "    ### START CODE HERE    \n",
    "    df_to_impute = df.loc[:, included_columns]\n",
    "\n",
    "    imputed_data = imp.fit_transform(df_to_impute)\n",
    "\n",
    "    new_column_names = imp.get_feature_names_out(df_to_impute.columns)\n",
    "\n",
    "    imputed_df = pd.DataFrame(imputed_data, columns=new_column_names, index=df.index)\n",
    "\n",
    "    for col in imputed_df.columns:\n",
    "        df[col] = imputed_df[col]\n",
    " \n",
    "    ### END CODE HERE\n"
   ]
  },
  {
   "cell_type": "markdown",
   "id": "9974bbfa",
   "metadata": {},
   "source": [
    "Let's again test the function we just created. Run the cell below:"
   ]
  },
  {
   "cell_type": "code",
<<<<<<< HEAD
   "execution_count": 39,
=======
   "execution_count": 36,
>>>>>>> 2dc71ae (update)
   "id": "c0d1a232",
   "metadata": {},
   "outputs": [
    {
     "name": "stdout",
     "output_type": "stream",
     "text": [
      "The numbers of missing values are 0 for the train set and 0 for the test set. Both should be zero.\n"
     ]
    },
    {
     "data": {
      "text/html": [
       "<div>\n",
       "<style scoped>\n",
       "    .dataframe tbody tr th:only-of-type {\n",
       "        vertical-align: middle;\n",
       "    }\n",
       "\n",
       "    .dataframe tbody tr th {\n",
       "        vertical-align: top;\n",
       "    }\n",
       "\n",
       "    .dataframe thead th {\n",
       "        text-align: right;\n",
       "    }\n",
       "</style>\n",
       "<table border=\"1\" class=\"dataframe\">\n",
       "  <thead>\n",
       "    <tr style=\"text-align: right;\">\n",
       "      <th></th>\n",
       "      <th>yr_built</th>\n",
       "      <th>bedrooms</th>\n",
       "      <th>postcode</th>\n",
       "      <th>area</th>\n",
       "      <th>date</th>\n",
       "      <th>bathrooms</th>\n",
       "      <th>condition</th>\n",
       "      <th>grade</th>\n",
       "      <th>floors</th>\n",
       "      <th>sqft_living</th>\n",
       "      <th>sqft_lot</th>\n",
       "      <th>sqft_basement</th>\n",
       "      <th>sqft_living15</th>\n",
       "      <th>sqft_lot15</th>\n",
       "      <th>waterfront</th>\n",
       "      <th>view</th>\n",
       "      <th>distance</th>\n",
       "      <th>similarity_scores</th>\n",
       "      <th>missingindicator_sqft_living15</th>\n",
       "      <th>missingindicator_sqft_lot15</th>\n",
       "    </tr>\n",
       "  </thead>\n",
       "  <tbody>\n",
       "    <tr>\n",
       "      <th>0</th>\n",
       "      <td>1977.0</td>\n",
       "      <td>4.0</td>\n",
       "      <td>2906</td>\n",
       "      <td>Conder</td>\n",
       "      <td>2009-04-01</td>\n",
       "      <td>2.50</td>\n",
       "      <td>satisfactory</td>\n",
       "      <td>7.0</td>\n",
       "      <td>1.0</td>\n",
       "      <td>2280.0</td>\n",
       "      <td>8694.0</td>\n",
       "      <td>900.0</td>\n",
       "      <td>1877.0</td>\n",
       "      <td>8052.0</td>\n",
       "      <td>0.0</td>\n",
       "      <td>0.0</td>\n",
       "      <td>20.14</td>\n",
       "      <td>100.0</td>\n",
       "      <td>0.0</td>\n",
       "      <td>0.0</td>\n",
       "    </tr>\n",
       "    <tr>\n",
       "      <th>1</th>\n",
       "      <td>1969.0</td>\n",
       "      <td>4.0</td>\n",
       "      <td>2615</td>\n",
       "      <td>Kippax Centre</td>\n",
       "      <td>2009-04-01</td>\n",
       "      <td>2.25</td>\n",
       "      <td>satisfactory</td>\n",
       "      <td>8.0</td>\n",
       "      <td>1.0</td>\n",
       "      <td>2220.0</td>\n",
       "      <td>14833.0</td>\n",
       "      <td>610.0</td>\n",
       "      <td>2202.0</td>\n",
       "      <td>12620.0</td>\n",
       "      <td>0.0</td>\n",
       "      <td>0.0</td>\n",
       "      <td>11.74</td>\n",
       "      <td>100.0</td>\n",
       "      <td>0.0</td>\n",
       "      <td>0.0</td>\n",
       "    </tr>\n",
       "    <tr>\n",
       "      <th>2</th>\n",
       "      <td>1966.0</td>\n",
       "      <td>3.0</td>\n",
       "      <td>2615</td>\n",
       "      <td>Higgins</td>\n",
       "      <td>2009-04-01</td>\n",
       "      <td>1.25</td>\n",
       "      <td>satisfactory</td>\n",
       "      <td>7.0</td>\n",
       "      <td>1.0</td>\n",
       "      <td>1130.0</td>\n",
       "      <td>8867.0</td>\n",
       "      <td>0.0</td>\n",
       "      <td>1466.0</td>\n",
       "      <td>8594.0</td>\n",
       "      <td>0.0</td>\n",
       "      <td>0.0</td>\n",
       "      <td>10.90</td>\n",
       "      <td>100.0</td>\n",
       "      <td>0.0</td>\n",
       "      <td>0.0</td>\n",
       "    </tr>\n",
       "    <tr>\n",
       "      <th>3</th>\n",
       "      <td>1978.0</td>\n",
       "      <td>3.0</td>\n",
       "      <td>2620</td>\n",
       "      <td>Tinderry</td>\n",
       "      <td>2009-04-01</td>\n",
       "      <td>2.00</td>\n",
       "      <td>satisfactory</td>\n",
       "      <td>8.0</td>\n",
       "      <td>1.0</td>\n",
       "      <td>1800.0</td>\n",
       "      <td>11431.0</td>\n",
       "      <td>380.0</td>\n",
       "      <td>2032.0</td>\n",
       "      <td>11044.0</td>\n",
       "      <td>0.0</td>\n",
       "      <td>0.0</td>\n",
       "      <td>9.48</td>\n",
       "      <td>100.0</td>\n",
       "      <td>0.0</td>\n",
       "      <td>0.0</td>\n",
       "    </tr>\n",
       "    <tr>\n",
       "      <th>4</th>\n",
       "      <td>2005.0</td>\n",
       "      <td>3.0</td>\n",
       "      <td>2914</td>\n",
       "      <td>Bonner</td>\n",
       "      <td>2009-04-01</td>\n",
       "      <td>2.00</td>\n",
       "      <td>satisfactory</td>\n",
       "      <td>8.0</td>\n",
       "      <td>2.0</td>\n",
       "      <td>1795.0</td>\n",
       "      <td>2248.0</td>\n",
       "      <td>160.0</td>\n",
       "      <td>1784.0</td>\n",
       "      <td>2714.0</td>\n",
       "      <td>0.0</td>\n",
       "      <td>0.0</td>\n",
       "      <td>13.02</td>\n",
       "      <td>100.0</td>\n",
       "      <td>0.0</td>\n",
       "      <td>0.0</td>\n",
       "    </tr>\n",
       "  </tbody>\n",
       "</table>\n",
       "</div>"
      ],
      "text/plain": [
       "   yr_built  bedrooms  postcode           area       date  bathrooms  \\\n",
       "0    1977.0       4.0      2906         Conder 2009-04-01       2.50   \n",
       "1    1969.0       4.0      2615  Kippax Centre 2009-04-01       2.25   \n",
       "2    1966.0       3.0      2615        Higgins 2009-04-01       1.25   \n",
       "3    1978.0       3.0      2620       Tinderry 2009-04-01       2.00   \n",
       "4    2005.0       3.0      2914         Bonner 2009-04-01       2.00   \n",
       "\n",
       "      condition  grade  floors  sqft_living  sqft_lot  sqft_basement  \\\n",
       "0  satisfactory    7.0     1.0       2280.0    8694.0          900.0   \n",
       "1  satisfactory    8.0     1.0       2220.0   14833.0          610.0   \n",
       "2  satisfactory    7.0     1.0       1130.0    8867.0            0.0   \n",
       "3  satisfactory    8.0     1.0       1800.0   11431.0          380.0   \n",
       "4  satisfactory    8.0     2.0       1795.0    2248.0          160.0   \n",
       "\n",
       "   sqft_living15  sqft_lot15  waterfront  view  distance  similarity_scores  \\\n",
       "0         1877.0      8052.0         0.0   0.0     20.14              100.0   \n",
       "1         2202.0     12620.0         0.0   0.0     11.74              100.0   \n",
       "2         1466.0      8594.0         0.0   0.0     10.90              100.0   \n",
       "3         2032.0     11044.0         0.0   0.0      9.48              100.0   \n",
       "4         1784.0      2714.0         0.0   0.0     13.02              100.0   \n",
       "\n",
       "   missingindicator_sqft_living15  missingindicator_sqft_lot15  \n",
       "0                             0.0                          0.0  \n",
       "1                             0.0                          0.0  \n",
       "2                             0.0                          0.0  \n",
       "3                             0.0                          0.0  \n",
       "4                             0.0                          0.0  "
      ]
     },
     "metadata": {},
     "output_type": "display_data"
    }
   ],
   "source": [
    "impute_missing(X_train)\n",
    "impute_missing(X_test)\n",
    "nan_train = X_train.isnull().sum().sum()\n",
    "nan_test = X_test.isnull().sum().sum()\n",
    "print(f\"The numbers of missing values are {nan_train} for the train set and {nan_test} for the test set. Both should be zero.\")\n",
    "\n",
    "display(X_train.head())"
   ]
  },
  {
   "cell_type": "markdown",
   "id": "ecb1414e",
   "metadata": {},
   "source": [
    "Expected output: \n",
    "\n",
    "<img src=\"./images/imputed-output.png\" />"
   ]
  },
  {
   "cell_type": "markdown",
   "id": "0e02d325",
   "metadata": {},
   "source": [
    "### 4b) Decomposing datetime and categorical variables\n",
    "\n",
    "The column `date` is actually hoarding a bunch of potential features. Since we converted this column to `DateTime` format, we can use the attributes of this format to decompose the column into several features, which might benefit model training. \n",
    "Create a function, which takes a DataFrame and a column name for a DateTime column as arguments and\n",
    "1. uses `pandas.Series.dt.*` attributes to decompose the DateTime column into three new columns: `year`, `quarter`, and `weekday`. The column `quarter` should have values 1-4 and the column `weekday` should have values 0-6, where 0 is Monday, 1 is Tuesday, and so on. (You might take a look at [this blog](https://datagy.io/pandas-datetime/)).\n",
    "1. removes the original DateTime column from the DataFrame."
   ]
  },
  {
   "cell_type": "code",
<<<<<<< HEAD
   "execution_count": 40,
=======
   "execution_count": 37,
>>>>>>> 2dc71ae (update)
   "id": "06129ac7",
   "metadata": {},
   "outputs": [],
   "source": [
    "def datetime_decomposer(df: pd.DataFrame, dt_column_name: str) -> None:\n",
    "    \"\"\"\n",
    "    Decomposes datetime values into year, quarter, and weekday.\n",
    "    Args:\n",
    "        df (DataFrame): A pandas DataFrame holding the features\n",
    "        dt_column_name(str): The name of the datetime column\n",
    "    \"\"\"\n",
    "\n",
    "    ### START CODE HERE\n",
    "    df[dt_column_name] = pd.to_datetime(df[dt_column_name])\n",
    "\n",
    "    df['year'] = df[dt_column_name].dt.year\n",
    "    df['quarter'] = df[dt_column_name].dt.quarter\n",
    "    df['weekday'] = df[dt_column_name].dt.weekday\n",
    "\n",
    "    df.drop(columns=[dt_column_name], inplace=True)\n",
    "    ### END CODE HERE\n",
    "\n"
   ]
  },
  {
   "cell_type": "markdown",
   "id": "44a87a74",
   "metadata": {},
   "source": [
    "Apply this function for both `X_train` and `X_test` by running the cell below. There should be 22 columns at this point."
   ]
  },
  {
   "cell_type": "code",
<<<<<<< HEAD
   "execution_count": 41,
=======
   "execution_count": 38,
>>>>>>> 2dc71ae (update)
   "id": "76e55cac",
   "metadata": {},
   "outputs": [
    {
     "name": "stdout",
     "output_type": "stream",
     "text": [
      "There are a total of 22 columns remaining:\n",
      "Index(['yr_built', 'bedrooms', 'postcode', 'area', 'bathrooms', 'condition',\n",
      "       'grade', 'floors', 'sqft_living', 'sqft_lot', 'sqft_basement',\n",
      "       'sqft_living15', 'sqft_lot15', 'waterfront', 'view', 'distance',\n",
      "       'similarity_scores', 'missingindicator_sqft_living15',\n",
      "       'missingindicator_sqft_lot15', 'year', 'quarter', 'weekday'],\n",
      "      dtype='object')\n"
     ]
    }
   ],
   "source": [
    "datetime_decomposer(X_train, 'date')\n",
    "datetime_decomposer(X_test, 'date')\n",
    "\n",
    "print(f\"There are a total of {len(X_train.columns)} columns remaining:\")\n",
    "print(X_train.columns)"
   ]
  },
  {
   "cell_type": "markdown",
   "metadata": {},
   "source": [
    "Expected output:\n",
    "```text\n",
    "There are a total of 22 columns remaining:\n",
    "Index(['yr_built', 'bedrooms', 'postcode', 'area', 'bathrooms', 'condition',\n",
    "       'grade', 'floors', 'sqft_living', 'sqft_lot', 'sqft_basement',\n",
    "       'sqft_living15', 'sqft_lot15', 'waterfront', 'view', 'distance',\n",
    "       'similarity_scores', 'missingindicator_sqft_living15',\n",
    "       'missingindicator_sqft_lot15', 'year', 'quarter', 'weekday'],\n",
    "      dtype='object')\n",
    "```"
   ]
  },
  {
   "cell_type": "markdown",
   "id": "0b716033",
   "metadata": {},
   "source": [
    "Some ML algorithms can be used with categorical variables, but others require the features to be in numerical format. It might make sense to convert them anyway, if for example, we plan to compare different algorithms against each other. One simple option is to just assign a random integer for each value. This is called label encoding or ordinal encoding. However, this approach induces an arbitrary ordering for the values, which might confuse some algorithms (although 1 < 2, it doesn't make sense to state that 'cat' < 'dog'). If a variable is ordinal (like the variable `condition` in our case) and we __control the order__, this might be OK. \n",
    "\n",
    "Complete the `condition_encoder` function that uses label encoding to convert the values in column `condition` in a given DataFrame to numerical ones. Use scaling poor=1, tolerable=2, satisfactory=3, good=4, and excellent=5. \n",
    "\n",
    "Hint: The [pandas.Series.map](https://pandas.pydata.org/docs/dev/reference/api/pandas.Series.map.html#pandas.Series.map) function may be useful. "
   ]
  },
  {
   "cell_type": "code",
<<<<<<< HEAD
   "execution_count": 42,
=======
   "execution_count": 39,
>>>>>>> 2dc71ae (update)
   "id": "90af2687",
   "metadata": {},
   "outputs": [],
   "source": [
    "def condition_encoder(df: pd.DataFrame) -> None:\n",
    "    \"\"\"\n",
    "    Encodes conditions to numerical range 1-5\n",
    "    Args:\n",
    "        df (DataFrame): A pandas DataFrame holding the features\n",
    "    \"\"\"\n",
    "\n",
    "    ### START CODE HERE\n",
    "    condition_scale = {\n",
    "        'poor': 1,\n",
    "        'tolerable': 2,\n",
    "        'satisfactory': 3,\n",
    "        'good': 4,\n",
    "        'excellent': 5\n",
    "    }\n",
    "\n",
    "    df['condition'] = df['condition'].map(condition_scale)\n",
    "    ### END CODE HERE\n",
    "\n"
   ]
  },
  {
   "cell_type": "markdown",
   "id": "663dcd27",
   "metadata": {},
   "source": [
    "Run the cell below to apply the encoder for the column `condition` in both `X_train` and `X_test`. You should see the following statistics:\n",
    "\n",
    "| | X_train | X_test |\n",
    "| :-: | :-: | :-: |\n",
    "| mean | 3.362665 | 3.296886 |\n",
    "| std | 0.526798 | 0.622107 |\n",
    "| min | 3 | 1 |\n",
    "| max | 5 | 5| "
   ]
  },
  {
   "cell_type": "code",
<<<<<<< HEAD
   "execution_count": 43,
=======
   "execution_count": 40,
>>>>>>> 2dc71ae (update)
   "id": "61b37c3c",
   "metadata": {},
   "outputs": [
    {
     "name": "stdout",
     "output_type": "stream",
     "text": [
      "Statistics for X_train:\n",
      " count    11046.000000\n",
      "mean         3.362665\n",
      "std          0.526798\n",
      "min          3.000000\n",
      "25%          3.000000\n",
      "50%          3.000000\n",
      "75%          4.000000\n",
      "max          5.000000\n",
      "Name: condition, dtype: float64\n",
      "\n",
      "Statistics for X_test:\n",
      " count    2762.000000\n",
      "mean        3.296886\n",
      "std         0.622107\n",
      "min         1.000000\n",
      "25%         3.000000\n",
      "50%         3.000000\n",
      "75%         4.000000\n",
      "max         5.000000\n",
      "Name: condition, dtype: float64\n"
     ]
    }
   ],
   "source": [
    "condition_encoder(X_train)\n",
    "condition_encoder(X_test)\n",
    "print(\"Statistics for X_train:\\n\", X_train['condition'].describe())\n",
    "print(\"\\nStatistics for X_test:\\n\", X_test['condition'].describe())"
   ]
  },
  {
   "cell_type": "markdown",
   "id": "0cb380a1",
   "metadata": {},
   "source": [
    "In many cases, using label encoding is not advisable, because it implies that the values are ordered. For instance, take a look at the variable `postcode`, which although in numerical format, is actually a categorical variable. If we used them as is, a linear regressor model would have to assume that either a bigger postcode implies a bigger price or a smaller price. If (and when) this is not the case, the (assumably) valuable information in this column would be rendered pretty much useless.\n",
    "\n",
    "Another option for converting categorical variables into numeric format is to use one-hot-encoding, where a binary feature is created for each unique value of the variable. This often leads to sparse feature matrices, when the cardinality of the categorical variable is high. For example, the `area` column has 131 unique values, so using one-hot-encoding would require us to present this variable using 130 additional features.  \n",
    "\n",
    "One popular option is to use [target encoding](https://scikit-learn.org/stable/modules/preprocessing.html#target-encoder). The simplest way to use target encoding in a regression setting is to calculate the mean of target values and use that to encode categorical features. This might make sense, since for example, it's highly likely that the price of a house correlates with the area on which it is built. To reduce overfitting, the calculated means of categories can be (Laplace) smoothed with the overall mean of the target. Thus, the encoding $e_c$ for category $c$ becomes\n",
    "$$\n",
    "e_c = \\lambda_c \\cdot \\bar{y}_c + (1-\\lambda_c) \\cdot \\bar{y}, \n",
    "$$\n",
    "where $\\bar{y}_c$ is the category mean and $\\bar{y}$ is the overall mean of the target and $\\lambda \\in [0,1]$ is a parameter controlling the smoothing amount. \n",
    "\n",
    "Complete the `target_encode` function which applies target encoding for a set of columns in a given DataFrame using the scikit-learn implementation. It should behave as follows: \n",
    "- If the target column is specified, the methods `fit` and `transform` should both be used (separately, don't use `fit_transform` to disable cross-fitting). \n",
    "- If the target column is not specified (for test data), only the method `transform` should be used with a pre-trained encoder passed as an argument.\n",
    "- It replaces the values in the original column with the encoded ones.\n",
    "\n",
    "NOTE: _The implementation of \"fit_transform\" in scikit-learn uses cross-fitting internally to avoid over-fitting. One thing needs to be considered at the point: target encoding may also need to be applied to production data (i.e., the real-world data the model used to generate predictions). However, targets are not available during inference, the encodings derived using cross-fitting can not be used. We skip cross-fitting entirely for simplicity in this exercise and rely solely on smoothing._"
   ]
  },
  {
   "cell_type": "code",
<<<<<<< HEAD
   "execution_count": 44,
=======
   "execution_count": 41,
>>>>>>> 2dc71ae (update)
   "id": "97a7ddbc",
   "metadata": {},
   "outputs": [],
   "source": [
    "def target_encode(df: pd.DataFrame, columns: List[str], target: Optional[pd.Series]=None, encoder: Optional[TargetEncoder]=None) -> TargetEncoder:\n",
    "    \"\"\"\n",
    "    Encodes postcode and area to numerical format using a target encoder\n",
    "    Args:\n",
    "        df (DataFrame): A pandas DataFrame holding the features\n",
    "        columns (list of strings): Names of the categorical columns to be encoded\n",
    "        target (Series|None): A pandas Series with the target values. This is required only when fitting the encoder.\n",
    "        encoder(TargetEncoder|None): An already fitted encoder. This is required when we want to apply an encoder, which has already been fitted during training.\n",
    "    Returns:\n",
    "        encoder(TargetEncoder): The fitted TargetEncoder. Either a new fitted one or the one passed as an argument.\n",
    "    \"\"\"\n",
    "    if encoder is None:\n",
    "        encoder = TargetEncoder(target_type='continuous', smooth='auto', random_state=RANDOM_SEED)\n",
    "\n",
    "    ### START CODE HERE\n",
    "    # If target is provided, fit the encoder\n",
    "    if target is not None:\n",
    "        encoder.fit(df[columns], target)\n",
    "        df[columns] = encoder.transform(df[columns])\n",
    "    else:\n",
    "        # If target is not provided, use the pre-trained encoder to transform\n",
    "        df[columns] = encoder.transform(df[columns])\n",
    "    ### END CODE HERE\n",
    "    \n",
    "    df.loc[:, columns].astype('float64')\n",
    "    return encoder\n",
    "\n",
    "    "
   ]
  },
  {
   "cell_type": "markdown",
   "id": "6823c4fc",
   "metadata": {},
   "source": [
    "Use the function to target-encode columns `postcode` and `area` in both `X_train` and `X_test` by running the cell below. You should see the following statistics:\n",
    "\n",
    "| | X_train postcode | X_test postcode | X_train area | X_test area |\n",
    "| :-: | :-: | :-: | :-: | :-: |\n",
    "| mean | 5.919559e+05 | 5.991515e+05 | 5.897071e+05 | 5.963635e+05 |\n",
    "| std | 1.519866e+05 | 1.602493e+05 | 1.458486e+05 | 1.534161e+05 |\n",
    "| min | 1.506176e+05 | 1.506176e+05 | 1.378392e+05 | 1.619446e+05 |\n",
    "| max | 1.275222e+06 | 1.275222e+06| 1.298436e+06 | 1.298436e+05 |"
   ]
  },
  {
   "cell_type": "code",
<<<<<<< HEAD
   "execution_count": 45,
=======
   "execution_count": 42,
>>>>>>> 2dc71ae (update)
   "id": "97aad376",
   "metadata": {},
   "outputs": [
    {
     "name": "stdout",
     "output_type": "stream",
     "text": [
      "Statistics for X_train postcode:\n",
      " count    1.104600e+04\n",
      "mean     5.919559e+05\n",
      "std      1.519866e+05\n",
      "min      1.506176e+05\n",
      "25%      4.819832e+05\n",
      "50%      5.560479e+05\n",
      "75%      6.038467e+05\n",
      "max      1.275222e+06\n",
      "Name: postcode, dtype: float64\n",
      "\n",
      "Statistics for X_test postcode:\n",
      " count    2.762000e+03\n",
      "mean     5.991515e+05\n",
      "std      1.602493e+05\n",
      "min      1.506176e+05\n",
      "25%      4.819832e+05\n",
      "50%      5.560479e+05\n",
      "75%      6.995927e+05\n",
      "max      1.275222e+06\n",
      "Name: postcode, dtype: float64\n",
      "Statistics for X_train area:\n",
      " count    1.104600e+04\n",
      "mean     5.897071e+05\n",
      "std      1.458486e+05\n",
      "min      1.378392e+05\n",
      "25%      4.812238e+05\n",
      "50%      5.568487e+05\n",
      "75%      6.575301e+05\n",
      "max      1.298436e+06\n",
      "Name: area, dtype: float64\n",
      "\n",
      "Statistics for X_test area:\n",
      " count    2.762000e+03\n",
      "mean     5.963635e+05\n",
      "std      1.534131e+05\n",
      "min      1.619446e+05\n",
      "25%      4.857015e+05\n",
      "50%      5.568487e+05\n",
      "75%      6.742563e+05\n",
      "max      1.298436e+06\n",
      "Name: area, dtype: float64\n"
     ]
    }
   ],
   "source": [
    "t_encoder = target_encode(X_train, ['postcode', 'area'], target=y_train)\n",
    "_ = target_encode(X_test, ['postcode', 'area'], encoder=t_encoder)\n",
    "\n",
    "print(\"Statistics for X_train postcode:\\n\", X_train['postcode'].describe())\n",
    "print(\"\\nStatistics for X_test postcode:\\n\", X_test['postcode'].describe())\n",
    "print(\"Statistics for X_train area:\\n\", X_train['area'].describe())\n",
    "print(\"\\nStatistics for X_test area:\\n\", X_test['area'].describe())"
   ]
  },
  {
   "cell_type": "markdown",
   "id": "c3b739de",
   "metadata": {},
   "source": [
    "We have now constructed a somewhat feasible feature extraction pipeline and derived a set of features. In real life, this process would be much more iterative (and time consuming) with a lot of experiments on different ways on how to build the features. We bypassed a lot of topics, such as scaling and normalization of numerical data, which are important parts for the optimal use of many ML algorithms. As already mentioned, this topic is dealt with more thoroughly on the [I2ML]((https://studies.helsinki.fi/courses/course-unit/hy-CU-118207827-2021-08-01)) course.\n",
    "\n",
    "The Internet is also full of (opinionated) blog posts on feature engineering. These posts make a good source for new ideas on how to do things, but remember to always reserve a hint of scepticism and try to think things through yourself. As a final note, the scikit-learn library offers nice tools for building complex feature engineering pipelines, which we omitted in these exercises due to lack of time. Feel free to [check it out](https://scikit-learn.org/stable/modules/compose.html)."
   ]
  },
  {
   "cell_type": "markdown",
   "id": "9b637f6c",
   "metadata": {},
   "source": [
    "### 4c) Persisting derived features and encoders\n",
    "\n",
    "To conclude this exercise, let's store the derived features and the fitted target encoder for future use. In a more demanding setup, we would use a feature store (like [Feast](https://feast.dev/)) for this, but in this exercise, we use just a dedicated folder in the local file system, namely the folder `feature_store`. \n",
    "\n",
    "Create the following functions:\n",
    "1. `store_features`, which takes a set of features and stores them in the `feature_store` folder with a user-specified name in `.parquet` format.\n",
    "1. `store_targets`, which takes a set of targets and stores them in the `feature_store` folder with a user-specified name in `.csv` format. To avoid potential issues in the remaining assignments, don't include index when saving targets into a CSV file. \n",
    "1. `store_encoder`, which takes a fitted `TargetEncoder` and stores it in the subfolder `encoders` inside the `feature_store` folder with a user specified name in `.pkl` (pickle) format.\n",
    "\n",
    "Hint: Pickle files are written in binary format. Use mode 'wb' when writing the pickle file.\n",
    "\n",
    "NOTE: _Pickle is the default format for persisting fitted models in scikit-learn. However, it is not secure. [Only unpickle data you trust](https://docs.python.org/3/library/pickle.html)._ "
   ]
  },
  {
   "cell_type": "code",
<<<<<<< HEAD
   "execution_count": 46,
=======
   "execution_count": 43,
>>>>>>> 2dc71ae (update)
   "id": "51acfc38",
   "metadata": {},
   "outputs": [],
   "source": [
    "def store_features(X: pd.DataFrame, feature_file_path: str) -> None:    \n",
    "    \"\"\"\n",
    "    Stores a set of features to a specified location\n",
    "    Args:\n",
    "        X (DataFrame): A pandas DataFrame holding the features\n",
    "        feature_file_path (Path): Path for the stored features, e.g., feature_store/housing_train_X.parquet\n",
    "    \"\"\"\n",
    "    \n",
    "    ### START CODE HERE\n",
    "    X.to_parquet(feature_file_path)\n",
    "    ### END CODE HERE\n",
    "\n",
    "\n",
    "\n",
    "def store_targets(y: pd.Series, target_file_path: Path) -> None:\n",
    "    \"\"\"\n",
    "    Stores a set of features to a specified location\n",
    "    Args:\n",
    "        y (Series): A pandas Series holding the target values\n",
    "        target_file_path (Path): Path for the stored targets, e.g., feature_store/housing_train_y.csv\n",
    "    \"\"\"\n",
    "\n",
    "    ### START CODE HERE\n",
    "    y.to_csv(target_file_path, index=False)\n",
    "    ### END CODE HERE\n",
    "\n",
    "\n",
    "\n",
    "def store_encoder(encoder: TargetEncoder, encoder_file_path: Path) -> None:\n",
    "    \"\"\"\n",
    "    Stores a targetEncoder to a specified location\n",
    "    Args:\n",
    "        encoder (TargetEncoder): A fitted scikit-learn TargetEncoder object\n",
    "        encoder_file_path (Path): Path of the stored target encoder.\n",
    "    \"\"\"\n",
    "\n",
    "    ### START CODE HERE\n",
    "    with open(encoder_file_path, 'wb') as f:\n",
    "        pickle.dump(encoder, f)\n",
    "    ### END CODE HERE"
   ]
  },
  {
   "cell_type": "markdown",
   "id": "568e5ca6",
   "metadata": {},
   "source": [
    "Let's again test the above functions. Run the cell below to see if a set of new files appears in your `feature_store` folder."
   ]
  },
  {
   "cell_type": "code",
<<<<<<< HEAD
   "execution_count": 47,
=======
   "execution_count": 44,
>>>>>>> 2dc71ae (update)
   "id": "9ba1f38e",
   "metadata": {},
   "outputs": [],
   "source": [
    "feature_store_path = WORKING_DIR / \"feature_store\"\n",
    "housing_train_x_path = feature_store_path / \"housing_train_X.parquet\"\n",
    "housing_test_x_path = feature_store_path / \"housing_test_X.parquet\"\n",
    "housing_train_y_path = feature_store_path / \"housing_train_y.csv\"\n",
    "housing_test_y_path =  feature_store_path / \"housing_test_y.csv\"\n",
    "housing_target_encoder_path = feature_store_path / \"encoders\" / \"housing_target_encoder.pkl\"\n",
    "\n",
    "store_features(X_train, housing_train_x_path)\n",
    "store_features(X_test, housing_test_x_path)\n",
    "store_targets(y_train, housing_train_y_path)\n",
    "store_targets(y_test, housing_test_y_path)\n",
    "store_encoder(t_encoder, housing_target_encoder_path)"
   ]
  },
  {
   "cell_type": "markdown",
   "id": "ee5bf8a9",
   "metadata": {},
   "source": [
    "## Assignment 5: Feature importance and feature selection (2 points)\n",
    "Feature importance indicates how useful a feature is for a model to predict the target. Feature selection refers to the process of reducing the number of input variables in model training to save computational cost and even boost model performance. These topics are dealt in more detail in the [I2ML]((https://studies.helsinki.fi/courses/course-unit/hy-CU-118207827-2021-08-01)) course, so we'll just gently touch on them here."
   ]
  },
  {
   "cell_type": "markdown",
   "id": "34106256",
   "metadata": {},
   "source": [
    "### 5a) Basic trial with random forest regressor\n",
    "\n",
    "Let's start by doing a simple comparison to see if the features we have prepared through the feature engineering steps are any good. In this exercise, we'll use [RandomForestRegressor](https://scikit-learn.org/stable/modules/generated/sklearn.ensemble.RandomForestRegressor.html) from the scikit-learn library to train two models, each use different data. One model is trained with the \"fully engineered\" feature set we derived through the feature engineering steps in Assignment 4 and the other is trained with a \"minimally engineered\" dataset. We use [coefficient of determination $R^2$](https://en.wikipedia.org/wiki/Coefficient_of_determination) as our metric to evaluate the models (higher is better) and perform no hyperparameter optimization (which will be addressed in next week's exercises).\n",
    "\n",
    "Do the following:\n",
    "1. Prepare the minimally engineered data. \n",
    "    1. Split the training and testing DataFrames `train_df` and `test_df` provided below into features and targets. Specifically, `X_train_basic` contains the un-engineered features for the training dataset, `y_train_basic` contains the target values for the training dataset, `X_test_basic` contains the un-engineered features for the testing dataset, and `y_test_basic` contains the target values for the testing dataset. You can use the function `separate_X_and_y` implemented in Assignment 4.\n",
    "    1. Remove all non-numerical columns (including the column `date`) and all columns with missing values from both `X_train_basic` and `X_test_basic`, since these might cause problems for the regressor models.\n",
    "1. Read the fully engineered feature set and the target set for both training and test data from your `feature_store` directory. Similarly, `X_train` contains the ( fully engineered) features for the training dataset, `y_train` contains the corresponding target values for the training dataset, `X_test` contains the (fully engineered) features for the testing dataset, and `y_test` contains the corresponding target values for the testing dataset.\n",
    "1. Train a RandomForestRegressor model `housing_rfr_basic` with `X_train_basic` and `y_train_basic` and evaluate the performance with `X_test_basic` and `y_test_basic` using $R^2$ as score.\n",
    "1. Train another model `housing_rfr` using data `X_train` and `y_train` from Exercise 4. Evaluate the models performance with `X_test` and `y_test` using $R^2$ as score.\n",
    "\n",
    "(The expected values are $R^2_{\\text{basic}} = 0.89742$ and $R^2_{\\text{engineered}} = 0.93228$)."
   ]
  },
  {
   "cell_type": "code",
<<<<<<< HEAD
   "execution_count": 48,
=======
   "execution_count": 45,
>>>>>>> 2dc71ae (update)
   "id": "83301708",
   "metadata": {},
   "outputs": [],
   "source": [
    "# Prepare data\n",
    "train_path = WORKING_DIR / \"data\" / \"reference\" / \"train\"\n",
    "test_path = WORKING_DIR / \"data\" / \"reference\" / \"test\"\n",
    "\n",
    "# DataFrames of training and test data (not yet feature-engineered)\n",
    "train_df = data_extraction(train_path, ['excellent', 'good', 'satisfactory'])\n",
    "test_df = data_extraction(test_path, ['poor', 'tolerable', 'satisfactory', 'good', 'excellent'])"
   ]
  },
  {
   "cell_type": "code",
<<<<<<< HEAD
   "execution_count": 49,
=======
   "execution_count": 46,
>>>>>>> 2dc71ae (update)
   "id": "0608c2cb",
   "metadata": {},
   "outputs": [
    {
     "name": "stdout",
     "output_type": "stream",
     "text": [
      "The R^2 score for the test set using only basic (minimally-engineered) features is 0.8974238153775849\n",
      "The R^2 score for the test set using the engineered features is 0.9322807716386374\n"
     ]
    }
   ],
   "source": [
    "# Random forest regressor that will be trained using the minimally engineered data\n",
    "housing_rfr_basic = RandomForestRegressor(n_jobs=-1, random_state=RANDOM_SEED)\n",
    "\n",
    "# Random forest regressor that will be trained using the feature-engineered data\n",
    "housing_rfr = RandomForestRegressor(n_jobs=-1, random_state=RANDOM_SEED)\n",
    "\n",
    "# Names of columns that should not be included when using data without feature engineering to train a model\n",
    "# These columns are categorical or include missing values\n",
    "removed_columns = ['postcode', 'area', 'date', 'condition', 'sqft_living15', 'sqft_lot15']\n",
    "\n",
    "# R2 score of the model trained using minimally engineered data\n",
    "r2_score_basic = 0\n",
    "\n",
    "# R2 score of the model trained using the feature-engineered data\n",
    "r2_score = 0\n",
    "\n",
    "### START CODE HERE\n",
    "X_train_basic, y_train_basic = separate_X_and_y(train_df, 'price')\n",
    "X_test_basic, y_test_basic = separate_X_and_y(test_df, 'price')\n",
    "\n",
    "X_train_basic.drop(columns=removed_columns, inplace=True, errors='ignore')\n",
    "X_test_basic.drop(columns=removed_columns, inplace=True, errors='ignore')\n",
    "\n",
    "X_train = pd.read_parquet(housing_train_x_path)\n",
    "y_train = pd.read_csv(housing_train_y_path)\n",
    "X_test = pd.read_parquet(housing_test_x_path)\n",
    "y_test = pd.read_csv(housing_test_y_path)\n",
    "\n",
    "y_train = y_train.iloc[:, 0]\n",
    "y_test = y_test.iloc[:, 0]\n",
    "\n",
    "from sklearn.metrics import r2_score as r2_score_function\n",
    "\n",
    "housing_rfr_basic.fit(X_train_basic, y_train_basic)\n",
    "r2_score_basic = r2_score_function(y_test_basic, housing_rfr_basic.predict(X_test_basic))\n",
    "\n",
    "housing_rfr.fit(X_train, y_train)\n",
    "r2_score = r2_score_function(y_test, housing_rfr.predict(X_test))\n",
    "\n",
    "### END CODE HERE\n",
    "\n",
    "print(\"The R^2 score for the test set using only basic (minimally-engineered) features is\", r2_score_basic)    \n",
    "print(\"The R^2 score for the test set using the engineered features is\", r2_score)    "
   ]
  },
  {
   "cell_type": "markdown",
   "id": "02241955",
   "metadata": {},
   "source": [
    "### 5b) The most important features\n",
    "The random forest regressor implementation in sklearn allows access to the attribute [feature_importances_](https://scikit-learn.org/stable/auto_examples/ensemble/plot_forest_importances.html#feature-importance-based-on-mean-decrease-in-impurity), which scores the features used in training using the (normalized) total reduction of error brought by that feature (higher values imply more important feature).\n",
    "\n",
    "Your task is to draw a plot to show the importance of features used to train the `housing_rfr` model, the plot should be similar to the one in the [sklearn documentation](https://scikit-learn.org/stable/auto_examples/ensemble/plot_forest_importances.html#feature-importance-based-on-mean-decrease-in-impurity)."
   ]
  },
  {
   "cell_type": "code",
<<<<<<< HEAD
   "execution_count": 50,
=======
   "execution_count": 47,
>>>>>>> 2dc71ae (update)
   "id": "1d9cad8b",
   "metadata": {},
   "outputs": [
    {
     "data": {
      "image/png": "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",
      "text/plain": [
       "<Figure size 640x480 with 1 Axes>"
      ]
     },
     "metadata": {},
     "output_type": "display_data"
    }
   ],
   "source": [
    "### BEGIN SOLUTION\n",
    "importances = housing_rfr.feature_importances_\n",
    "std = np.std([tree.feature_importances_ for tree in housing_rfr.estimators_], axis=0)\n",
    "\n",
    "forest_importances = pd.Series(importances, index=X_train.columns)\n",
    "\n",
    "\n",
    "fig, ax = plt.subplots()\n",
    "forest_importances.plot.bar(yerr=std, ax=ax)\n",
    "ax.set_title(\"Feature importances using MDI\")\n",
    "ax.set_ylabel(\"Mean decrease in impurity\")\n",
    "fig.tight_layout()\n",
    "\n",
    "### END SOLUTION"
   ]
  },
  {
   "cell_type": "markdown",
   "id": "42987826",
   "metadata": {},
   "source": [
    "You should see the feature `sqft_living` is significantly more important than other features. "
   ]
  },
  {
   "cell_type": "markdown",
   "id": "06ed1697",
   "metadata": {},
   "source": [
    "### 5c) Select only the most important features\n",
    "In this exercise, you'll gain an intuition of how feature selection can affect model performance. \n",
    "\n",
    "Do the following:\n",
    "1. Create a loop where a new RandomForestRegressor model is fitted on each iteration beginning with just the most important feature from `X_train` (the fully engineered feature set). Then, increase the number of important features by one in each iteration so the model is trained with all the features at the end. In other words, you need to train a model using the $i+1$ most important features of `X_train` in $i^{th}$ iteration (suppose i starts with zero). You also need to evaluate the model performance using $R^2$ score on each iteration.\n",
    "1. Record the number of features and the $R^2$ score in each iteration. \n",
    "1. Plot the $R^2$ scores from each iteration as a function of the number of features.\n",
    "\n",
    "Hint: You might find [numpy.argsort](https://numpy.org/doc/1.23/reference/generated/numpy.argsort.html) useful."
   ]
  },
  {
   "cell_type": "code",
<<<<<<< HEAD
   "execution_count": 51,
=======
   "execution_count": 48,
>>>>>>> 2dc71ae (update)
   "id": "00209929",
   "metadata": {},
   "outputs": [
    {
     "data": {
      "image/png": "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",
      "text/plain": [
       "<Figure size 640x480 with 1 Axes>"
      ]
     },
     "metadata": {},
     "output_type": "display_data"
    },
    {
     "name": "stdout",
     "output_type": "stream",
     "text": [
      "Using the 16 most important features resulted in the best R^2 score 0.9344191835567803.\n",
      "These important features are: ['sqft_living', 'postcode', 'area', 'waterfront', 'sqft_basement', 'sqft_living15', 'yr_built', 'view', 'condition', 'bathrooms', 'sqft_lot15', 'sqft_lot', 'distance', 'grade', 'year', 'bedrooms'], while the unimportant features are ['floors', 'similarity_scores', 'missingindicator_sqft_living15', 'missingindicator_sqft_lot15', 'quarter', 'weekday']\n"
     ]
    }
   ],
   "source": [
    "# The number of important features that yield the best R2 score\n",
    "optimal_number_of_features = 0\n",
    "\n",
    "# The best r2 score\n",
    "best_r2_score = 0\n",
    "\n",
    "# The list of features that produce the best r2 score\n",
    "best_features = []\n",
    "\n",
    "### START CODE HERE\n",
    "sorted_features = [feature for _, feature in sorted(zip(importances, X_train.columns), reverse=True)]\n",
    "r2_scores = []\n",
    "\n",
    "for i in range(len(sorted_features)):\n",
    "    selected_features = sorted_features[:i+1]\n",
    "    model = RandomForestRegressor(n_jobs=-1, random_state=RANDOM_SEED)\n",
    "    model.fit(X_train[selected_features], y_train)\n",
    "    r2_score_value = r2_score_function(y_test, model.predict(X_test[selected_features]))\n",
    "    r2_scores.append(r2_score_value)\n",
    "\n",
    "    if r2_score_value > best_r2_score:\n",
    "        best_r2_score = r2_score_value\n",
    "        optimal_number_of_features = i + 1\n",
    "        best_features = selected_features.copy()\n",
    "\n",
    "plt.plot(range(1, len(sorted_features) + 1), r2_scores)\n",
    "plt.xlabel('Number of Features')\n",
    "plt.ylabel('R^2 Score')\n",
    "plt.title('R^2 Score as a Function of Number of Features')\n",
    "plt.show()\n",
    "\n",
    "### END CODE HERE\n",
    "\n",
    "print(f\"Using the {optimal_number_of_features} most important features resulted in the best R^2 score {best_r2_score}.\")\n",
    "unimportant_features = [x for x in X_train.columns if x not in best_features]\n",
    "print(f\"These important features are: {best_features}, while the unimportant features are {unimportant_features}\")"
   ]
  },
  {
   "cell_type": "markdown",
   "id": "e44acf79",
   "metadata": {},
   "source": [
    "Expected output:\n",
    "```text\n",
    "Using the 16 most important features resulted in the best R^2 score 0.9344191835567803.\n",
    "These important features are: Index(['sqft_living', 'postcode', 'area', 'waterfront', 'sqft_basement',\n",
    "       'sqft_living15', 'yr_built', 'view', 'condition', 'bathrooms',\n",
    "       'sqft_lot15', 'sqft_lot', 'distance', 'grade', 'year', 'bedrooms'],\n",
    "      dtype='object'), while the unimportant features are ['floors', 'similarity_scores', 'missingindicator_sqft_living15', 'missingindicator_sqft_lot15', 'quarter', 'weekday']\n",
    "```"
   ]
  },
  {
   "cell_type": "markdown",
   "id": "6dd649eb",
   "metadata": {},
   "source": [
    "We now know which features can result in the best $R^2$ score, let's implement the `drop_unimportant_features` that drop those unimportant columns."
   ]
  },
  {
   "cell_type": "code",
<<<<<<< HEAD
   "execution_count": 52,
=======
   "execution_count": 49,
>>>>>>> 2dc71ae (update)
   "id": "bf23ee1d",
   "metadata": {},
   "outputs": [],
   "source": [
    "def drop_unimportant_features(df: pd.DataFrame):\n",
    "    \"\"\"\n",
    "    df (DataFrame): DataFrame from which the unimportant features should be dropped.\n",
    "    \"\"\"\n",
    "    unimportant_features = ['floors', 'similarity_scores', 'missingindicator_sqft_living15', 'missingindicator_sqft_lot15', 'quarter', 'weekday']\n",
    "    ### START CODE HERE\n",
    "    df.drop(columns=unimportant_features, inplace=True, errors='ignore')    \n",
    "    ### END CODE HERE"
   ]
  },
  {
   "cell_type": "code",
<<<<<<< HEAD
   "execution_count": 53,
=======
   "execution_count": 50,
>>>>>>> 2dc71ae (update)
   "id": "8e5bfae9",
   "metadata": {},
   "outputs": [
    {
     "name": "stdout",
     "output_type": "stream",
     "text": [
      "Index(['yr_built', 'bedrooms', 'postcode', 'area', 'bathrooms', 'condition',\n",
      "       'grade', 'sqft_living', 'sqft_lot', 'sqft_basement', 'sqft_living15',\n",
      "       'sqft_lot15', 'waterfront', 'view', 'distance', 'year'],\n",
      "      dtype='object')\n"
     ]
    }
   ],
   "source": [
    "# Drop unimportant features\n",
    "X_train = pd.read_parquet(housing_train_x_path)\n",
    "X_test = pd.read_parquet(housing_test_x_path)\n",
    "drop_unimportant_features(X_train)\n",
    "drop_unimportant_features(X_test)\n",
    "\n",
    "print(X_train.columns)"
   ]
  },
  {
   "cell_type": "markdown",
   "id": "30bdfb8d",
   "metadata": {},
   "source": [
    "Expected output:\n",
    "```text\n",
    "Index(['yr_built', 'bedrooms', 'postcode', 'area', 'bathrooms', 'condition',\n",
    "       'grade', 'sqft_living', 'sqft_lot', 'sqft_basement', 'sqft_living15',\n",
    "       'sqft_lot15', 'waterfront', 'view', 'distance', 'year'],\n",
    "      dtype='object')\n",
    "```"
   ]
  },
  {
   "cell_type": "code",
<<<<<<< HEAD
   "execution_count": 54,
=======
   "execution_count": 51,
>>>>>>> 2dc71ae (update)
   "id": "7a2381c7",
   "metadata": {},
   "outputs": [],
   "source": [
    "# Save only important features\n",
    "store_features(X_train, feature_store_path / \"housing_train_X_important.parquet\")\n",
    "store_features(X_test, feature_store_path / \"housing_test_X_important.parquet\")"
   ]
  },
  {
   "cell_type": "markdown",
   "id": "494234d9",
   "metadata": {},
   "source": [
    "To conclude Assignments 4 and 5, let's again wrap everything inside one function that will be responsible for feature engineering. The function takes the data that has been preprocessed and validated, extracts all of the features, and stores them into the feature store. It's worth noting that this function will not only be applied to training data but also to test data and production data. As a result, the following three scenarios need to be considered:\n",
    "|dataset type|target included|fit a new target encoder|load a fitted target encoder|\n",
    "|------------|---------------|------------------------|----------------------------|\n",
    "|training|x|x||\n",
    "|test|x||x|\n",
    "|production|||x|"
   ]
  },
  {
   "cell_type": "code",
<<<<<<< HEAD
   "execution_count": 55,
=======
   "execution_count": 52,
>>>>>>> 2dc71ae (update)
   "id": "9211411d",
   "metadata": {},
   "outputs": [],
   "source": [
    "def feature_engineering_pipeline(df: pd.DataFrame, \n",
    "                                 feature_store_path: Path,\n",
    "                                 feature_file_name: str, \n",
    "                                 encoder_file_name: str, \n",
    "                                 target_file_name: Optional[str]=None, \n",
    "                                 fit_encoder: bool=False, \n",
    "                                 targets_included: bool=True) -> None:\n",
    "    \"\"\"\n",
    "    Converts a given (merged) housing data DataFrame into features and targets, performs feature engineering, and \n",
    "    stores the features along with possible targets and a fitted encoder\n",
    "    Args:\n",
    "        df (DataFrame): A pandas DataFrame holding all of the housing data, or just the features (see targets_included)\n",
    "        feature_store_path (Path): Path of the feature store\n",
    "        feature_file_name (str): Filename for the stored features.\n",
    "        encoder_file_name (str): Filename for the stored encoder.\n",
    "        target_file_name (str|None): Filename for the stored targets.\n",
    "        fit_encoder (bool): Whether a new target encoder should be fitted. If False, uses a previously stored encoder\n",
    "        targets_included (bool):  If True, df has all of the housing data including targets. If False, df has only the features.\n",
    "    \"\"\"\n",
    "    if targets_included:\n",
    "        X, y = separate_X_and_y(df, target='price')   \n",
    "    else:\n",
    "        if fit_encoder:\n",
    "            raise ValueError(\"Target encoder can not be trained without targets.\")\n",
    "        X = df.copy()\n",
    "\n",
    "    impute_missing(X)\n",
    "    datetime_decomposer(X, dt_column_name='date')\n",
    "    condition_encoder(X)\n",
    "    drop_unimportant_features(X)\n",
    "\n",
    "    feature_file_path = feature_store_path / feature_file_name\n",
    "    target_file_path = feature_store_path / target_file_name\n",
    "    encoder_file_path = feature_store_path / \"encoders\" / encoder_file_name\n",
    "\n",
    "    if fit_encoder:\n",
    "        t_encoder = target_encode(X, columns=['postcode', 'area'], target=y)\n",
    "        store_features(X, feature_file_path)\n",
    "        store_targets(y, target_file_path)\n",
    "        store_encoder(t_encoder, encoder_file_path)\n",
    "        \n",
    "    else:\n",
    "        with open(encoder_file_path, 'rb') as enc_f:\n",
    "            t_encoder = pickle.load(enc_f)\n",
    "        target_encode(X, columns=['postcode', 'area'], encoder=t_encoder)\n",
    "        store_features(X, feature_file_path)    \n",
    "        if targets_included:\n",
    "            store_targets(y, target_file_path)"
   ]
  },
  {
   "cell_type": "markdown",
   "id": "bc8469fa",
   "metadata": {},
   "source": [
    "## Assignment 6: One script to rule them all (2 points)\n",
    "\n",
    "The jupyter notebook we have played with this far is a good tool for exploratory and iterative development, but contains all sort of redundant code, which is no longer needed once we want to push the finalized version into production. As a final wrap-up exercise, we'll collect all of the functionalities created in this assignment to a single streamlined `etl.py` module. The file `etl.py` already exists as a template with all the necessary imports and global variables. \n",
    "\n",
    "### 6a) Let's begin with copying the functions...\n",
    "\n",
    "Copy the following functions to `etl.py`: file_reader, dataframe_merger, drop_futile_columns, correct_distance_unit, string_transformer, typo_fixer, data_extraction, batch_creator, create_checkpoint, separate_X_and_y, impute_missing, datetime_decomposer, condition_encoder, target_encode, store_features, store_targets, store_encoder, drop_unimportant_features, feature_engineering_pipeline. \n",
    "\n",
    "There are many ways you can achieve this. Here are three:\n",
    "1. Just copy-paste each function (carefully).\n",
    "1. Use jupyter cell magic. You can add the line `%%writefile -a etl.py` at the beginning of each cell that contains a function. Run each of these cells exactly once. This will append the cell content inside the `etl.py` file. The cells should not contain code outside the function definitions. Once you've done, remove the cell magic commands.\n",
    "1. Use `jupyter nbconvert` function. For example, running the following command will copy all your Python code (while ignoring Markdown cells) to a Python script that has the same name as the notebook. You can then clean the exported Python script and copy needed code such as the code skeleton of the `etl` function from `etl.py`. (Remember to rename your script to `etl.py` once you're done, otherwise you'll encounter issues when running some of the following code cells.)\n",
    "```bash\n",
    "jupyter nbconvert --to python --PythonExporter.exclude_markdown=True --no-prompt <jupyter-botebook-name>.ipynb \n",
    "```\n",
    "### 6b) ...and create a wrapper\n",
    "\n",
    "Create a wrapper function `etl` that loads, merges, cleans, and validates the specified data, extract features, and save the features (and possibly targets) in the feature store. Specifically, the function needs to perform as follows:\n",
    "- It first runs the `data_extraction` function, which will result in a merged, cleaned DataFrame. you can use the hard-coded `correct_condition_values=['poor', 'tolerable', 'satisfactory', 'good', 'excellent']` in the `data_extraction` function.\n",
    "- Then it uses Great Expectations Checkpoint to validate the DataFrame produced by the `data_extraction` function (The `batch_creator` and `create_checkpoint` functions are useful here). You can assume that the Great Expectations Context and the Expectation Suite are already configured. The GX Context is available via `context = gx.get_context(context_root_dir=gx_context_root_dir)` where `gx_context_root_dir` is the directory that contains all your Great Expectations config, which is the `gx` directory in our case. \n",
    "- If some validations fails, a warning should be printed. The warning can be as simple as a sentence like \"Some GX validations failed\". Hint: Please refer to [here](https://docs.greatexpectations.io/docs/reference/api/checkpoint/types/checkpoint_result/checkpointresult_class/) on how to check whether a validation succeeds or not. \n",
    "- Finally, no matter whether or not the DataFrame passes all Expectations, the `etl` function should feature-engineer the DataFrame using the `feature_engineering_pipeline` function. \n",
    "\n",
    "You can see a detailed description of the parameters of the `etl` function in [etl.py](./etl.py). \n",
    "\n",
    "Remember to include the completed `etl.py` in your submission."
   ]
  },
  {
   "cell_type": "markdown",
   "id": "27917cd9",
   "metadata": {},
   "source": [
    "Now, let's import the `etl` function and use it to process data from 2016."
   ]
  },
  {
   "cell_type": "code",
<<<<<<< HEAD
   "execution_count": 64,
=======
   "execution_count": 53,
>>>>>>> 2dc71ae (update)
   "id": "9b233388",
   "metadata": {},
   "outputs": [
    {
     "data": {
      "application/vnd.jupyter.widget-view+json": {
<<<<<<< HEAD
       "model_id": "eabf50927bb641d3841220e1b0df26ab",
=======
       "model_id": "82aa25c4ca9447c499855acf50bf445f",
>>>>>>> 2dc71ae (update)
       "version_major": 2,
       "version_minor": 0
      },
      "text/plain": [
       "Calculating Metrics:   0%|          | 0/43 [00:00<?, ?it/s]"
      ]
     },
     "metadata": {},
     "output_type": "display_data"
    },
    {
     "name": "stdout",
     "output_type": "stream",
     "text": [
      "1\n"
     ]
    }
   ],
   "source": [
    "from etl import etl\n",
    "\n",
    "params = {\n",
    "        \"path\": WORKING_DIR / \"data\" / \"2016\",\n",
    "        \"gx_context_root_dir\": WORKING_DIR / \"gx\",\n",
    "        \"gx_datasource_name\": \"housing_datasource\", \n",
    "        \"gx_checkpoint_name\": \"checkpoint_2016\",\n",
    "        \"gx_expectation_suite_name\": \"housing_expectation_suite\",\n",
    "        \"gx_run_name\": \"run_2016\",\n",
    "        \"feature_store_path\": WORKING_DIR / \"feature_store\",\n",
    "        \"feature_file_name\": \"2016_test_X.parquet\",\n",
    "        \"encoder_file_name\": \"housing_target_encoder.pkl\", \n",
    "        \"target_file_name\": \"2016_test_y.csv\", \n",
    "        \"fit_encoder\": False,\n",
    "        \"targets_included\": True\n",
    "    }\n",
    "etl(**params)"
   ]
  },
  {
   "cell_type": "markdown",
   "id": "85873e88",
   "metadata": {},
   "source": [
    "You should see a warning telling that some Expectations failed. \n",
    "\n",
    "**Please attach the failed Expectations to your PDF file**, e.g., \n",
    "\n",
    "<img src=\"./images/failed-expectation-example.png\" />\n",
    "\n",
    "(Please note that the provided example doesn't show the failed validations for data from 2016. It just illustrates which parts of the Checkpoint result file should be included in the submitted PDF.)"
   ]
  },
  {
   "cell_type": "markdown",
   "id": "8579ffd4",
   "metadata": {},
   "source": [
    "Let's train a model using only the important features of the training set."
   ]
  },
  {
   "cell_type": "code",
   "execution_count": 65,
   "id": "fb868880",
   "metadata": {},
   "outputs": [
    {
     "data": {
      "text/html": [
       "<style>#sk-container-id-1 {color: black;}#sk-container-id-1 pre{padding: 0;}#sk-container-id-1 div.sk-toggleable {background-color: white;}#sk-container-id-1 label.sk-toggleable__label {cursor: pointer;display: block;width: 100%;margin-bottom: 0;padding: 0.3em;box-sizing: border-box;text-align: center;}#sk-container-id-1 label.sk-toggleable__label-arrow:before {content: \"▸\";float: left;margin-right: 0.25em;color: #696969;}#sk-container-id-1 label.sk-toggleable__label-arrow:hover:before {color: black;}#sk-container-id-1 div.sk-estimator:hover label.sk-toggleable__label-arrow:before {color: black;}#sk-container-id-1 div.sk-toggleable__content {max-height: 0;max-width: 0;overflow: hidden;text-align: left;background-color: #f0f8ff;}#sk-container-id-1 div.sk-toggleable__content pre {margin: 0.2em;color: black;border-radius: 0.25em;background-color: #f0f8ff;}#sk-container-id-1 input.sk-toggleable__control:checked~div.sk-toggleable__content {max-height: 200px;max-width: 100%;overflow: auto;}#sk-container-id-1 input.sk-toggleable__control:checked~label.sk-toggleable__label-arrow:before {content: \"▾\";}#sk-container-id-1 div.sk-estimator input.sk-toggleable__control:checked~label.sk-toggleable__label {background-color: #d4ebff;}#sk-container-id-1 div.sk-label input.sk-toggleable__control:checked~label.sk-toggleable__label {background-color: #d4ebff;}#sk-container-id-1 input.sk-hidden--visually {border: 0;clip: rect(1px 1px 1px 1px);clip: rect(1px, 1px, 1px, 1px);height: 1px;margin: -1px;overflow: hidden;padding: 0;position: absolute;width: 1px;}#sk-container-id-1 div.sk-estimator {font-family: monospace;background-color: #f0f8ff;border: 1px dotted black;border-radius: 0.25em;box-sizing: border-box;margin-bottom: 0.5em;}#sk-container-id-1 div.sk-estimator:hover {background-color: #d4ebff;}#sk-container-id-1 div.sk-parallel-item::after {content: \"\";width: 100%;border-bottom: 1px solid gray;flex-grow: 1;}#sk-container-id-1 div.sk-label:hover label.sk-toggleable__label {background-color: #d4ebff;}#sk-container-id-1 div.sk-serial::before {content: \"\";position: absolute;border-left: 1px solid gray;box-sizing: border-box;top: 0;bottom: 0;left: 50%;z-index: 0;}#sk-container-id-1 div.sk-serial {display: flex;flex-direction: column;align-items: center;background-color: white;padding-right: 0.2em;padding-left: 0.2em;position: relative;}#sk-container-id-1 div.sk-item {position: relative;z-index: 1;}#sk-container-id-1 div.sk-parallel {display: flex;align-items: stretch;justify-content: center;background-color: white;position: relative;}#sk-container-id-1 div.sk-item::before, #sk-container-id-1 div.sk-parallel-item::before {content: \"\";position: absolute;border-left: 1px solid gray;box-sizing: border-box;top: 0;bottom: 0;left: 50%;z-index: -1;}#sk-container-id-1 div.sk-parallel-item {display: flex;flex-direction: column;z-index: 1;position: relative;background-color: white;}#sk-container-id-1 div.sk-parallel-item:first-child::after {align-self: flex-end;width: 50%;}#sk-container-id-1 div.sk-parallel-item:last-child::after {align-self: flex-start;width: 50%;}#sk-container-id-1 div.sk-parallel-item:only-child::after {width: 0;}#sk-container-id-1 div.sk-dashed-wrapped {border: 1px dashed gray;margin: 0 0.4em 0.5em 0.4em;box-sizing: border-box;padding-bottom: 0.4em;background-color: white;}#sk-container-id-1 div.sk-label label {font-family: monospace;font-weight: bold;display: inline-block;line-height: 1.2em;}#sk-container-id-1 div.sk-label-container {text-align: center;}#sk-container-id-1 div.sk-container {/* jupyter's `normalize.less` sets `[hidden] { display: none; }` but bootstrap.min.css set `[hidden] { display: none !important; }` so we also need the `!important` here to be able to override the default hidden behavior on the sphinx rendered scikit-learn.org. See: https://github.com/scikit-learn/scikit-learn/issues/21755 */display: inline-block !important;position: relative;}#sk-container-id-1 div.sk-text-repr-fallback {display: none;}</style><div id=\"sk-container-id-1\" class=\"sk-top-container\"><div class=\"sk-text-repr-fallback\"><pre>RandomForestRegressor(n_jobs=-1, random_state=42)</pre><b>In a Jupyter environment, please rerun this cell to show the HTML representation or trust the notebook. <br />On GitHub, the HTML representation is unable to render, please try loading this page with nbviewer.org.</b></div><div class=\"sk-container\" hidden><div class=\"sk-item\"><div class=\"sk-estimator sk-toggleable\"><input class=\"sk-toggleable__control sk-hidden--visually\" id=\"sk-estimator-id-1\" type=\"checkbox\" checked><label for=\"sk-estimator-id-1\" class=\"sk-toggleable__label sk-toggleable__label-arrow\">RandomForestRegressor</label><div class=\"sk-toggleable__content\"><pre>RandomForestRegressor(n_jobs=-1, random_state=42)</pre></div></div></div></div></div>"
      ],
      "text/plain": [
       "RandomForestRegressor(n_jobs=-1, random_state=42)"
      ]
     },
     "execution_count": 65,
     "metadata": {},
     "output_type": "execute_result"
    }
   ],
   "source": [
    "train_X_important = pd.read_parquet(feature_store_path / \"housing_train_X_important.parquet\")\n",
    "train_y = pd.read_csv(feature_store_path / \"housing_train_y.csv\").values.ravel()\n",
    "housing_rfr2 = RandomForestRegressor(n_jobs=-1, random_state=RANDOM_SEED)\n",
    "housing_rfr2.fit(train_X_important, train_y)"
   ]
  },
  {
   "cell_type": "markdown",
   "id": "866c4c95",
   "metadata": {},
   "source": [
    "Then, evaluate the `housing_rfr2` model using data from 2016. "
   ]
  },
  {
   "cell_type": "code",
   "execution_count": 66,
   "id": "ec527cd8",
   "metadata": {},
   "outputs": [
    {
     "name": "stdout",
     "output_type": "stream",
     "text": [
      "Model's R2 score using data from 2016 as test data: 0.9235937819603594\n"
     ]
    }
   ],
   "source": [
    "X_test_2016 = pd.read_parquet(WORKING_DIR/\"feature_store\"/\"2016_test_X.parquet\")\n",
    "y_test_2016 = pd.read_csv(WORKING_DIR/\"feature_store\"/\"2016_test_y.csv\")\n",
    "r2_score = housing_rfr2.score(X_test_2016, y_test_2016)\n",
    "print(f\"Model's R2 score using data from 2016 as test data: {r2_score}\")"
   ]
  },
  {
   "cell_type": "markdown",
   "id": "51d1ec34",
   "metadata": {},
   "source": [
    "Model's R2 score using data from 2016 as test data should be 0.92359378. "
   ]
  }
 ],
 "metadata": {
  "celltoolbar": "Create Assignment",
  "kernelspec": {
   "display_name": "Python 3 (ipykernel)",
   "language": "python",
   "name": "python3"
  },
  "language_info": {
   "codemirror_mode": {
    "name": "ipython",
    "version": 3
   },
   "file_extension": ".py",
   "mimetype": "text/x-python",
   "name": "python",
   "nbconvert_exporter": "python",
   "pygments_lexer": "ipython3",
   "version": "3.10.0"
  }
 },
 "nbformat": 4,
 "nbformat_minor": 5
}
